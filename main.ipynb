{
  "nbformat": 4,
  "nbformat_minor": 0,
  "metadata": {
    "colab": {
      "provenance": [],
      "gpuType": "T4",
      "toc_visible": true,
      "include_colab_link": true
    },
    "kernelspec": {
      "name": "python3",
      "display_name": "Python 3"
    },
    "language_info": {
      "name": "python"
    },
    "accelerator": "GPU"
        },
        "c577dbc57b9b4632877e6a9af71e4b04": {
          "model_module": "@jupyter-widgets/controls",
          "model_name": "HTMLModel",
          "model_module_version": "1.5.0",
          "state": {
            "_dom_classes": [],
            "_model_module": "@jupyter-widgets/controls",
            "_model_module_version": "1.5.0",
            "_model_name": "HTMLModel",
            "_view_count": null,
            "_view_module": "@jupyter-widgets/controls",
            "_view_module_version": "1.5.0",
            "_view_name": "HTMLView",
            "description": "",
            "description_tooltip": null,
            "layout": "IPY_MODEL_45059ab4888843b1891219c6072203cd",
            "placeholder": "​",
            "style": "IPY_MODEL_497a04e8da4347549a5dbf6d6202be50",
            "value": "README.md: 100%"
          }
        },
        "038756d695c64e289859afd8c9a6c632": {
          "model_module": "@jupyter-widgets/controls",
          "model_name": "FloatProgressModel",
          "model_module_version": "1.5.0",
          "state": {
            "_dom_classes": [],
            "_model_module": "@jupyter-widgets/controls",
            "_model_module_version": "1.5.0",
            "_model_name": "FloatProgressModel",
            "_view_count": null,
            "_view_module": "@jupyter-widgets/controls",
            "_view_module_version": "1.5.0",
            "_view_name": "ProgressView",
            "bar_style": "success",
            "description": "",
            "description_tooltip": null,
            "layout": "IPY_MODEL_d25b6e8f882f4232af6be0e289af5852",
            "max": 5157,
            "min": 0,
            "orientation": "horizontal",
            "style": "IPY_MODEL_b1a7390615134ab4b1187b87e9dfbbdf",
            "value": 5157
          }
        },
        "df8b40d0408f4ecf95dd955bbd7ba198": {
          "model_module": "@jupyter-widgets/controls",
          "model_name": "HTMLModel",
          "model_module_version": "1.5.0",
          "state": {
            "_dom_classes": [],
            "_model_module": "@jupyter-widgets/controls",
            "_model_module_version": "1.5.0",
            "_model_name": "HTMLModel",
            "_view_count": null,
            "_view_module": "@jupyter-widgets/controls",
            "_view_module_version": "1.5.0",
            "_view_name": "HTMLView",
            "description": "",
            "description_tooltip": null,
            "layout": "IPY_MODEL_0a3a642c245448fc8277e05079b979af",
            "placeholder": "​",
            "style": "IPY_MODEL_062ca696ef0b4407b0e170858113a98b",
            "value": " 5.16k/5.16k [00:00&lt;00:00, 314kB/s]"
          }
        },
        "5400a71c6c0846508ceceb4d9465feba": {
          "model_module": "@jupyter-widgets/base",
          "model_name": "LayoutModel",
          "model_module_version": "1.2.0",
          "state": {
            "_model_module": "@jupyter-widgets/base",
            "_model_module_version": "1.2.0",
            "_model_name": "LayoutModel",
            "_view_count": null,
            "_view_module": "@jupyter-widgets/base",
            "_view_module_version": "1.2.0",
            "_view_name": "LayoutView",
            "align_content": null,
            "align_items": null,
            "align_self": null,
            "border": null,
            "bottom": null,
            "display": null,
            "flex": null,
            "flex_flow": null,
            "grid_area": null,
            "grid_auto_columns": null,
            "grid_auto_flow": null,
            "grid_auto_rows": null,
            "grid_column": null,
            "grid_gap": null,
            "grid_row": null,
            "grid_template_areas": null,
            "grid_template_columns": null,
            "grid_template_rows": null,
            "height": null,
            "justify_content": null,
            "justify_items": null,
            "left": null,
            "margin": null,
            "max_height": null,
            "max_width": null,
            "min_height": null,
            "min_width": null,
            "object_fit": null,
            "object_position": null,
            "order": null,
            "overflow": null,
            "overflow_x": null,
            "overflow_y": null,
            "padding": null,
            "right": null,
            "top": null,
            "visibility": null,
            "width": null
          }
        },
        "45059ab4888843b1891219c6072203cd": {
          "model_module": "@jupyter-widgets/base",
          "model_name": "LayoutModel",
          "model_module_version": "1.2.0",
          "state": {
            "_model_module": "@jupyter-widgets/base",
            "_model_module_version": "1.2.0",
            "_model_name": "LayoutModel",
            "_view_count": null,
            "_view_module": "@jupyter-widgets/base",
            "_view_module_version": "1.2.0",
            "_view_name": "LayoutView",
            "align_content": null,
            "align_items": null,
            "align_self": null,
            "border": null,
            "bottom": null,
            "display": null,
            "flex": null,
            "flex_flow": null,
            "grid_area": null,
            "grid_auto_columns": null,
            "grid_auto_flow": null,
            "grid_auto_rows": null,
            "grid_column": null,
            "grid_gap": null,
            "grid_row": null,
            "grid_template_areas": null,
            "grid_template_columns": null,
            "grid_template_rows": null,
            "height": null,
            "justify_content": null,
            "justify_items": null,
            "left": null,
            "margin": null,
            "max_height": null,
            "max_width": null,
            "min_height": null,
            "min_width": null,
            "object_fit": null,
            "object_position": null,
            "order": null,
            "overflow": null,
            "overflow_x": null,
            "overflow_y": null,
            "padding": null,
            "right": null,
            "top": null,
            "visibility": null,
            "width": null
          }
        },
        "497a04e8da4347549a5dbf6d6202be50": {
          "model_module": "@jupyter-widgets/controls",
          "model_name": "DescriptionStyleModel",
          "model_module_version": "1.5.0",
          "state": {
            "_model_module": "@jupyter-widgets/controls",
            "_model_module_version": "1.5.0",
            "_model_name": "DescriptionStyleModel",
            "_view_count": null,
            "_view_module": "@jupyter-widgets/base",
            "_view_module_version": "1.2.0",
            "_view_name": "StyleView",
            "description_width": ""
          }
        },
        "d25b6e8f882f4232af6be0e289af5852": {
          "model_module": "@jupyter-widgets/base",
          "model_name": "LayoutModel",
          "model_module_version": "1.2.0",
          "state": {
            "_model_module": "@jupyter-widgets/base",
            "_model_module_version": "1.2.0",
            "_model_name": "LayoutModel",
            "_view_count": null,
            "_view_module": "@jupyter-widgets/base",
            "_view_module_version": "1.2.0",
            "_view_name": "LayoutView",
            "align_content": null,
            "align_items": null,
            "align_self": null,
            "border": null,
            "bottom": null,
            "display": null,
            "flex": null,
            "flex_flow": null,
            "grid_area": null,
            "grid_auto_columns": null,
            "grid_auto_flow": null,
            "grid_auto_rows": null,
            "grid_column": null,
            "grid_gap": null,
            "grid_row": null,
            "grid_template_areas": null,
            "grid_template_columns": null,
            "grid_template_rows": null,
            "height": null,
            "justify_content": null,
            "justify_items": null,
            "left": null,
            "margin": null,
            "max_height": null,
            "max_width": null,
            "min_height": null,
            "min_width": null,
            "object_fit": null,
            "object_position": null,
            "order": null,
            "overflow": null,
            "overflow_x": null,
            "overflow_y": null,
            "padding": null,
            "right": null,
            "top": null,
            "visibility": null,
            "width": null
          }
        },
        "b1a7390615134ab4b1187b87e9dfbbdf": {
          "model_module": "@jupyter-widgets/controls",
          "model_name": "ProgressStyleModel",
          "model_module_version": "1.5.0",
          "state": {
            "_model_module": "@jupyter-widgets/controls",
            "_model_module_version": "1.5.0",
            "_model_name": "ProgressStyleModel",
            "_view_count": null,
            "_view_module": "@jupyter-widgets/base",
            "_view_module_version": "1.2.0",
            "_view_name": "StyleView",
            "bar_color": null,
            "description_width": ""
          }
        },
        "0a3a642c245448fc8277e05079b979af": {
          "model_module": "@jupyter-widgets/base",
          "model_name": "LayoutModel",
          "model_module_version": "1.2.0",
          "state": {
            "_model_module": "@jupyter-widgets/base",
            "_model_module_version": "1.2.0",
            "_model_name": "LayoutModel",
            "_view_count": null,
            "_view_module": "@jupyter-widgets/base",
            "_view_module_version": "1.2.0",
            "_view_name": "LayoutView",
            "align_content": null,
            "align_items": null,
            "align_self": null,
            "border": null,
            "bottom": null,
            "display": null,
            "flex": null,
            "flex_flow": null,
            "grid_area": null,
            "grid_auto_columns": null,
            "grid_auto_flow": null,
            "grid_auto_rows": null,
            "grid_column": null,
            "grid_gap": null,
            "grid_row": null,
            "grid_template_areas": null,
            "grid_template_columns": null,
            "grid_template_rows": null,
            "height": null,
            "justify_content": null,
            "justify_items": null,
            "left": null,
            "margin": null,
            "max_height": null,
            "max_width": null,
            "min_height": null,
            "min_width": null,
            "object_fit": null,
            "object_position": null,
            "order": null,
            "overflow": null,
            "overflow_x": null,
            "overflow_y": null,
            "padding": null,
            "right": null,
            "top": null,
            "visibility": null,
            "width": null
          }
        },
        "062ca696ef0b4407b0e170858113a98b": {
          "model_module": "@jupyter-widgets/controls",
          "model_name": "DescriptionStyleModel",
          "model_module_version": "1.5.0",
          "state": {
            "_model_module": "@jupyter-widgets/controls",
            "_model_module_version": "1.5.0",
            "_model_name": "DescriptionStyleModel",
            "_view_count": null,
            "_view_module": "@jupyter-widgets/base",
            "_view_module_version": "1.2.0",
            "_view_name": "StyleView",
            "description_width": ""
          }
        },
        "170ce26b28d94c148390e706dff98878": {
          "model_module": "@jupyter-widgets/controls",
          "model_name": "HBoxModel",
          "model_module_version": "1.5.0",
          "state": {
            "_dom_classes": [],
            "_model_module": "@jupyter-widgets/controls",
            "_model_module_version": "1.5.0",
            "_model_name": "HBoxModel",
            "_view_count": null,
            "_view_module": "@jupyter-widgets/controls",
            "_view_module_version": "1.5.0",
            "_view_name": "HBoxView",
            "box_style": "",
            "children": [
              "IPY_MODEL_bb58186b66ce4a378e1b26780fd0a324",
              "IPY_MODEL_eef506a44e374a998edfbf5f0793fe15",
              "IPY_MODEL_69f57c0e93a44a42925c12a1248d42d2"
            ],
            "layout": "IPY_MODEL_06cd755745bf4e049fda8f1afaf2a893"
          }
        },
        "bb58186b66ce4a378e1b26780fd0a324": {
          "model_module": "@jupyter-widgets/controls",
          "model_name": "HTMLModel",
          "model_module_version": "1.5.0",
          "state": {
            "_dom_classes": [],
            "_model_module": "@jupyter-widgets/controls",
            "_model_module_version": "1.5.0",
            "_model_name": "HTMLModel",
            "_view_count": null,
            "_view_module": "@jupyter-widgets/controls",
            "_view_module_version": "1.5.0",
            "_view_name": "HTMLView",
            "description": "",
            "description_tooltip": null,
            "layout": "IPY_MODEL_a97e50da9ffc4149abf721bb6ab7d43b",
            "placeholder": "​",
            "style": "IPY_MODEL_003cdaafecc745deaaa5e8130fb5ca02",
            "value": "train-00000-of-00001.parquet: 100%"
          }
        },
        "eef506a44e374a998edfbf5f0793fe15": {
          "model_module": "@jupyter-widgets/controls",
          "model_name": "FloatProgressModel",
          "model_module_version": "1.5.0",
          "state": {
            "_dom_classes": [],
            "_model_module": "@jupyter-widgets/controls",
            "_model_module_version": "1.5.0",
            "_model_name": "FloatProgressModel",
            "_view_count": null,
            "_view_module": "@jupyter-widgets/controls",
            "_view_module_version": "1.5.0",
            "_view_name": "ProgressView",
            "bar_style": "success",
            "description": "",
            "description_tooltip": null,
            "layout": "IPY_MODEL_4bf26acf00a042c08272ab61a834de8d",
            "max": 119705255,
            "min": 0,
            "orientation": "horizontal",
            "style": "IPY_MODEL_1e6ef90be30f4247bac18ba16ae8afe1",
            "value": 119705255
          }
        },
        "69f57c0e93a44a42925c12a1248d42d2": {
          "model_module": "@jupyter-widgets/controls",
          "model_name": "HTMLModel",
          "model_module_version": "1.5.0",
          "state": {
            "_dom_classes": [],
            "_model_module": "@jupyter-widgets/controls",
            "_model_module_version": "1.5.0",
            "_model_name": "HTMLModel",
            "_view_count": null,
            "_view_module": "@jupyter-widgets/controls",
            "_view_module_version": "1.5.0",
            "_view_name": "HTMLView",
            "description": "",
            "description_tooltip": null,
            "layout": "IPY_MODEL_5cb24afb614d4b8d924c77a70d9d804c",
            "placeholder": "​",
            "style": "IPY_MODEL_63423bf217034214aa23e661ba4e77cf",
            "value": " 120M/120M [00:01&lt;00:00, 104MB/s]"
          }
        },
        "06cd755745bf4e049fda8f1afaf2a893": {
          "model_module": "@jupyter-widgets/base",
          "model_name": "LayoutModel",
          "model_module_version": "1.2.0",
          "state": {
            "_model_module": "@jupyter-widgets/base",
            "_model_module_version": "1.2.0",
            "_model_name": "LayoutModel",
            "_view_count": null,
            "_view_module": "@jupyter-widgets/base",
            "_view_module_version": "1.2.0",
            "_view_name": "LayoutView",
            "align_content": null,
            "align_items": null,
            "align_self": null,
            "border": null,
            "bottom": null,
            "display": null,
            "flex": null,
            "flex_flow": null,
            "grid_area": null,
            "grid_auto_columns": null,
            "grid_auto_flow": null,
            "grid_auto_rows": null,
            "grid_column": null,
            "grid_gap": null,
            "grid_row": null,
            "grid_template_areas": null,
            "grid_template_columns": null,
            "grid_template_rows": null,
            "height": null,
            "justify_content": null,
            "justify_items": null,
            "left": null,
            "margin": null,
            "max_height": null,
            "max_width": null,
            "min_height": null,
            "min_width": null,
            "object_fit": null,
            "object_position": null,
            "order": null,
            "overflow": null,
            "overflow_x": null,
            "overflow_y": null,
            "padding": null,
            "right": null,
            "top": null,
            "visibility": null,
            "width": null
          }
        },
        "a97e50da9ffc4149abf721bb6ab7d43b": {
          "model_module": "@jupyter-widgets/base",
          "model_name": "LayoutModel",
          "model_module_version": "1.2.0",
          "state": {
            "_model_module": "@jupyter-widgets/base",
            "_model_module_version": "1.2.0",
            "_model_name": "LayoutModel",
            "_view_count": null,
            "_view_module": "@jupyter-widgets/base",
            "_view_module_version": "1.2.0",
            "_view_name": "LayoutView",
            "align_content": null,
            "align_items": null,
            "align_self": null,
            "border": null,
            "bottom": null,
            "display": null,
            "flex": null,
            "flex_flow": null,
            "grid_area": null,
            "grid_auto_columns": null,
            "grid_auto_flow": null,
            "grid_auto_rows": null,
            "grid_column": null,
            "grid_gap": null,
            "grid_row": null,
            "grid_template_areas": null,
            "grid_template_columns": null,
            "grid_template_rows": null,
            "height": null,
            "justify_content": null,
            "justify_items": null,
            "left": null,
            "margin": null,
            "max_height": null,
            "max_width": null,
            "min_height": null,
            "min_width": null,
            "object_fit": null,
            "object_position": null,
            "order": null,
            "overflow": null,
            "overflow_x": null,
            "overflow_y": null,
            "padding": null,
            "right": null,
            "top": null,
            "visibility": null,
            "width": null
          }
        },
        "003cdaafecc745deaaa5e8130fb5ca02": {
          "model_module": "@jupyter-widgets/controls",
          "model_name": "DescriptionStyleModel",
          "model_module_version": "1.5.0",
          "state": {
            "_model_module": "@jupyter-widgets/controls",
            "_model_module_version": "1.5.0",
            "_model_name": "DescriptionStyleModel",
            "_view_count": null,
            "_view_module": "@jupyter-widgets/base",
            "_view_module_version": "1.2.0",
            "_view_name": "StyleView",
            "description_width": ""
          }
        },
        "4bf26acf00a042c08272ab61a834de8d": {
          "model_module": "@jupyter-widgets/base",
          "model_name": "LayoutModel",
          "model_module_version": "1.2.0",
          "state": {
            "_model_module": "@jupyter-widgets/base",
            "_model_module_version": "1.2.0",
            "_model_name": "LayoutModel",
            "_view_count": null,
            "_view_module": "@jupyter-widgets/base",
            "_view_module_version": "1.2.0",
            "_view_name": "LayoutView",
            "align_content": null,
            "align_items": null,
            "align_self": null,
            "border": null,
            "bottom": null,
            "display": null,
            "flex": null,
            "flex_flow": null,
            "grid_area": null,
            "grid_auto_columns": null,
            "grid_auto_flow": null,
            "grid_auto_rows": null,
            "grid_column": null,
            "grid_gap": null,
            "grid_row": null,
            "grid_template_areas": null,
            "grid_template_columns": null,
            "grid_template_rows": null,
            "height": null,
            "justify_content": null,
            "justify_items": null,
            "left": null,
            "margin": null,
            "max_height": null,
            "max_width": null,
            "min_height": null,
            "min_width": null,
            "object_fit": null,
            "object_position": null,
            "order": null,
            "overflow": null,
            "overflow_x": null,
            "overflow_y": null,
            "padding": null,
            "right": null,
            "top": null,
            "visibility": null,
            "width": null
          }
        },
        "1e6ef90be30f4247bac18ba16ae8afe1": {
          "model_module": "@jupyter-widgets/controls",
          "model_name": "ProgressStyleModel",
          "model_module_version": "1.5.0",
          "state": {
            "_model_module": "@jupyter-widgets/controls",
            "_model_module_version": "1.5.0",
            "_model_name": "ProgressStyleModel",
            "_view_count": null,
            "_view_module": "@jupyter-widgets/base",
            "_view_module_version": "1.2.0",
            "_view_name": "StyleView",
            "bar_color": null,
            "description_width": ""
          }
        },
        "5cb24afb614d4b8d924c77a70d9d804c": {
          "model_module": "@jupyter-widgets/base",
          "model_name": "LayoutModel",
          "model_module_version": "1.2.0",
          "state": {
            "_model_module": "@jupyter-widgets/base",
            "_model_module_version": "1.2.0",
            "_model_name": "LayoutModel",
            "_view_count": null,
            "_view_module": "@jupyter-widgets/base",
            "_view_module_version": "1.2.0",
            "_view_name": "LayoutView",
            "align_content": null,
            "align_items": null,
            "align_self": null,
            "border": null,
            "bottom": null,
            "display": null,
            "flex": null,
            "flex_flow": null,
            "grid_area": null,
            "grid_auto_columns": null,
            "grid_auto_flow": null,
            "grid_auto_rows": null,
            "grid_column": null,
            "grid_gap": null,
            "grid_row": null,
            "grid_template_areas": null,
            "grid_template_columns": null,
            "grid_template_rows": null,
            "height": null,
            "justify_content": null,
            "justify_items": null,
            "left": null,
            "margin": null,
            "max_height": null,
            "max_width": null,
            "min_height": null,
            "min_width": null,
            "object_fit": null,
            "object_position": null,
            "order": null,
            "overflow": null,
            "overflow_x": null,
            "overflow_y": null,
            "padding": null,
            "right": null,
            "top": null,
            "visibility": null,
            "width": null
          }
        },
        "63423bf217034214aa23e661ba4e77cf": {
          "model_module": "@jupyter-widgets/controls",
          "model_name": "DescriptionStyleModel",
          "model_module_version": "1.5.0",
          "state": {
            "_model_module": "@jupyter-widgets/controls",
            "_model_module_version": "1.5.0",
            "_model_name": "DescriptionStyleModel",
            "_view_count": null,
            "_view_module": "@jupyter-widgets/base",
            "_view_module_version": "1.2.0",
            "_view_name": "StyleView",
            "description_width": ""
          }
        },
        "2ce502bb8da54e6f9cc49b2159c609ee": {
          "model_module": "@jupyter-widgets/controls",
          "model_name": "HBoxModel",
          "model_module_version": "1.5.0",
          "state": {
            "_dom_classes": [],
            "_model_module": "@jupyter-widgets/controls",
            "_model_module_version": "1.5.0",
            "_model_name": "HBoxModel",
            "_view_count": null,
            "_view_module": "@jupyter-widgets/controls",
            "_view_module_version": "1.5.0",
            "_view_name": "HBoxView",
            "box_style": "",
            "children": [
              "IPY_MODEL_b4218e48118346b198a28edfd168bd34",
              "IPY_MODEL_510e640bc8c04f52a8e6858383060ee8",
              "IPY_MODEL_dad60b65761347c79b4c8ea4836a9994"
            ],
            "layout": "IPY_MODEL_c7f214c0e196419ba160ef478c7aa9dc"
          }
        },
        "b4218e48118346b198a28edfd168bd34": {
          "model_module": "@jupyter-widgets/controls",
          "model_name": "HTMLModel",
          "model_module_version": "1.5.0",
          "state": {
            "_dom_classes": [],
            "_model_module": "@jupyter-widgets/controls",
            "_model_module_version": "1.5.0",
            "_model_name": "HTMLModel",
            "_view_count": null,
            "_view_module": "@jupyter-widgets/controls",
            "_view_module_version": "1.5.0",
            "_view_name": "HTMLView",
            "description": "",
            "description_tooltip": null,
            "layout": "IPY_MODEL_3dd646a51e1d4c318e38dd4cb697966f",
            "placeholder": "​",
            "style": "IPY_MODEL_710713a6214b4bb5841b03a98907fdd0",
            "value": "test-00000-of-00001.parquet: 100%"
          }
        },
        "510e640bc8c04f52a8e6858383060ee8": {
          "model_module": "@jupyter-widgets/controls",
          "model_name": "FloatProgressModel",
          "model_module_version": "1.5.0",
          "state": {
            "_dom_classes": [],
            "_model_module": "@jupyter-widgets/controls",
            "_model_module_version": "1.5.0",
            "_model_name": "FloatProgressModel",
            "_view_count": null,
            "_view_module": "@jupyter-widgets/controls",
            "_view_module_version": "1.5.0",
            "_view_name": "ProgressView",
            "bar_style": "success",
            "description": "",
            "description_tooltip": null,
            "layout": "IPY_MODEL_4471b7e792344798bf5f785aaf810842",
            "max": 23940850,
            "min": 0,
            "orientation": "horizontal",
            "style": "IPY_MODEL_e87a121d140a49c1bc7821ba4c072d63",
            "value": 23940850
          }
        },
        "dad60b65761347c79b4c8ea4836a9994": {
          "model_module": "@jupyter-widgets/controls",
          "model_name": "HTMLModel",
          "model_module_version": "1.5.0",
          "state": {
            "_dom_classes": [],
            "_model_module": "@jupyter-widgets/controls",
            "_model_module_version": "1.5.0",
            "_model_name": "HTMLModel",
            "_view_count": null,
            "_view_module": "@jupyter-widgets/controls",
            "_view_module_version": "1.5.0",
            "_view_name": "HTMLView",
            "description": "",
            "description_tooltip": null,
            "layout": "IPY_MODEL_f975d9fbbbe5411da5b8b0bb298287a1",
            "placeholder": "​",
            "style": "IPY_MODEL_2ca75505078c4733a803c5345a447c8a",
            "value": " 23.9M/23.9M [00:00&lt;00:00, 85.3MB/s]"
          }
        },
        "c7f214c0e196419ba160ef478c7aa9dc": {
          "model_module": "@jupyter-widgets/base",
          "model_name": "LayoutModel",
          "model_module_version": "1.2.0",
          "state": {
            "_model_module": "@jupyter-widgets/base",
            "_model_module_version": "1.2.0",
            "_model_name": "LayoutModel",
            "_view_count": null,
            "_view_module": "@jupyter-widgets/base",
            "_view_module_version": "1.2.0",
            "_view_name": "LayoutView",
            "align_content": null,
            "align_items": null,
            "align_self": null,
            "border": null,
            "bottom": null,
            "display": null,
            "flex": null,
            "flex_flow": null,
            "grid_area": null,
            "grid_auto_columns": null,
            "grid_auto_flow": null,
            "grid_auto_rows": null,
            "grid_column": null,
            "grid_gap": null,
            "grid_row": null,
            "grid_template_areas": null,
            "grid_template_columns": null,
            "grid_template_rows": null,
            "height": null,
            "justify_content": null,
            "justify_items": null,
            "left": null,
            "margin": null,
            "max_height": null,
            "max_width": null,
            "min_height": null,
            "min_width": null,
            "object_fit": null,
            "object_position": null,
            "order": null,
            "overflow": null,
            "overflow_x": null,
            "overflow_y": null,
            "padding": null,
            "right": null,
            "top": null,
            "visibility": null,
            "width": null
          }
        },
        "3dd646a51e1d4c318e38dd4cb697966f": {
          "model_module": "@jupyter-widgets/base",
          "model_name": "LayoutModel",
          "model_module_version": "1.2.0",
          "state": {
            "_model_module": "@jupyter-widgets/base",
            "_model_module_version": "1.2.0",
            "_model_name": "LayoutModel",
            "_view_count": null,
            "_view_module": "@jupyter-widgets/base",
            "_view_module_version": "1.2.0",
            "_view_name": "LayoutView",
            "align_content": null,
            "align_items": null,
            "align_self": null,
            "border": null,
            "bottom": null,
            "display": null,
            "flex": null,
            "flex_flow": null,
            "grid_area": null,
            "grid_auto_columns": null,
            "grid_auto_flow": null,
            "grid_auto_rows": null,
            "grid_column": null,
            "grid_gap": null,
            "grid_row": null,
            "grid_template_areas": null,
            "grid_template_columns": null,
            "grid_template_rows": null,
            "height": null,
            "justify_content": null,
            "justify_items": null,
            "left": null,
            "margin": null,
            "max_height": null,
            "max_width": null,
            "min_height": null,
            "min_width": null,
            "object_fit": null,
            "object_position": null,
            "order": null,
            "overflow": null,
            "overflow_x": null,
            "overflow_y": null,
            "padding": null,
            "right": null,
            "top": null,
            "visibility": null,
            "width": null
          }
        },
        "710713a6214b4bb5841b03a98907fdd0": {
          "model_module": "@jupyter-widgets/controls",
          "model_name": "DescriptionStyleModel",
          "model_module_version": "1.5.0",
          "state": {
            "_model_module": "@jupyter-widgets/controls",
            "_model_module_version": "1.5.0",
            "_model_name": "DescriptionStyleModel",
            "_view_count": null,
            "_view_module": "@jupyter-widgets/base",
            "_view_module_version": "1.2.0",
            "_view_name": "StyleView",
            "description_width": ""
          }
        },
        "4471b7e792344798bf5f785aaf810842": {
          "model_module": "@jupyter-widgets/base",
          "model_name": "LayoutModel",
          "model_module_version": "1.2.0",
          "state": {
            "_model_module": "@jupyter-widgets/base",
            "_model_module_version": "1.2.0",
            "_model_name": "LayoutModel",
            "_view_count": null,
            "_view_module": "@jupyter-widgets/base",
            "_view_module_version": "1.2.0",
            "_view_name": "LayoutView",
            "align_content": null,
            "align_items": null,
            "align_self": null,
            "border": null,
            "bottom": null,
            "display": null,
            "flex": null,
            "flex_flow": null,
            "grid_area": null,
            "grid_auto_columns": null,
            "grid_auto_flow": null,
            "grid_auto_rows": null,
            "grid_column": null,
            "grid_gap": null,
            "grid_row": null,
            "grid_template_areas": null,
            "grid_template_columns": null,
            "grid_template_rows": null,
            "height": null,
            "justify_content": null,
            "justify_items": null,
            "left": null,
            "margin": null,
            "max_height": null,
            "max_width": null,
            "min_height": null,
            "min_width": null,
            "object_fit": null,
            "object_position": null,
            "order": null,
            "overflow": null,
            "overflow_x": null,
            "overflow_y": null,
            "padding": null,
            "right": null,
            "top": null,
            "visibility": null,
            "width": null
          }
        },
        "e87a121d140a49c1bc7821ba4c072d63": {
          "model_module": "@jupyter-widgets/controls",
          "model_name": "ProgressStyleModel",
          "model_module_version": "1.5.0",
          "state": {
            "_model_module": "@jupyter-widgets/controls",
            "_model_module_version": "1.5.0",
            "_model_name": "ProgressStyleModel",
            "_view_count": null,
            "_view_module": "@jupyter-widgets/base",
            "_view_module_version": "1.2.0",
            "_view_name": "StyleView",
            "bar_color": null,
            "description_width": ""
          }
        },
        "f975d9fbbbe5411da5b8b0bb298287a1": {
          "model_module": "@jupyter-widgets/base",
          "model_name": "LayoutModel",
          "model_module_version": "1.2.0",
          "state": {
            "_model_module": "@jupyter-widgets/base",
            "_model_module_version": "1.2.0",
            "_model_name": "LayoutModel",
            "_view_count": null,
            "_view_module": "@jupyter-widgets/base",
            "_view_module_version": "1.2.0",
            "_view_name": "LayoutView",
            "align_content": null,
            "align_items": null,
            "align_self": null,
            "border": null,
            "bottom": null,
            "display": null,
            "flex": null,
            "flex_flow": null,
            "grid_area": null,
            "grid_auto_columns": null,
            "grid_auto_flow": null,
            "grid_auto_rows": null,
            "grid_column": null,
            "grid_gap": null,
            "grid_row": null,
            "grid_template_areas": null,
            "grid_template_columns": null,
            "grid_template_rows": null,
            "height": null,
            "justify_content": null,
            "justify_items": null,
            "left": null,
            "margin": null,
            "max_height": null,
            "max_width": null,
            "min_height": null,
            "min_width": null,
            "object_fit": null,
            "object_position": null,
            "order": null,
            "overflow": null,
            "overflow_x": null,
            "overflow_y": null,
            "padding": null,
            "right": null,
            "top": null,
            "visibility": null,
            "width": null
          }
        },
        "2ca75505078c4733a803c5345a447c8a": {
          "model_module": "@jupyter-widgets/controls",
          "model_name": "DescriptionStyleModel",
          "model_module_version": "1.5.0",
          "state": {
            "_model_module": "@jupyter-widgets/controls",
            "_model_module_version": "1.5.0",
            "_model_name": "DescriptionStyleModel",
            "_view_count": null,
            "_view_module": "@jupyter-widgets/base",
            "_view_module_version": "1.2.0",
            "_view_name": "StyleView",
            "description_width": ""
          }
        },
        "bb483cd8808e4219bca4c80c54e35ef2": {
          "model_module": "@jupyter-widgets/controls",
          "model_name": "HBoxModel",
          "model_module_version": "1.5.0",
          "state": {
            "_dom_classes": [],
            "_model_module": "@jupyter-widgets/controls",
            "_model_module_version": "1.5.0",
            "_model_name": "HBoxModel",
            "_view_count": null,
            "_view_module": "@jupyter-widgets/controls",
            "_view_module_version": "1.5.0",
            "_view_name": "HBoxView",
            "box_style": "",
            "children": [
              "IPY_MODEL_40dfd7f932e14738b1e404a406a4042f",
              "IPY_MODEL_84c2f2640a984fb1aed69dd95f645162",
              "IPY_MODEL_66ac8fdf0dd14124b6e021aaf3e97752"
            ],
            "layout": "IPY_MODEL_208368c3fe9641e18176d62360af38e4"
          }
        },
        "40dfd7f932e14738b1e404a406a4042f": {
          "model_module": "@jupyter-widgets/controls",
          "model_name": "HTMLModel",
          "model_module_version": "1.5.0",
          "state": {
            "_dom_classes": [],
            "_model_module": "@jupyter-widgets/controls",
            "_model_module_version": "1.5.0",
            "_model_name": "HTMLModel",
            "_view_count": null,
            "_view_module": "@jupyter-widgets/controls",
            "_view_module_version": "1.5.0",
            "_view_name": "HTMLView",
            "description": "",
            "description_tooltip": null,
            "layout": "IPY_MODEL_da744729681d4fdaaa4a474d4efcc0c3",
            "placeholder": "​",
            "style": "IPY_MODEL_4d51e85cd1ed4fc09d43b43657ca8554",
            "value": "Generating train split: 100%"
          }
        },
        "84c2f2640a984fb1aed69dd95f645162": {
          "model_module": "@jupyter-widgets/controls",
          "model_name": "FloatProgressModel",
          "model_module_version": "1.5.0",
          "state": {
            "_dom_classes": [],
            "_model_module": "@jupyter-widgets/controls",
            "_model_module_version": "1.5.0",
            "_model_name": "FloatProgressModel",
            "_view_count": null,
            "_view_module": "@jupyter-widgets/controls",
            "_view_module_version": "1.5.0",
            "_view_name": "ProgressView",
            "bar_style": "success",
            "description": "",
            "description_tooltip": null,
            "layout": "IPY_MODEL_ea77c20db8ab46d4bb51e59534fcf4de",
            "max": 50000,
            "min": 0,
            "orientation": "horizontal",
            "style": "IPY_MODEL_5721e6a634c943a1a9ef51810125941e",
            "value": 50000
          }
        },
        "66ac8fdf0dd14124b6e021aaf3e97752": {
          "model_module": "@jupyter-widgets/controls",
          "model_name": "HTMLModel",
          "model_module_version": "1.5.0",
          "state": {
            "_dom_classes": [],
            "_model_module": "@jupyter-widgets/controls",
            "_model_module_version": "1.5.0",
            "_model_name": "HTMLModel",
            "_view_count": null,
            "_view_module": "@jupyter-widgets/controls",
            "_view_module_version": "1.5.0",
            "_view_name": "HTMLView",
            "description": "",
            "description_tooltip": null,
            "layout": "IPY_MODEL_67174c72a41748228d66d1e5ec943660",
            "placeholder": "​",
            "style": "IPY_MODEL_500254f051de403c8a95328e53680997",
            "value": " 50000/50000 [00:01&lt;00:00, 57826.33 examples/s]"
          }
        },
        "208368c3fe9641e18176d62360af38e4": {
          "model_module": "@jupyter-widgets/base",
          "model_name": "LayoutModel",
          "model_module_version": "1.2.0",
          "state": {
            "_model_module": "@jupyter-widgets/base",
            "_model_module_version": "1.2.0",
            "_model_name": "LayoutModel",
            "_view_count": null,
            "_view_module": "@jupyter-widgets/base",
            "_view_module_version": "1.2.0",
            "_view_name": "LayoutView",
            "align_content": null,
            "align_items": null,
            "align_self": null,
            "border": null,
            "bottom": null,
            "display": null,
            "flex": null,
            "flex_flow": null,
            "grid_area": null,
            "grid_auto_columns": null,
            "grid_auto_flow": null,
            "grid_auto_rows": null,
            "grid_column": null,
            "grid_gap": null,
            "grid_row": null,
            "grid_template_areas": null,
            "grid_template_columns": null,
            "grid_template_rows": null,
            "height": null,
            "justify_content": null,
            "justify_items": null,
            "left": null,
            "margin": null,
            "max_height": null,
            "max_width": null,
            "min_height": null,
            "min_width": null,
            "object_fit": null,
            "object_position": null,
            "order": null,
            "overflow": null,
            "overflow_x": null,
            "overflow_y": null,
            "padding": null,
            "right": null,
            "top": null,
            "visibility": null,
            "width": null
          }
        },
        "da744729681d4fdaaa4a474d4efcc0c3": {
          "model_module": "@jupyter-widgets/base",
          "model_name": "LayoutModel",
          "model_module_version": "1.2.0",
          "state": {
            "_model_module": "@jupyter-widgets/base",
            "_model_module_version": "1.2.0",
            "_model_name": "LayoutModel",
            "_view_count": null,
            "_view_module": "@jupyter-widgets/base",
            "_view_module_version": "1.2.0",
            "_view_name": "LayoutView",
            "align_content": null,
            "align_items": null,
            "align_self": null,
            "border": null,
            "bottom": null,
            "display": null,
            "flex": null,
            "flex_flow": null,
            "grid_area": null,
            "grid_auto_columns": null,
            "grid_auto_flow": null,
            "grid_auto_rows": null,
            "grid_column": null,
            "grid_gap": null,
            "grid_row": null,
            "grid_template_areas": null,
            "grid_template_columns": null,
            "grid_template_rows": null,
            "height": null,
            "justify_content": null,
            "justify_items": null,
            "left": null,
            "margin": null,
            "max_height": null,
            "max_width": null,
            "min_height": null,
            "min_width": null,
            "object_fit": null,
            "object_position": null,
            "order": null,
            "overflow": null,
            "overflow_x": null,
            "overflow_y": null,
            "padding": null,
            "right": null,
            "top": null,
            "visibility": null,
            "width": null
          }
        },
        "4d51e85cd1ed4fc09d43b43657ca8554": {
          "model_module": "@jupyter-widgets/controls",
          "model_name": "DescriptionStyleModel",
          "model_module_version": "1.5.0",
          "state": {
            "_model_module": "@jupyter-widgets/controls",
            "_model_module_version": "1.5.0",
            "_model_name": "DescriptionStyleModel",
            "_view_count": null,
            "_view_module": "@jupyter-widgets/base",
            "_view_module_version": "1.2.0",
            "_view_name": "StyleView",
            "description_width": ""
          }
        },
        "ea77c20db8ab46d4bb51e59534fcf4de": {
          "model_module": "@jupyter-widgets/base",
          "model_name": "LayoutModel",
          "model_module_version": "1.2.0",
          "state": {
            "_model_module": "@jupyter-widgets/base",
            "_model_module_version": "1.2.0",
            "_model_name": "LayoutModel",
            "_view_count": null,
            "_view_module": "@jupyter-widgets/base",
            "_view_module_version": "1.2.0",
            "_view_name": "LayoutView",
            "align_content": null,
            "align_items": null,
            "align_self": null,
            "border": null,
            "bottom": null,
            "display": null,
            "flex": null,
            "flex_flow": null,
            "grid_area": null,
            "grid_auto_columns": null,
            "grid_auto_flow": null,
            "grid_auto_rows": null,
            "grid_column": null,
            "grid_gap": null,
            "grid_row": null,
            "grid_template_areas": null,
            "grid_template_columns": null,
            "grid_template_rows": null,
            "height": null,
            "justify_content": null,
            "justify_items": null,
            "left": null,
            "margin": null,
            "max_height": null,
            "max_width": null,
            "min_height": null,
            "min_width": null,
            "object_fit": null,
            "object_position": null,
            "order": null,
            "overflow": null,
            "overflow_x": null,
            "overflow_y": null,
            "padding": null,
            "right": null,
            "top": null,
            "visibility": null,
            "width": null
          }
        },
        "5721e6a634c943a1a9ef51810125941e": {
          "model_module": "@jupyter-widgets/controls",
          "model_name": "ProgressStyleModel",
          "model_module_version": "1.5.0",
          "state": {
            "_model_module": "@jupyter-widgets/controls",
            "_model_module_version": "1.5.0",
            "_model_name": "ProgressStyleModel",
            "_view_count": null,
            "_view_module": "@jupyter-widgets/base",
            "_view_module_version": "1.2.0",
            "_view_name": "StyleView",
            "bar_color": null,
            "description_width": ""
          }
        },
        "67174c72a41748228d66d1e5ec943660": {
          "model_module": "@jupyter-widgets/base",
          "model_name": "LayoutModel",
          "model_module_version": "1.2.0",
          "state": {
            "_model_module": "@jupyter-widgets/base",
            "_model_module_version": "1.2.0",
            "_model_name": "LayoutModel",
            "_view_count": null,
            "_view_module": "@jupyter-widgets/base",
            "_view_module_version": "1.2.0",
            "_view_name": "LayoutView",
            "align_content": null,
            "align_items": null,
            "align_self": null,
            "border": null,
            "bottom": null,
            "display": null,
            "flex": null,
            "flex_flow": null,
            "grid_area": null,
            "grid_auto_columns": null,
            "grid_auto_flow": null,
            "grid_auto_rows": null,
            "grid_column": null,
            "grid_gap": null,
            "grid_row": null,
            "grid_template_areas": null,
            "grid_template_columns": null,
            "grid_template_rows": null,
            "height": null,
            "justify_content": null,
            "justify_items": null,
            "left": null,
            "margin": null,
            "max_height": null,
            "max_width": null,
            "min_height": null,
            "min_width": null,
            "object_fit": null,
            "object_position": null,
            "order": null,
            "overflow": null,
            "overflow_x": null,
            "overflow_y": null,
            "padding": null,
            "right": null,
            "top": null,
            "visibility": null,
            "width": null
          }
        },
        "500254f051de403c8a95328e53680997": {
          "model_module": "@jupyter-widgets/controls",
          "model_name": "DescriptionStyleModel",
          "model_module_version": "1.5.0",
          "state": {
            "_model_module": "@jupyter-widgets/controls",
            "_model_module_version": "1.5.0",
            "_model_name": "DescriptionStyleModel",
            "_view_count": null,
            "_view_module": "@jupyter-widgets/base",
            "_view_module_version": "1.2.0",
            "_view_name": "StyleView",
            "description_width": ""
          }
        },
        "49d151affe864d2a988908c99a5fdc95": {
          "model_module": "@jupyter-widgets/controls",
          "model_name": "HBoxModel",
          "model_module_version": "1.5.0",
          "state": {
            "_dom_classes": [],
            "_model_module": "@jupyter-widgets/controls",
            "_model_module_version": "1.5.0",
            "_model_name": "HBoxModel",
            "_view_count": null,
            "_view_module": "@jupyter-widgets/controls",
            "_view_module_version": "1.5.0",
            "_view_name": "HBoxView",
            "box_style": "",
            "children": [
              "IPY_MODEL_b110a02eb2cf4f4ea5cbda18da4e1fe2",
              "IPY_MODEL_14786f3c0ccc4f00ac146719b5b57e14",
              "IPY_MODEL_7f176870e1e14d25ba1213b2f6535da7"
            ],
            "layout": "IPY_MODEL_5823c05b9dd74c4d8823c80bdf58e38d"
          }
        },
        "b110a02eb2cf4f4ea5cbda18da4e1fe2": {
          "model_module": "@jupyter-widgets/controls",
          "model_name": "HTMLModel",
          "model_module_version": "1.5.0",
          "state": {
            "_dom_classes": [],
            "_model_module": "@jupyter-widgets/controls",
            "_model_module_version": "1.5.0",
            "_model_name": "HTMLModel",
            "_view_count": null,
            "_view_module": "@jupyter-widgets/controls",
            "_view_module_version": "1.5.0",
            "_view_name": "HTMLView",
            "description": "",
            "description_tooltip": null,
            "layout": "IPY_MODEL_39b39baad925491d909874f52b2d5cba",
            "placeholder": "​",
            "style": "IPY_MODEL_7bf52ae1062e43a7bb0d32fd80c38539",
            "value": "Generating test split: 100%"
          }
        },
        "14786f3c0ccc4f00ac146719b5b57e14": {
          "model_module": "@jupyter-widgets/controls",
          "model_name": "FloatProgressModel",
          "model_module_version": "1.5.0",
          "state": {
            "_dom_classes": [],
            "_model_module": "@jupyter-widgets/controls",
            "_model_module_version": "1.5.0",
            "_model_name": "FloatProgressModel",
            "_view_count": null,
            "_view_module": "@jupyter-widgets/controls",
            "_view_module_version": "1.5.0",
            "_view_name": "ProgressView",
            "bar_style": "success",
            "description": "",
            "description_tooltip": null,
            "layout": "IPY_MODEL_4d680694bb4a4801bef885994ae1495a",
            "max": 10000,
            "min": 0,
            "orientation": "horizontal",
            "style": "IPY_MODEL_dcdb1433d99a4c889296b3743573db5c",
            "value": 10000
          }
        },
        "7f176870e1e14d25ba1213b2f6535da7": {
          "model_module": "@jupyter-widgets/controls",
          "model_name": "HTMLModel",
          "model_module_version": "1.5.0",
          "state": {
            "_dom_classes": [],
            "_model_module": "@jupyter-widgets/controls",
            "_model_module_version": "1.5.0",
            "_model_name": "HTMLModel",
            "_view_count": null,
            "_view_module": "@jupyter-widgets/controls",
            "_view_module_version": "1.5.0",
            "_view_name": "HTMLView",
            "description": "",
            "description_tooltip": null,
            "layout": "IPY_MODEL_c2fa11e7a5a74287bfcdf151694a115c",
            "placeholder": "​",
            "style": "IPY_MODEL_a3c2e7a78e7c43e698c5cd2284fcf067",
            "value": " 10000/10000 [00:00&lt;00:00, 29897.88 examples/s]"
          }
        },
        "5823c05b9dd74c4d8823c80bdf58e38d": {
          "model_module": "@jupyter-widgets/base",
          "model_name": "LayoutModel",
          "model_module_version": "1.2.0",
          "state": {
            "_model_module": "@jupyter-widgets/base",
            "_model_module_version": "1.2.0",
            "_model_name": "LayoutModel",
            "_view_count": null,
            "_view_module": "@jupyter-widgets/base",
            "_view_module_version": "1.2.0",
            "_view_name": "LayoutView",
            "align_content": null,
            "align_items": null,
            "align_self": null,
            "border": null,
            "bottom": null,
            "display": null,
            "flex": null,
            "flex_flow": null,
            "grid_area": null,
            "grid_auto_columns": null,
            "grid_auto_flow": null,
            "grid_auto_rows": null,
            "grid_column": null,
            "grid_gap": null,
            "grid_row": null,
            "grid_template_areas": null,
            "grid_template_columns": null,
            "grid_template_rows": null,
            "height": null,
            "justify_content": null,
            "justify_items": null,
            "left": null,
            "margin": null,
            "max_height": null,
            "max_width": null,
            "min_height": null,
            "min_width": null,
            "object_fit": null,
            "object_position": null,
            "order": null,
            "overflow": null,
            "overflow_x": null,
            "overflow_y": null,
            "padding": null,
            "right": null,
            "top": null,
            "visibility": null,
            "width": null
          }
        },
        "39b39baad925491d909874f52b2d5cba": {
          "model_module": "@jupyter-widgets/base",
          "model_name": "LayoutModel",
          "model_module_version": "1.2.0",
          "state": {
            "_model_module": "@jupyter-widgets/base",
            "_model_module_version": "1.2.0",
            "_model_name": "LayoutModel",
            "_view_count": null,
            "_view_module": "@jupyter-widgets/base",
            "_view_module_version": "1.2.0",
            "_view_name": "LayoutView",
            "align_content": null,
            "align_items": null,
            "align_self": null,
            "border": null,
            "bottom": null,
            "display": null,
            "flex": null,
            "flex_flow": null,
            "grid_area": null,
            "grid_auto_columns": null,
            "grid_auto_flow": null,
            "grid_auto_rows": null,
            "grid_column": null,
            "grid_gap": null,
            "grid_row": null,
            "grid_template_areas": null,
            "grid_template_columns": null,
            "grid_template_rows": null,
            "height": null,
            "justify_content": null,
            "justify_items": null,
            "left": null,
            "margin": null,
            "max_height": null,
            "max_width": null,
            "min_height": null,
            "min_width": null,
            "object_fit": null,
            "object_position": null,
            "order": null,
            "overflow": null,
            "overflow_x": null,
            "overflow_y": null,
            "padding": null,
            "right": null,
            "top": null,
            "visibility": null,
            "width": null
          }
        },
        "7bf52ae1062e43a7bb0d32fd80c38539": {
          "model_module": "@jupyter-widgets/controls",
          "model_name": "DescriptionStyleModel",
          "model_module_version": "1.5.0",
          "state": {
            "_model_module": "@jupyter-widgets/controls",
            "_model_module_version": "1.5.0",
            "_model_name": "DescriptionStyleModel",
            "_view_count": null,
            "_view_module": "@jupyter-widgets/base",
            "_view_module_version": "1.2.0",
            "_view_name": "StyleView",
            "description_width": ""
          }
        },
        "4d680694bb4a4801bef885994ae1495a": {
          "model_module": "@jupyter-widgets/base",
          "model_name": "LayoutModel",
          "model_module_version": "1.2.0",
          "state": {
            "_model_module": "@jupyter-widgets/base",
            "_model_module_version": "1.2.0",
            "_model_name": "LayoutModel",
            "_view_count": null,
            "_view_module": "@jupyter-widgets/base",
            "_view_module_version": "1.2.0",
            "_view_name": "LayoutView",
            "align_content": null,
            "align_items": null,
            "align_self": null,
            "border": null,
            "bottom": null,
            "display": null,
            "flex": null,
            "flex_flow": null,
            "grid_area": null,
            "grid_auto_columns": null,
            "grid_auto_flow": null,
            "grid_auto_rows": null,
            "grid_column": null,
            "grid_gap": null,
            "grid_row": null,
            "grid_template_areas": null,
            "grid_template_columns": null,
            "grid_template_rows": null,
            "height": null,
            "justify_content": null,
            "justify_items": null,
            "left": null,
            "margin": null,
            "max_height": null,
            "max_width": null,
            "min_height": null,
            "min_width": null,
            "object_fit": null,
            "object_position": null,
            "order": null,
            "overflow": null,
            "overflow_x": null,
            "overflow_y": null,
            "padding": null,
            "right": null,
            "top": null,
            "visibility": null,
            "width": null
          }
        },
        "dcdb1433d99a4c889296b3743573db5c": {
          "model_module": "@jupyter-widgets/controls",
          "model_name": "ProgressStyleModel",
          "model_module_version": "1.5.0",
          "state": {
            "_model_module": "@jupyter-widgets/controls",
            "_model_module_version": "1.5.0",
            "_model_name": "ProgressStyleModel",
            "_view_count": null,
            "_view_module": "@jupyter-widgets/base",
            "_view_module_version": "1.2.0",
            "_view_name": "StyleView",
            "bar_color": null,
            "description_width": ""
          }
        },
        "c2fa11e7a5a74287bfcdf151694a115c": {
          "model_module": "@jupyter-widgets/base",
          "model_name": "LayoutModel",
          "model_module_version": "1.2.0",
          "state": {
            "_model_module": "@jupyter-widgets/base",
            "_model_module_version": "1.2.0",
            "_model_name": "LayoutModel",
            "_view_count": null,
            "_view_module": "@jupyter-widgets/base",
            "_view_module_version": "1.2.0",
            "_view_name": "LayoutView",
            "align_content": null,
            "align_items": null,
            "align_self": null,
            "border": null,
            "bottom": null,
            "display": null,
            "flex": null,
            "flex_flow": null,
            "grid_area": null,
            "grid_auto_columns": null,
            "grid_auto_flow": null,
            "grid_auto_rows": null,
            "grid_column": null,
            "grid_gap": null,
            "grid_row": null,
            "grid_template_areas": null,
            "grid_template_columns": null,
            "grid_template_rows": null,
            "height": null,
            "justify_content": null,
            "justify_items": null,
            "left": null,
            "margin": null,
            "max_height": null,
            "max_width": null,
            "min_height": null,
            "min_width": null,
            "object_fit": null,
            "object_position": null,
            "order": null,
            "overflow": null,
            "overflow_x": null,
            "overflow_y": null,
            "padding": null,
            "right": null,
            "top": null,
            "visibility": null,
            "width": null
          }
        },
        "a3c2e7a78e7c43e698c5cd2284fcf067": {
          "model_module": "@jupyter-widgets/controls",
          "model_name": "DescriptionStyleModel",
          "model_module_version": "1.5.0",
          "state": {
            "_model_module": "@jupyter-widgets/controls",
            "_model_module_version": "1.5.0",
            "_model_name": "DescriptionStyleModel",
            "_view_count": null,
            "_view_module": "@jupyter-widgets/base",
            "_view_module_version": "1.2.0",
            "_view_name": "StyleView",
            "description_width": ""
          }
        },
        "c499939209bc435a98369922e19455a1": {
          "model_module": "@jupyter-widgets/controls",
          "model_name": "HBoxModel",
          "model_module_version": "1.5.0",
          "state": {
            "_dom_classes": [],
            "_model_module": "@jupyter-widgets/controls",
            "_model_module_version": "1.5.0",
            "_model_name": "HBoxModel",
            "_view_count": null,
            "_view_module": "@jupyter-widgets/controls",
            "_view_module_version": "1.5.0",
            "_view_name": "HBoxView",
            "box_style": "",
            "children": [
              "IPY_MODEL_adf5ce0c31f14da285cf24e29152b5a9",
              "IPY_MODEL_8c94597b92944d79a362a30436288750",
              "IPY_MODEL_5d4071e500b44f8fb33a626fb157bbe8"
            ],
            "layout": "IPY_MODEL_cb95b254c8464d3ab98ec4bd0f465e10"
          }
        },
        "adf5ce0c31f14da285cf24e29152b5a9": {
          "model_module": "@jupyter-widgets/controls",
          "model_name": "HTMLModel",
          "model_module_version": "1.5.0",
          "state": {
            "_dom_classes": [],
            "_model_module": "@jupyter-widgets/controls",
            "_model_module_version": "1.5.0",
            "_model_name": "HTMLModel",
            "_view_count": null,
            "_view_module": "@jupyter-widgets/controls",
            "_view_module_version": "1.5.0",
            "_view_name": "HTMLView",
            "description": "",
            "description_tooltip": null,
            "layout": "IPY_MODEL_5bdeb481da31438292808e4dd8046be6",
            "placeholder": "​",
            "style": "IPY_MODEL_18f6b7fa551d401a93e099c4157fd0fc",
            "value": ""
          }
        },
        "8c94597b92944d79a362a30436288750": {
          "model_module": "@jupyter-widgets/controls",
          "model_name": "FloatProgressModel",
          "model_module_version": "1.5.0",
          "state": {
            "_dom_classes": [],
            "_model_module": "@jupyter-widgets/controls",
            "_model_module_version": "1.5.0",
            "_model_name": "FloatProgressModel",
            "_view_count": null,
            "_view_module": "@jupyter-widgets/controls",
            "_view_module_version": "1.5.0",
            "_view_name": "ProgressView",
            "bar_style": "success",
            "description": "",
            "description_tooltip": null,
            "layout": "IPY_MODEL_a00182df148042aaacab9122e4e834cb",
            "max": 1,
            "min": 0,
            "orientation": "horizontal",
            "style": "IPY_MODEL_cc689aed6fcc4f5a9c572cbda72fd66b",
            "value": 0
          }
        },
        "5d4071e500b44f8fb33a626fb157bbe8": {
          "model_module": "@jupyter-widgets/controls",
          "model_name": "HTMLModel",
          "model_module_version": "1.5.0",
          "state": {
            "_dom_classes": [],
            "_model_module": "@jupyter-widgets/controls",
            "_model_module_version": "1.5.0",
            "_model_name": "HTMLModel",
            "_view_count": null,
            "_view_module": "@jupyter-widgets/controls",
            "_view_module_version": "1.5.0",
            "_view_name": "HTMLView",
            "description": "",
            "description_tooltip": null,
            "layout": "IPY_MODEL_db0bcb7a3b784ab6a01810c20204cf2b",
            "placeholder": "​",
            "style": "IPY_MODEL_2ae0e4012f96400797216d085f32ca74",
            "value": " 0/0 [00:00&lt;?, ?it/s]"
          }
        },
        "cb95b254c8464d3ab98ec4bd0f465e10": {
          "model_module": "@jupyter-widgets/base",
          "model_name": "LayoutModel",
          "model_module_version": "1.2.0",
          "state": {
            "_model_module": "@jupyter-widgets/base",
            "_model_module_version": "1.2.0",
            "_model_name": "LayoutModel",
            "_view_count": null,
            "_view_module": "@jupyter-widgets/base",
            "_view_module_version": "1.2.0",
            "_view_name": "LayoutView",
            "align_content": null,
            "align_items": null,
            "align_self": null,
            "border": null,
            "bottom": null,
            "display": null,
            "flex": null,
            "flex_flow": null,
            "grid_area": null,
            "grid_auto_columns": null,
            "grid_auto_flow": null,
            "grid_auto_rows": null,
            "grid_column": null,
            "grid_gap": null,
            "grid_row": null,
            "grid_template_areas": null,
            "grid_template_columns": null,
            "grid_template_rows": null,
            "height": null,
            "justify_content": null,
            "justify_items": null,
            "left": null,
            "margin": null,
            "max_height": null,
            "max_width": null,
            "min_height": null,
            "min_width": null,
            "object_fit": null,
            "object_position": null,
            "order": null,
            "overflow": null,
            "overflow_x": null,
            "overflow_y": null,
            "padding": null,
            "right": null,
            "top": null,
            "visibility": null,
            "width": null
          }
        },
        "5bdeb481da31438292808e4dd8046be6": {
          "model_module": "@jupyter-widgets/base",
          "model_name": "LayoutModel",
          "model_module_version": "1.2.0",
          "state": {
            "_model_module": "@jupyter-widgets/base",
            "_model_module_version": "1.2.0",
            "_model_name": "LayoutModel",
            "_view_count": null,
            "_view_module": "@jupyter-widgets/base",
            "_view_module_version": "1.2.0",
            "_view_name": "LayoutView",
            "align_content": null,
            "align_items": null,
            "align_self": null,
            "border": null,
            "bottom": null,
            "display": null,
            "flex": null,
            "flex_flow": null,
            "grid_area": null,
            "grid_auto_columns": null,
            "grid_auto_flow": null,
            "grid_auto_rows": null,
            "grid_column": null,
            "grid_gap": null,
            "grid_row": null,
            "grid_template_areas": null,
            "grid_template_columns": null,
            "grid_template_rows": null,
            "height": null,
            "justify_content": null,
            "justify_items": null,
            "left": null,
            "margin": null,
            "max_height": null,
            "max_width": null,
            "min_height": null,
            "min_width": null,
            "object_fit": null,
            "object_position": null,
            "order": null,
            "overflow": null,
            "overflow_x": null,
            "overflow_y": null,
            "padding": null,
            "right": null,
            "top": null,
            "visibility": null,
            "width": null
          }
        },
        "18f6b7fa551d401a93e099c4157fd0fc": {
          "model_module": "@jupyter-widgets/controls",
          "model_name": "DescriptionStyleModel",
          "model_module_version": "1.5.0",
          "state": {
            "_model_module": "@jupyter-widgets/controls",
            "_model_module_version": "1.5.0",
            "_model_name": "DescriptionStyleModel",
            "_view_count": null,
            "_view_module": "@jupyter-widgets/base",
            "_view_module_version": "1.2.0",
            "_view_name": "StyleView",
            "description_width": ""
          }
        },
        "a00182df148042aaacab9122e4e834cb": {
          "model_module": "@jupyter-widgets/base",
          "model_name": "LayoutModel",
          "model_module_version": "1.2.0",
          "state": {
            "_model_module": "@jupyter-widgets/base",
            "_model_module_version": "1.2.0",
            "_model_name": "LayoutModel",
            "_view_count": null,
            "_view_module": "@jupyter-widgets/base",
            "_view_module_version": "1.2.0",
            "_view_name": "LayoutView",
            "align_content": null,
            "align_items": null,
            "align_self": null,
            "border": null,
            "bottom": null,
            "display": null,
            "flex": null,
            "flex_flow": null,
            "grid_area": null,
            "grid_auto_columns": null,
            "grid_auto_flow": null,
            "grid_auto_rows": null,
            "grid_column": null,
            "grid_gap": null,
            "grid_row": null,
            "grid_template_areas": null,
            "grid_template_columns": null,
            "grid_template_rows": null,
            "height": null,
            "justify_content": null,
            "justify_items": null,
            "left": null,
            "margin": null,
            "max_height": null,
            "max_width": null,
            "min_height": null,
            "min_width": null,
            "object_fit": null,
            "object_position": null,
            "order": null,
            "overflow": null,
            "overflow_x": null,
            "overflow_y": null,
            "padding": null,
            "right": null,
            "top": null,
            "visibility": null,
            "width": "20px"
          }
        },
        "cc689aed6fcc4f5a9c572cbda72fd66b": {
          "model_module": "@jupyter-widgets/controls",
          "model_name": "ProgressStyleModel",
          "model_module_version": "1.5.0",
          "state": {
            "_model_module": "@jupyter-widgets/controls",
            "_model_module_version": "1.5.0",
            "_model_name": "ProgressStyleModel",
            "_view_count": null,
            "_view_module": "@jupyter-widgets/base",
            "_view_module_version": "1.2.0",
            "_view_name": "StyleView",
            "bar_color": null,
            "description_width": ""
          }
        },
        "db0bcb7a3b784ab6a01810c20204cf2b": {
          "model_module": "@jupyter-widgets/base",
          "model_name": "LayoutModel",
          "model_module_version": "1.2.0",
          "state": {
            "_model_module": "@jupyter-widgets/base",
            "_model_module_version": "1.2.0",
            "_model_name": "LayoutModel",
            "_view_count": null,
            "_view_module": "@jupyter-widgets/base",
            "_view_module_version": "1.2.0",
            "_view_name": "LayoutView",
            "align_content": null,
            "align_items": null,
            "align_self": null,
            "border": null,
            "bottom": null,
            "display": null,
            "flex": null,
            "flex_flow": null,
            "grid_area": null,
            "grid_auto_columns": null,
            "grid_auto_flow": null,
            "grid_auto_rows": null,
            "grid_column": null,
            "grid_gap": null,
            "grid_row": null,
            "grid_template_areas": null,
            "grid_template_columns": null,
            "grid_template_rows": null,
            "height": null,
            "justify_content": null,
            "justify_items": null,
            "left": null,
            "margin": null,
            "max_height": null,
            "max_width": null,
            "min_height": null,
            "min_width": null,
            "object_fit": null,
            "object_position": null,
            "order": null,
            "overflow": null,
            "overflow_x": null,
            "overflow_y": null,
            "padding": null,
            "right": null,
            "top": null,
            "visibility": null,
            "width": null
          }
        },
        "2ae0e4012f96400797216d085f32ca74": {
          "model_module": "@jupyter-widgets/controls",
          "model_name": "DescriptionStyleModel",
          "model_module_version": "1.5.0",
          "state": {
            "_model_module": "@jupyter-widgets/controls",
            "_model_module_version": "1.5.0",
            "_model_name": "DescriptionStyleModel",
            "_view_count": null,
            "_view_module": "@jupyter-widgets/base",
            "_view_module_version": "1.2.0",
            "_view_name": "StyleView",
            "description_width": ""
          }
        },
        "f33841baf2164fd7b84a06fcc673abd1": {
          "model_module": "@jupyter-widgets/controls",
          "model_name": "HBoxModel",
          "model_module_version": "1.5.0",
          "state": {
            "_dom_classes": [],
            "_model_module": "@jupyter-widgets/controls",
            "_model_module_version": "1.5.0",
            "_model_name": "HBoxModel",
            "_view_count": null,
            "_view_module": "@jupyter-widgets/controls",
            "_view_module_version": "1.5.0",
            "_view_name": "HBoxView",
            "box_style": "",
            "children": [
              "IPY_MODEL_307dd827f29041fbbb642709b4eddda8",
              "IPY_MODEL_df1b6d1b859648b5a03363ef57665bf5",
              "IPY_MODEL_b565c164772a4a8cbd0df3e7b1a184fb"
            ],
            "layout": "IPY_MODEL_1c17c3a3670347318087f3e03f375723"
          }
        },
        "307dd827f29041fbbb642709b4eddda8": {
          "model_module": "@jupyter-widgets/controls",
          "model_name": "HTMLModel",
          "model_module_version": "1.5.0",
          "state": {
            "_dom_classes": [],
            "_model_module": "@jupyter-widgets/controls",
            "_model_module_version": "1.5.0",
            "_model_name": "HTMLModel",
            "_view_count": null,
            "_view_module": "@jupyter-widgets/controls",
            "_view_module_version": "1.5.0",
            "_view_name": "HTMLView",
            "description": "",
            "description_tooltip": null,
            "layout": "IPY_MODEL_6deaf44dc0044dc696e6d7d37a75f8aa",
            "placeholder": "​",
            "style": "IPY_MODEL_f8430b4ad0a94e3aac7e897a3c82218d",
            "value": "preprocessor_config.json: 100%"
          }
        },
        "df1b6d1b859648b5a03363ef57665bf5": {
          "model_module": "@jupyter-widgets/controls",
          "model_name": "FloatProgressModel",
          "model_module_version": "1.5.0",
          "state": {
            "_dom_classes": [],
            "_model_module": "@jupyter-widgets/controls",
            "_model_module_version": "1.5.0",
            "_model_name": "FloatProgressModel",
            "_view_count": null,
            "_view_module": "@jupyter-widgets/controls",
            "_view_module_version": "1.5.0",
            "_view_name": "ProgressView",
            "bar_style": "success",
            "description": "",
            "description_tooltip": null,
            "layout": "IPY_MODEL_cba521ff7dc44b5284b43561da7d8169",
            "max": 160,
            "min": 0,
            "orientation": "horizontal",
            "style": "IPY_MODEL_aad700fe0f8c4619affbf7fe78748142",
            "value": 160
          }
        },
        "b565c164772a4a8cbd0df3e7b1a184fb": {
          "model_module": "@jupyter-widgets/controls",
          "model_name": "HTMLModel",
          "model_module_version": "1.5.0",
          "state": {
            "_dom_classes": [],
            "_model_module": "@jupyter-widgets/controls",
            "_model_module_version": "1.5.0",
            "_model_name": "HTMLModel",
            "_view_count": null,
            "_view_module": "@jupyter-widgets/controls",
            "_view_module_version": "1.5.0",
            "_view_name": "HTMLView",
            "description": "",
            "description_tooltip": null,
            "layout": "IPY_MODEL_d2362114e3054271841215096dff24e4",
            "placeholder": "​",
            "style": "IPY_MODEL_531c4f276c2842c4b1e3781afd15f8c1",
            "value": " 160/160 [00:00&lt;00:00, 15.3kB/s]"
          }
        },
        "1c17c3a3670347318087f3e03f375723": {
          "model_module": "@jupyter-widgets/base",
          "model_name": "LayoutModel",
          "model_module_version": "1.2.0",
          "state": {
            "_model_module": "@jupyter-widgets/base",
            "_model_module_version": "1.2.0",
            "_model_name": "LayoutModel",
            "_view_count": null,
            "_view_module": "@jupyter-widgets/base",
            "_view_module_version": "1.2.0",
            "_view_name": "LayoutView",
            "align_content": null,
            "align_items": null,
            "align_self": null,
            "border": null,
            "bottom": null,
            "display": null,
            "flex": null,
            "flex_flow": null,
            "grid_area": null,
            "grid_auto_columns": null,
            "grid_auto_flow": null,
            "grid_auto_rows": null,
            "grid_column": null,
            "grid_gap": null,
            "grid_row": null,
            "grid_template_areas": null,
            "grid_template_columns": null,
            "grid_template_rows": null,
            "height": null,
            "justify_content": null,
            "justify_items": null,
            "left": null,
            "margin": null,
            "max_height": null,
            "max_width": null,
            "min_height": null,
            "min_width": null,
            "object_fit": null,
            "object_position": null,
            "order": null,
            "overflow": null,
            "overflow_x": null,
            "overflow_y": null,
            "padding": null,
            "right": null,
            "top": null,
            "visibility": null,
            "width": null
          }
        },
        "6deaf44dc0044dc696e6d7d37a75f8aa": {
          "model_module": "@jupyter-widgets/base",
          "model_name": "LayoutModel",
          "model_module_version": "1.2.0",
          "state": {
            "_model_module": "@jupyter-widgets/base",
            "_model_module_version": "1.2.0",
            "_model_name": "LayoutModel",
            "_view_count": null,
            "_view_module": "@jupyter-widgets/base",
            "_view_module_version": "1.2.0",
            "_view_name": "LayoutView",
            "align_content": null,
            "align_items": null,
            "align_self": null,
            "border": null,
            "bottom": null,
            "display": null,
            "flex": null,
            "flex_flow": null,
            "grid_area": null,
            "grid_auto_columns": null,
            "grid_auto_flow": null,
            "grid_auto_rows": null,
            "grid_column": null,
            "grid_gap": null,
            "grid_row": null,
            "grid_template_areas": null,
            "grid_template_columns": null,
            "grid_template_rows": null,
            "height": null,
            "justify_content": null,
            "justify_items": null,
            "left": null,
            "margin": null,
            "max_height": null,
            "max_width": null,
            "min_height": null,
            "min_width": null,
            "object_fit": null,
            "object_position": null,
            "order": null,
            "overflow": null,
            "overflow_x": null,
            "overflow_y": null,
            "padding": null,
            "right": null,
            "top": null,
            "visibility": null,
            "width": null
          }
        },
        "f8430b4ad0a94e3aac7e897a3c82218d": {
          "model_module": "@jupyter-widgets/controls",
          "model_name": "DescriptionStyleModel",
          "model_module_version": "1.5.0",
          "state": {
            "_model_module": "@jupyter-widgets/controls",
            "_model_module_version": "1.5.0",
            "_model_name": "DescriptionStyleModel",
            "_view_count": null,
            "_view_module": "@jupyter-widgets/base",
            "_view_module_version": "1.2.0",
            "_view_name": "StyleView",
            "description_width": ""
          }
        },
        "cba521ff7dc44b5284b43561da7d8169": {
          "model_module": "@jupyter-widgets/base",
          "model_name": "LayoutModel",
          "model_module_version": "1.2.0",
          "state": {
            "_model_module": "@jupyter-widgets/base",
            "_model_module_version": "1.2.0",
            "_model_name": "LayoutModel",
            "_view_count": null,
            "_view_module": "@jupyter-widgets/base",
            "_view_module_version": "1.2.0",
            "_view_name": "LayoutView",
            "align_content": null,
            "align_items": null,
            "align_self": null,
            "border": null,
            "bottom": null,
            "display": null,
            "flex": null,
            "flex_flow": null,
            "grid_area": null,
            "grid_auto_columns": null,
            "grid_auto_flow": null,
            "grid_auto_rows": null,
            "grid_column": null,
            "grid_gap": null,
            "grid_row": null,
            "grid_template_areas": null,
            "grid_template_columns": null,
            "grid_template_rows": null,
            "height": null,
            "justify_content": null,
            "justify_items": null,
            "left": null,
            "margin": null,
            "max_height": null,
            "max_width": null,
            "min_height": null,
            "min_width": null,
            "object_fit": null,
            "object_position": null,
            "order": null,
            "overflow": null,
            "overflow_x": null,
            "overflow_y": null,
            "padding": null,
            "right": null,
            "top": null,
            "visibility": null,
            "width": null
          }
        },
        "aad700fe0f8c4619affbf7fe78748142": {
          "model_module": "@jupyter-widgets/controls",
          "model_name": "ProgressStyleModel",
          "model_module_version": "1.5.0",
          "state": {
            "_model_module": "@jupyter-widgets/controls",
            "_model_module_version": "1.5.0",
            "_model_name": "ProgressStyleModel",
            "_view_count": null,
            "_view_module": "@jupyter-widgets/base",
            "_view_module_version": "1.2.0",
            "_view_name": "StyleView",
            "bar_color": null,
            "description_width": ""
          }
        },
        "d2362114e3054271841215096dff24e4": {
          "model_module": "@jupyter-widgets/base",
          "model_name": "LayoutModel",
          "model_module_version": "1.2.0",
          "state": {
            "_model_module": "@jupyter-widgets/base",
            "_model_module_version": "1.2.0",
            "_model_name": "LayoutModel",
            "_view_count": null,
            "_view_module": "@jupyter-widgets/base",
            "_view_module_version": "1.2.0",
            "_view_name": "LayoutView",
            "align_content": null,
            "align_items": null,
            "align_self": null,
            "border": null,
            "bottom": null,
            "display": null,
            "flex": null,
            "flex_flow": null,
            "grid_area": null,
            "grid_auto_columns": null,
            "grid_auto_flow": null,
            "grid_auto_rows": null,
            "grid_column": null,
            "grid_gap": null,
            "grid_row": null,
            "grid_template_areas": null,
            "grid_template_columns": null,
            "grid_template_rows": null,
            "height": null,
            "justify_content": null,
            "justify_items": null,
            "left": null,
            "margin": null,
            "max_height": null,
            "max_width": null,
            "min_height": null,
            "min_width": null,
            "object_fit": null,
            "object_position": null,
            "order": null,
            "overflow": null,
            "overflow_x": null,
            "overflow_y": null,
            "padding": null,
            "right": null,
            "top": null,
            "visibility": null,
            "width": null
          }
        },
        "531c4f276c2842c4b1e3781afd15f8c1": {
          "model_module": "@jupyter-widgets/controls",
          "model_name": "DescriptionStyleModel",
          "model_module_version": "1.5.0",
          "state": {
            "_model_module": "@jupyter-widgets/controls",
            "_model_module_version": "1.5.0",
            "_model_name": "DescriptionStyleModel",
            "_view_count": null,
            "_view_module": "@jupyter-widgets/base",
            "_view_module_version": "1.2.0",
            "_view_name": "StyleView",
            "description_width": ""
          }
        },
        "2909ffcfb11b45aaa142163f50083658": {
          "model_module": "@jupyter-widgets/controls",
          "model_name": "HBoxModel",
          "model_module_version": "1.5.0",
          "state": {
            "_dom_classes": [],
            "_model_module": "@jupyter-widgets/controls",
            "_model_module_version": "1.5.0",
            "_model_name": "HBoxModel",
            "_view_count": null,
            "_view_module": "@jupyter-widgets/controls",
            "_view_module_version": "1.5.0",
            "_view_name": "HBoxView",
            "box_style": "",
            "children": [
              "IPY_MODEL_272f8027e02543808fe0d333d708d68a",
              "IPY_MODEL_303290bdfc73457a8cc524245f97eead",
              "IPY_MODEL_bba5acd741784ca3b27518a407f2dcd5"
            ],
            "layout": "IPY_MODEL_3b73571bbc8645c5be4184a93a74692a"
          }
        },
        "272f8027e02543808fe0d333d708d68a": {
          "model_module": "@jupyter-widgets/controls",
          "model_name": "HTMLModel",
          "model_module_version": "1.5.0",
          "state": {
            "_dom_classes": [],
            "_model_module": "@jupyter-widgets/controls",
            "_model_module_version": "1.5.0",
            "_model_name": "HTMLModel",
            "_view_count": null,
            "_view_module": "@jupyter-widgets/controls",
            "_view_module_version": "1.5.0",
            "_view_name": "HTMLView",
            "description": "",
            "description_tooltip": null,
            "layout": "IPY_MODEL_7fd74a866d1948d1839dd4cc701768ca",
            "placeholder": "​",
            "style": "IPY_MODEL_0f036d385fb145e3a4a7b892744dc0ac",
            "value": "config.json: 100%"
          }
        },
        "303290bdfc73457a8cc524245f97eead": {
          "model_module": "@jupyter-widgets/controls",
          "model_name": "FloatProgressModel",
          "model_module_version": "1.5.0",
          "state": {
            "_dom_classes": [],
            "_model_module": "@jupyter-widgets/controls",
            "_model_module_version": "1.5.0",
            "_model_name": "FloatProgressModel",
            "_view_count": null,
            "_view_module": "@jupyter-widgets/controls",
            "_view_module_version": "1.5.0",
            "_view_name": "ProgressView",
            "bar_style": "success",
            "description": "",
            "description_tooltip": null,
            "layout": "IPY_MODEL_69990d27acc54b918605159618a89804",
            "max": 502,
            "min": 0,
            "orientation": "horizontal",
            "style": "IPY_MODEL_9b8a6f01083349a8b8da573d09345a5e",
            "value": 502
          }
        },
        "bba5acd741784ca3b27518a407f2dcd5": {
          "model_module": "@jupyter-widgets/controls",
          "model_name": "HTMLModel",
          "model_module_version": "1.5.0",
          "state": {
            "_dom_classes": [],
            "_model_module": "@jupyter-widgets/controls",
            "_model_module_version": "1.5.0",
            "_model_name": "HTMLModel",
            "_view_count": null,
            "_view_module": "@jupyter-widgets/controls",
            "_view_module_version": "1.5.0",
            "_view_name": "HTMLView",
            "description": "",
            "description_tooltip": null,
            "layout": "IPY_MODEL_5c8c8967d9d64d7a940562d69e00cdfe",
            "placeholder": "​",
            "style": "IPY_MODEL_999a3e80a78749a5861fad39ebc5dc37",
            "value": " 502/502 [00:00&lt;00:00, 15.4kB/s]"
          }
        },
        "3b73571bbc8645c5be4184a93a74692a": {
          "model_module": "@jupyter-widgets/base",
          "model_name": "LayoutModel",
          "model_module_version": "1.2.0",
          "state": {
            "_model_module": "@jupyter-widgets/base",
            "_model_module_version": "1.2.0",
            "_model_name": "LayoutModel",
            "_view_count": null,
            "_view_module": "@jupyter-widgets/base",
            "_view_module_version": "1.2.0",
            "_view_name": "LayoutView",
            "align_content": null,
            "align_items": null,
            "align_self": null,
            "border": null,
            "bottom": null,
            "display": null,
            "flex": null,
            "flex_flow": null,
            "grid_area": null,
            "grid_auto_columns": null,
            "grid_auto_flow": null,
            "grid_auto_rows": null,
            "grid_column": null,
            "grid_gap": null,
            "grid_row": null,
            "grid_template_areas": null,
            "grid_template_columns": null,
            "grid_template_rows": null,
            "height": null,
            "justify_content": null,
            "justify_items": null,
            "left": null,
            "margin": null,
            "max_height": null,
            "max_width": null,
            "min_height": null,
            "min_width": null,
            "object_fit": null,
            "object_position": null,
            "order": null,
            "overflow": null,
            "overflow_x": null,
            "overflow_y": null,
            "padding": null,
            "right": null,
            "top": null,
            "visibility": null,
            "width": null
          }
        },
        "7fd74a866d1948d1839dd4cc701768ca": {
          "model_module": "@jupyter-widgets/base",
          "model_name": "LayoutModel",
          "model_module_version": "1.2.0",
          "state": {
            "_model_module": "@jupyter-widgets/base",
            "_model_module_version": "1.2.0",
            "_model_name": "LayoutModel",
            "_view_count": null,
            "_view_module": "@jupyter-widgets/base",
            "_view_module_version": "1.2.0",
            "_view_name": "LayoutView",
            "align_content": null,
            "align_items": null,
            "align_self": null,
            "border": null,
            "bottom": null,
            "display": null,
            "flex": null,
            "flex_flow": null,
            "grid_area": null,
            "grid_auto_columns": null,
            "grid_auto_flow": null,
            "grid_auto_rows": null,
            "grid_column": null,
            "grid_gap": null,
            "grid_row": null,
            "grid_template_areas": null,
            "grid_template_columns": null,
            "grid_template_rows": null,
            "height": null,
            "justify_content": null,
            "justify_items": null,
            "left": null,
            "margin": null,
            "max_height": null,
            "max_width": null,
            "min_height": null,
            "min_width": null,
            "object_fit": null,
            "object_position": null,
            "order": null,
            "overflow": null,
            "overflow_x": null,
            "overflow_y": null,
            "padding": null,
            "right": null,
            "top": null,
            "visibility": null,
            "width": null
          }
        },
        "0f036d385fb145e3a4a7b892744dc0ac": {
          "model_module": "@jupyter-widgets/controls",
          "model_name": "DescriptionStyleModel",
          "model_module_version": "1.5.0",
          "state": {
            "_model_module": "@jupyter-widgets/controls",
            "_model_module_version": "1.5.0",
            "_model_name": "DescriptionStyleModel",
            "_view_count": null,
            "_view_module": "@jupyter-widgets/base",
            "_view_module_version": "1.2.0",
            "_view_name": "StyleView",
            "description_width": ""
          }
        },
        "69990d27acc54b918605159618a89804": {
          "model_module": "@jupyter-widgets/base",
          "model_name": "LayoutModel",
          "model_module_version": "1.2.0",
          "state": {
            "_model_module": "@jupyter-widgets/base",
            "_model_module_version": "1.2.0",
            "_model_name": "LayoutModel",
            "_view_count": null,
            "_view_module": "@jupyter-widgets/base",
            "_view_module_version": "1.2.0",
            "_view_name": "LayoutView",
            "align_content": null,
            "align_items": null,
            "align_self": null,
            "border": null,
            "bottom": null,
            "display": null,
            "flex": null,
            "flex_flow": null,
            "grid_area": null,
            "grid_auto_columns": null,
            "grid_auto_flow": null,
            "grid_auto_rows": null,
            "grid_column": null,
            "grid_gap": null,
            "grid_row": null,
            "grid_template_areas": null,
            "grid_template_columns": null,
            "grid_template_rows": null,
            "height": null,
            "justify_content": null,
            "justify_items": null,
            "left": null,
            "margin": null,
            "max_height": null,
            "max_width": null,
            "min_height": null,
            "min_width": null,
            "object_fit": null,
            "object_position": null,
            "order": null,
            "overflow": null,
            "overflow_x": null,
            "overflow_y": null,
            "padding": null,
            "right": null,
            "top": null,
            "visibility": null,
            "width": null
          }
        },
        "9b8a6f01083349a8b8da573d09345a5e": {
          "model_module": "@jupyter-widgets/controls",
          "model_name": "ProgressStyleModel",
          "model_module_version": "1.5.0",
          "state": {
            "_model_module": "@jupyter-widgets/controls",
            "_model_module_version": "1.5.0",
            "_model_name": "ProgressStyleModel",
            "_view_count": null,
            "_view_module": "@jupyter-widgets/base",
            "_view_module_version": "1.2.0",
            "_view_name": "StyleView",
            "bar_color": null,
            "description_width": ""
          }
        },
        "5c8c8967d9d64d7a940562d69e00cdfe": {
          "model_module": "@jupyter-widgets/base",
          "model_name": "LayoutModel",
          "model_module_version": "1.2.0",
          "state": {
            "_model_module": "@jupyter-widgets/base",
            "_model_module_version": "1.2.0",
            "_model_name": "LayoutModel",
            "_view_count": null,
            "_view_module": "@jupyter-widgets/base",
            "_view_module_version": "1.2.0",
            "_view_name": "LayoutView",
            "align_content": null,
            "align_items": null,
            "align_self": null,
            "border": null,
            "bottom": null,
            "display": null,
            "flex": null,
            "flex_flow": null,
            "grid_area": null,
            "grid_auto_columns": null,
            "grid_auto_flow": null,
            "grid_auto_rows": null,
            "grid_column": null,
            "grid_gap": null,
            "grid_row": null,
            "grid_template_areas": null,
            "grid_template_columns": null,
            "grid_template_rows": null,
            "height": null,
            "justify_content": null,
            "justify_items": null,
            "left": null,
            "margin": null,
            "max_height": null,
            "max_width": null,
            "min_height": null,
            "min_width": null,
            "object_fit": null,
            "object_position": null,
            "order": null,
            "overflow": null,
            "overflow_x": null,
            "overflow_y": null,
            "padding": null,
            "right": null,
            "top": null,
            "visibility": null,
            "width": null
          }
        },
        "999a3e80a78749a5861fad39ebc5dc37": {
          "model_module": "@jupyter-widgets/controls",
          "model_name": "DescriptionStyleModel",
          "model_module_version": "1.5.0",
          "state": {
            "_model_module": "@jupyter-widgets/controls",
            "_model_module_version": "1.5.0",
            "_model_name": "DescriptionStyleModel",
            "_view_count": null,
            "_view_module": "@jupyter-widgets/base",
            "_view_module_version": "1.2.0",
            "_view_name": "StyleView",
            "description_width": ""
          }
        },
        "924797980c6c4b22a068cb832574aa6b": {
          "model_module": "@jupyter-widgets/controls",
          "model_name": "HBoxModel",
          "model_module_version": "1.5.0",
          "state": {
            "_dom_classes": [],
            "_model_module": "@jupyter-widgets/controls",
            "_model_module_version": "1.5.0",
            "_model_name": "HBoxModel",
            "_view_count": null,
            "_view_module": "@jupyter-widgets/controls",
            "_view_module_version": "1.5.0",
            "_view_name": "HBoxView",
            "box_style": "",
            "children": [
              "IPY_MODEL_5943f6fd4d4b4f909dd344441af319b7",
              "IPY_MODEL_64a80607d927401094fb3fe585e0188d",
              "IPY_MODEL_7d809267685d4f13929a690d946744a0"
            ],
            "layout": "IPY_MODEL_61553b6fe9ba4cf78599feb526e22183"
          }
        },
        "5943f6fd4d4b4f909dd344441af319b7": {
          "model_module": "@jupyter-widgets/controls",
          "model_name": "HTMLModel",
          "model_module_version": "1.5.0",
          "state": {
            "_dom_classes": [],
            "_model_module": "@jupyter-widgets/controls",
            "_model_module_version": "1.5.0",
            "_model_name": "HTMLModel",
            "_view_count": null,
            "_view_module": "@jupyter-widgets/controls",
            "_view_module_version": "1.5.0",
            "_view_name": "HTMLView",
            "description": "",
            "description_tooltip": null,
            "layout": "IPY_MODEL_faa8ff0218724296b3bfc08d6c436b1e",
            "placeholder": "​",
            "style": "IPY_MODEL_653897f5036b46d89ef6c287a2341162",
            "value": "model.safetensors: 100%"
          }
        },
        "64a80607d927401094fb3fe585e0188d": {
          "model_module": "@jupyter-widgets/controls",
          "model_name": "FloatProgressModel",
          "model_module_version": "1.5.0",
          "state": {
            "_dom_classes": [],
            "_model_module": "@jupyter-widgets/controls",
            "_model_module_version": "1.5.0",
            "_model_name": "FloatProgressModel",
            "_view_count": null,
            "_view_module": "@jupyter-widgets/controls",
            "_view_module_version": "1.5.0",
            "_view_name": "ProgressView",
            "bar_style": "success",
            "description": "",
            "description_tooltip": null,
            "layout": "IPY_MODEL_151e15c47d0d4991aca3ebd06d5dfc90",
            "max": 345579424,
            "min": 0,
            "orientation": "horizontal",
            "style": "IPY_MODEL_8291cd28346b4904ab1355689ddaeb9f",
            "value": 345579424
          }
        },
        "7d809267685d4f13929a690d946744a0": {
          "model_module": "@jupyter-widgets/controls",
          "model_name": "HTMLModel",
          "model_module_version": "1.5.0",
          "state": {
            "_dom_classes": [],
            "_model_module": "@jupyter-widgets/controls",
            "_model_module_version": "1.5.0",
            "_model_name": "HTMLModel",
            "_view_count": null,
            "_view_module": "@jupyter-widgets/controls",
            "_view_module_version": "1.5.0",
            "_view_name": "HTMLView",
            "description": "",
            "description_tooltip": null,
            "layout": "IPY_MODEL_4a12e3e5612448dd831593d7323fc3f1",
            "placeholder": "​",
            "style": "IPY_MODEL_70d79cf8dcd94c0a8e0b7c3a2b8fbecd",
            "value": " 346M/346M [00:01&lt;00:00, 229MB/s]"
          }
        },
        "61553b6fe9ba4cf78599feb526e22183": {
          "model_module": "@jupyter-widgets/base",
          "model_name": "LayoutModel",
          "model_module_version": "1.2.0",
          "state": {
            "_model_module": "@jupyter-widgets/base",
            "_model_module_version": "1.2.0",
            "_model_name": "LayoutModel",
            "_view_count": null,
            "_view_module": "@jupyter-widgets/base",
            "_view_module_version": "1.2.0",
            "_view_name": "LayoutView",
            "align_content": null,
            "align_items": null,
            "align_self": null,
            "border": null,
            "bottom": null,
            "display": null,
            "flex": null,
            "flex_flow": null,
            "grid_area": null,
            "grid_auto_columns": null,
            "grid_auto_flow": null,
            "grid_auto_rows": null,
            "grid_column": null,
            "grid_gap": null,
            "grid_row": null,
            "grid_template_areas": null,
            "grid_template_columns": null,
            "grid_template_rows": null,
            "height": null,
            "justify_content": null,
            "justify_items": null,
            "left": null,
            "margin": null,
            "max_height": null,
            "max_width": null,
            "min_height": null,
            "min_width": null,
            "object_fit": null,
            "object_position": null,
            "order": null,
            "overflow": null,
            "overflow_x": null,
            "overflow_y": null,
            "padding": null,
            "right": null,
            "top": null,
            "visibility": null,
            "width": null
          }
        },
        "faa8ff0218724296b3bfc08d6c436b1e": {
          "model_module": "@jupyter-widgets/base",
          "model_name": "LayoutModel",
          "model_module_version": "1.2.0",
          "state": {
            "_model_module": "@jupyter-widgets/base",
            "_model_module_version": "1.2.0",
            "_model_name": "LayoutModel",
            "_view_count": null,
            "_view_module": "@jupyter-widgets/base",
            "_view_module_version": "1.2.0",
            "_view_name": "LayoutView",
            "align_content": null,
            "align_items": null,
            "align_self": null,
            "border": null,
            "bottom": null,
            "display": null,
            "flex": null,
            "flex_flow": null,
            "grid_area": null,
            "grid_auto_columns": null,
            "grid_auto_flow": null,
            "grid_auto_rows": null,
            "grid_column": null,
            "grid_gap": null,
            "grid_row": null,
            "grid_template_areas": null,
            "grid_template_columns": null,
            "grid_template_rows": null,
            "height": null,
            "justify_content": null,
            "justify_items": null,
            "left": null,
            "margin": null,
            "max_height": null,
            "max_width": null,
            "min_height": null,
            "min_width": null,
            "object_fit": null,
            "object_position": null,
            "order": null,
            "overflow": null,
            "overflow_x": null,
            "overflow_y": null,
            "padding": null,
            "right": null,
            "top": null,
            "visibility": null,
            "width": null
          }
        },
        "653897f5036b46d89ef6c287a2341162": {
          "model_module": "@jupyter-widgets/controls",
          "model_name": "DescriptionStyleModel",
          "model_module_version": "1.5.0",
          "state": {
            "_model_module": "@jupyter-widgets/controls",
            "_model_module_version": "1.5.0",
            "_model_name": "DescriptionStyleModel",
            "_view_count": null,
            "_view_module": "@jupyter-widgets/base",
            "_view_module_version": "1.2.0",
            "_view_name": "StyleView",
            "description_width": ""
          }
        },
        "151e15c47d0d4991aca3ebd06d5dfc90": {
          "model_module": "@jupyter-widgets/base",
          "model_name": "LayoutModel",
          "model_module_version": "1.2.0",
          "state": {
            "_model_module": "@jupyter-widgets/base",
            "_model_module_version": "1.2.0",
            "_model_name": "LayoutModel",
            "_view_count": null,
            "_view_module": "@jupyter-widgets/base",
            "_view_module_version": "1.2.0",
            "_view_name": "LayoutView",
            "align_content": null,
            "align_items": null,
            "align_self": null,
            "border": null,
            "bottom": null,
            "display": null,
            "flex": null,
            "flex_flow": null,
            "grid_area": null,
            "grid_auto_columns": null,
            "grid_auto_flow": null,
            "grid_auto_rows": null,
            "grid_column": null,
            "grid_gap": null,
            "grid_row": null,
            "grid_template_areas": null,
            "grid_template_columns": null,
            "grid_template_rows": null,
            "height": null,
            "justify_content": null,
            "justify_items": null,
            "left": null,
            "margin": null,
            "max_height": null,
            "max_width": null,
            "min_height": null,
            "min_width": null,
            "object_fit": null,
            "object_position": null,
            "order": null,
            "overflow": null,
            "overflow_x": null,
            "overflow_y": null,
            "padding": null,
            "right": null,
            "top": null,
            "visibility": null,
            "width": null
          }
        },
        "8291cd28346b4904ab1355689ddaeb9f": {
          "model_module": "@jupyter-widgets/controls",
          "model_name": "ProgressStyleModel",
          "model_module_version": "1.5.0",
          "state": {
            "_model_module": "@jupyter-widgets/controls",
            "_model_module_version": "1.5.0",
            "_model_name": "ProgressStyleModel",
            "_view_count": null,
            "_view_module": "@jupyter-widgets/base",
            "_view_module_version": "1.2.0",
            "_view_name": "StyleView",
            "bar_color": null,
            "description_width": ""
          }
        },
        "4a12e3e5612448dd831593d7323fc3f1": {
          "model_module": "@jupyter-widgets/base",
          "model_name": "LayoutModel",
          "model_module_version": "1.2.0",
          "state": {
            "_model_module": "@jupyter-widgets/base",
            "_model_module_version": "1.2.0",
            "_model_name": "LayoutModel",
            "_view_count": null,
            "_view_module": "@jupyter-widgets/base",
            "_view_module_version": "1.2.0",
            "_view_name": "LayoutView",
            "align_content": null,
            "align_items": null,
            "align_self": null,
            "border": null,
            "bottom": null,
            "display": null,
            "flex": null,
            "flex_flow": null,
            "grid_area": null,
            "grid_auto_columns": null,
            "grid_auto_flow": null,
            "grid_auto_rows": null,
            "grid_column": null,
            "grid_gap": null,
            "grid_row": null,
            "grid_template_areas": null,
            "grid_template_columns": null,
            "grid_template_rows": null,
            "height": null,
            "justify_content": null,
            "justify_items": null,
            "left": null,
            "margin": null,
            "max_height": null,
            "max_width": null,
            "min_height": null,
            "min_width": null,
            "object_fit": null,
            "object_position": null,
            "order": null,
            "overflow": null,
            "overflow_x": null,
            "overflow_y": null,
            "padding": null,
            "right": null,
            "top": null,
            "visibility": null,
            "width": null
          }
        },
        "70d79cf8dcd94c0a8e0b7c3a2b8fbecd": {
          "model_module": "@jupyter-widgets/controls",
          "model_name": "DescriptionStyleModel",
          "model_module_version": "1.5.0",
          "state": {
            "_model_module": "@jupyter-widgets/controls",
            "_model_module_version": "1.5.0",
            "_model_name": "DescriptionStyleModel",
            "_view_count": null,
            "_view_module": "@jupyter-widgets/base",
            "_view_module_version": "1.2.0",
            "_view_name": "StyleView",
            "description_width": ""
          }
        }
      }
    }
  },
  "cells": [
    {
      "cell_type": "markdown",
      "metadata": {
        "id": "view-in-github",
        "colab_type": "text"
      },
      "source": [
        "<a href=\"https://colab.research.google.com/github/itoshiyanazawa/cnn_project/blob/main/main.ipynb\" target=\"_parent\"><img src=\"https://colab.research.google.com/assets/colab-badge.svg\" alt=\"Open In Colab\"/></a>"
      ]
    },
    {
      "cell_type": "markdown",
      "source": [
        "# Library"
      ],
      "metadata": {
        "id": "9kMbcwQwaMSH"
      }
    },
    {
      "cell_type": "code",
      "source": [
        "# download tensorflow 2.15\n",
        "!pip install tensorflow==2.15"
      ],
      "metadata": {
        "collapsed": true,
        "colab": {
          "base_uri": "https://localhost:8080/"
        },
        "id": "ukqnV4oQ1uQG",
        "outputId": "3ee35e72-fe0d-4c43-ac94-01afa146d8f2"
      },
      "execution_count": 1,
      "outputs": [
        {
          "output_type": "stream",
          "name": "stdout",
          "text": [
            "Collecting tensorflow==2.15\n",
            "  Downloading tensorflow-2.15.0-cp311-cp311-manylinux_2_17_x86_64.manylinux2014_x86_64.whl.metadata (4.4 kB)\n",
            "Requirement already satisfied: absl-py>=1.0.0 in /usr/local/lib/python3.11/dist-packages (from tensorflow==2.15) (1.4.0)\n",
            "Requirement already satisfied: astunparse>=1.6.0 in /usr/local/lib/python3.11/dist-packages (from tensorflow==2.15) (1.6.3)\n",
            "Requirement already satisfied: flatbuffers>=23.5.26 in /usr/local/lib/python3.11/dist-packages (from tensorflow==2.15) (25.2.10)\n",
            "Requirement already satisfied: gast!=0.5.0,!=0.5.1,!=0.5.2,>=0.2.1 in /usr/local/lib/python3.11/dist-packages (from tensorflow==2.15) (0.6.0)\n",
            "Requirement already satisfied: google-pasta>=0.1.1 in /usr/local/lib/python3.11/dist-packages (from tensorflow==2.15) (0.2.0)\n",
            "Requirement already satisfied: h5py>=2.9.0 in /usr/local/lib/python3.11/dist-packages (from tensorflow==2.15) (3.13.0)\n",
            "Requirement already satisfied: libclang>=13.0.0 in /usr/local/lib/python3.11/dist-packages (from tensorflow==2.15) (18.1.1)\n",
            "Collecting ml-dtypes~=0.2.0 (from tensorflow==2.15)\n",
            "  Downloading ml_dtypes-0.2.0-cp311-cp311-manylinux_2_17_x86_64.manylinux2014_x86_64.whl.metadata (20 kB)\n",
            "Collecting numpy<2.0.0,>=1.23.5 (from tensorflow==2.15)\n",
            "  Downloading numpy-1.26.4-cp311-cp311-manylinux_2_17_x86_64.manylinux2014_x86_64.whl.metadata (61 kB)\n",
            "\u001b[2K     \u001b[90m━━━━━━━━━━━━━━━━━━━━━━━━━━━━━━━━━━━━━━━━\u001b[0m \u001b[32m61.0/61.0 kB\u001b[0m \u001b[31m1.7 MB/s\u001b[0m eta \u001b[36m0:00:00\u001b[0m\n",
            "\u001b[?25hRequirement already satisfied: opt-einsum>=2.3.2 in /usr/local/lib/python3.11/dist-packages (from tensorflow==2.15) (3.4.0)\n",
            "Requirement already satisfied: packaging in /usr/local/lib/python3.11/dist-packages (from tensorflow==2.15) (24.2)\n",
            "Collecting protobuf!=4.21.0,!=4.21.1,!=4.21.2,!=4.21.3,!=4.21.4,!=4.21.5,<5.0.0dev,>=3.20.3 (from tensorflow==2.15)\n",
            "  Downloading protobuf-4.25.6-cp37-abi3-manylinux2014_x86_64.whl.metadata (541 bytes)\n",
            "Requirement already satisfied: setuptools in /usr/local/lib/python3.11/dist-packages (from tensorflow==2.15) (75.2.0)\n",
            "Requirement already satisfied: six>=1.12.0 in /usr/local/lib/python3.11/dist-packages (from tensorflow==2.15) (1.17.0)\n",
            "Requirement already satisfied: termcolor>=1.1.0 in /usr/local/lib/python3.11/dist-packages (from tensorflow==2.15) (3.0.1)\n",
            "Requirement already satisfied: typing-extensions>=3.6.6 in /usr/local/lib/python3.11/dist-packages (from tensorflow==2.15) (4.13.1)\n",
            "Collecting wrapt<1.15,>=1.11.0 (from tensorflow==2.15)\n",
            "  Downloading wrapt-1.14.1-cp311-cp311-manylinux_2_5_x86_64.manylinux1_x86_64.manylinux_2_17_x86_64.manylinux2014_x86_64.whl.metadata (6.7 kB)\n",
            "Requirement already satisfied: tensorflow-io-gcs-filesystem>=0.23.1 in /usr/local/lib/python3.11/dist-packages (from tensorflow==2.15) (0.37.1)\n",
            "Requirement already satisfied: grpcio<2.0,>=1.24.3 in /usr/local/lib/python3.11/dist-packages (from tensorflow==2.15) (1.71.0)\n",
            "Collecting tensorboard<2.16,>=2.15 (from tensorflow==2.15)\n",
            "  Downloading tensorboard-2.15.2-py3-none-any.whl.metadata (1.7 kB)\n",
            "Collecting tensorflow-estimator<2.16,>=2.15.0 (from tensorflow==2.15)\n",
            "  Downloading tensorflow_estimator-2.15.0-py2.py3-none-any.whl.metadata (1.3 kB)\n",
            "Collecting keras<2.16,>=2.15.0 (from tensorflow==2.15)\n",
            "  Downloading keras-2.15.0-py3-none-any.whl.metadata (2.4 kB)\n",
            "Requirement already satisfied: wheel<1.0,>=0.23.0 in /usr/local/lib/python3.11/dist-packages (from astunparse>=1.6.0->tensorflow==2.15) (0.45.1)\n",
            "Requirement already satisfied: google-auth<3,>=1.6.3 in /usr/local/lib/python3.11/dist-packages (from tensorboard<2.16,>=2.15->tensorflow==2.15) (2.38.0)\n",
            "Requirement already satisfied: google-auth-oauthlib<2,>=0.5 in /usr/local/lib/python3.11/dist-packages (from tensorboard<2.16,>=2.15->tensorflow==2.15) (1.2.1)\n",
            "Requirement already satisfied: markdown>=2.6.8 in /usr/local/lib/python3.11/dist-packages (from tensorboard<2.16,>=2.15->tensorflow==2.15) (3.7)\n",
            "Requirement already satisfied: requests<3,>=2.21.0 in /usr/local/lib/python3.11/dist-packages (from tensorboard<2.16,>=2.15->tensorflow==2.15) (2.32.3)\n",
            "Requirement already satisfied: tensorboard-data-server<0.8.0,>=0.7.0 in /usr/local/lib/python3.11/dist-packages (from tensorboard<2.16,>=2.15->tensorflow==2.15) (0.7.2)\n",
            "Requirement already satisfied: werkzeug>=1.0.1 in /usr/local/lib/python3.11/dist-packages (from tensorboard<2.16,>=2.15->tensorflow==2.15) (3.1.3)\n",
            "Requirement already satisfied: cachetools<6.0,>=2.0.0 in /usr/local/lib/python3.11/dist-packages (from google-auth<3,>=1.6.3->tensorboard<2.16,>=2.15->tensorflow==2.15) (5.5.2)\n",
            "Requirement already satisfied: pyasn1-modules>=0.2.1 in /usr/local/lib/python3.11/dist-packages (from google-auth<3,>=1.6.3->tensorboard<2.16,>=2.15->tensorflow==2.15) (0.4.2)\n",
            "Requirement already satisfied: rsa<5,>=3.1.4 in /usr/local/lib/python3.11/dist-packages (from google-auth<3,>=1.6.3->tensorboard<2.16,>=2.15->tensorflow==2.15) (4.9)\n",
            "Requirement already satisfied: requests-oauthlib>=0.7.0 in /usr/local/lib/python3.11/dist-packages (from google-auth-oauthlib<2,>=0.5->tensorboard<2.16,>=2.15->tensorflow==2.15) (2.0.0)\n",
            "Requirement already satisfied: charset-normalizer<4,>=2 in /usr/local/lib/python3.11/dist-packages (from requests<3,>=2.21.0->tensorboard<2.16,>=2.15->tensorflow==2.15) (3.4.1)\n",
            "Requirement already satisfied: idna<4,>=2.5 in /usr/local/lib/python3.11/dist-packages (from requests<3,>=2.21.0->tensorboard<2.16,>=2.15->tensorflow==2.15) (3.10)\n",
            "Requirement already satisfied: urllib3<3,>=1.21.1 in /usr/local/lib/python3.11/dist-packages (from requests<3,>=2.21.0->tensorboard<2.16,>=2.15->tensorflow==2.15) (2.3.0)\n",
            "Requirement already satisfied: certifi>=2017.4.17 in /usr/local/lib/python3.11/dist-packages (from requests<3,>=2.21.0->tensorboard<2.16,>=2.15->tensorflow==2.15) (2025.1.31)\n",
            "Requirement already satisfied: MarkupSafe>=2.1.1 in /usr/local/lib/python3.11/dist-packages (from werkzeug>=1.0.1->tensorboard<2.16,>=2.15->tensorflow==2.15) (3.0.2)\n",
            "Requirement already satisfied: pyasn1<0.7.0,>=0.6.1 in /usr/local/lib/python3.11/dist-packages (from pyasn1-modules>=0.2.1->google-auth<3,>=1.6.3->tensorboard<2.16,>=2.15->tensorflow==2.15) (0.6.1)\n",
            "Requirement already satisfied: oauthlib>=3.0.0 in /usr/local/lib/python3.11/dist-packages (from requests-oauthlib>=0.7.0->google-auth-oauthlib<2,>=0.5->tensorboard<2.16,>=2.15->tensorflow==2.15) (3.2.2)\n",
            "Downloading tensorflow-2.15.0-cp311-cp311-manylinux_2_17_x86_64.manylinux2014_x86_64.whl (475.3 MB)\n",
            "\u001b[2K   \u001b[90m━━━━━━━━━━━━━━━━━━━━━━━━━━━━━━━━━━━━━━━━\u001b[0m \u001b[32m475.3/475.3 MB\u001b[0m \u001b[31m3.1 MB/s\u001b[0m eta \u001b[36m0:00:00\u001b[0m\n",
            "\u001b[?25hDownloading keras-2.15.0-py3-none-any.whl (1.7 MB)\n",
            "\u001b[2K   \u001b[90m━━━━━━━━━━━━━━━━━━━━━━━━━━━━━━━━━━━━━━━━\u001b[0m \u001b[32m1.7/1.7 MB\u001b[0m \u001b[31m28.5 MB/s\u001b[0m eta \u001b[36m0:00:00\u001b[0m\n",
            "\u001b[?25hDownloading ml_dtypes-0.2.0-cp311-cp311-manylinux_2_17_x86_64.manylinux2014_x86_64.whl (1.0 MB)\n",
            "\u001b[2K   \u001b[90m━━━━━━━━━━━━━━━━━━━━━━━━━━━━━━━━━━━━━━━━\u001b[0m \u001b[32m1.0/1.0 MB\u001b[0m \u001b[31m26.7 MB/s\u001b[0m eta \u001b[36m0:00:00\u001b[0m\n",
            "\u001b[?25hDownloading numpy-1.26.4-cp311-cp311-manylinux_2_17_x86_64.manylinux2014_x86_64.whl (18.3 MB)\n",
            "\u001b[2K   \u001b[90m━━━━━━━━━━━━━━━━━━━━━━━━━━━━━━━━━━━━━━━━\u001b[0m \u001b[32m18.3/18.3 MB\u001b[0m \u001b[31m30.8 MB/s\u001b[0m eta \u001b[36m0:00:00\u001b[0m\n",
            "\u001b[?25hDownloading protobuf-4.25.6-cp37-abi3-manylinux2014_x86_64.whl (294 kB)\n",
            "\u001b[2K   \u001b[90m━━━━━━━━━━━━━━━━━━━━━━━━━━━━━━━━━━━━━━━━\u001b[0m \u001b[32m294.6/294.6 kB\u001b[0m \u001b[31m20.1 MB/s\u001b[0m eta \u001b[36m0:00:00\u001b[0m\n",
            "\u001b[?25hDownloading tensorboard-2.15.2-py3-none-any.whl (5.5 MB)\n",
            "\u001b[2K   \u001b[90m━━━━━━━━━━━━━━━━━━━━━━━━━━━━━━━━━━━━━━━━\u001b[0m \u001b[32m5.5/5.5 MB\u001b[0m \u001b[31m43.2 MB/s\u001b[0m eta \u001b[36m0:00:00\u001b[0m\n",
            "\u001b[?25hDownloading tensorflow_estimator-2.15.0-py2.py3-none-any.whl (441 kB)\n",
            "\u001b[2K   \u001b[90m━━━━━━━━━━━━━━━━━━━━━━━━━━━━━━━━━━━━━━━━\u001b[0m \u001b[32m442.0/442.0 kB\u001b[0m \u001b[31m19.9 MB/s\u001b[0m eta \u001b[36m0:00:00\u001b[0m\n",
            "\u001b[?25hDownloading wrapt-1.14.1-cp311-cp311-manylinux_2_5_x86_64.manylinux1_x86_64.manylinux_2_17_x86_64.manylinux2014_x86_64.whl (78 kB)\n",
            "\u001b[2K   \u001b[90m━━━━━━━━━━━━━━━━━━━━━━━━━━━━━━━━━━━━━━━━\u001b[0m \u001b[32m78.4/78.4 kB\u001b[0m \u001b[31m7.2 MB/s\u001b[0m eta \u001b[36m0:00:00\u001b[0m\n",
            "\u001b[?25hInstalling collected packages: wrapt, tensorflow-estimator, protobuf, numpy, keras, ml-dtypes, tensorboard, tensorflow\n",
            "  Attempting uninstall: wrapt\n",
            "    Found existing installation: wrapt 1.17.2\n",
            "    Uninstalling wrapt-1.17.2:\n",
            "      Successfully uninstalled wrapt-1.17.2\n",
            "  Attempting uninstall: protobuf\n",
            "    Found existing installation: protobuf 5.29.4\n",
            "    Uninstalling protobuf-5.29.4:\n",
            "      Successfully uninstalled protobuf-5.29.4\n",
            "  Attempting uninstall: numpy\n",
            "    Found existing installation: numpy 2.0.2\n",
            "    Uninstalling numpy-2.0.2:\n",
            "      Successfully uninstalled numpy-2.0.2\n",
            "  Attempting uninstall: keras\n",
            "    Found existing installation: keras 3.8.0\n",
            "    Uninstalling keras-3.8.0:\n",
            "      Successfully uninstalled keras-3.8.0\n",
            "  Attempting uninstall: ml-dtypes\n",
            "    Found existing installation: ml-dtypes 0.4.1\n",
            "    Uninstalling ml-dtypes-0.4.1:\n",
            "      Successfully uninstalled ml-dtypes-0.4.1\n",
            "  Attempting uninstall: tensorboard\n",
            "    Found existing installation: tensorboard 2.18.0\n",
            "    Uninstalling tensorboard-2.18.0:\n",
            "      Successfully uninstalled tensorboard-2.18.0\n",
            "  Attempting uninstall: tensorflow\n",
            "    Found existing installation: tensorflow 2.18.0\n",
            "    Uninstalling tensorflow-2.18.0:\n",
            "      Successfully uninstalled tensorflow-2.18.0\n",
            "\u001b[31mERROR: pip's dependency resolver does not currently take into account all the packages that are installed. This behaviour is the source of the following dependency conflicts.\n",
            "grpcio-status 1.71.0 requires protobuf<6.0dev,>=5.26.1, but you have protobuf 4.25.6 which is incompatible.\n",
            "tf-keras 2.18.0 requires tensorflow<2.19,>=2.18, but you have tensorflow 2.15.0 which is incompatible.\n",
            "tensorflow-decision-forests 1.11.0 requires tensorflow==2.18.0, but you have tensorflow 2.15.0 which is incompatible.\n",
            "tensorstore 0.1.73 requires ml_dtypes>=0.3.1, but you have ml-dtypes 0.2.0 which is incompatible.\n",
            "jax 0.5.2 requires ml_dtypes>=0.4.0, but you have ml-dtypes 0.2.0 which is incompatible.\n",
            "thinc 8.3.6 requires numpy<3.0.0,>=2.0.0, but you have numpy 1.26.4 which is incompatible.\n",
            "tensorflow-text 2.18.1 requires tensorflow<2.19,>=2.18.0, but you have tensorflow 2.15.0 which is incompatible.\n",
            "ydf 0.11.0 requires protobuf<6.0.0,>=5.29.1, but you have protobuf 4.25.6 which is incompatible.\u001b[0m\u001b[31m\n",
            "\u001b[0mSuccessfully installed keras-2.15.0 ml-dtypes-0.2.0 numpy-1.26.4 protobuf-4.25.6 tensorboard-2.15.2 tensorflow-2.15.0 tensorflow-estimator-2.15.0 wrapt-1.14.1\n"
          ]
        }
      ]
    },
    {
      "cell_type": "code",
      "source": [
        "!pip install keras\n",
        "!pip install opencv-python\n",
        "\n",
        "import numpy as np\n",
        "import tensorflow as tf\n",
        "from tensorflow.keras.datasets import cifar10\n",
        "import cv2\n",
        "import keras\n",
        "from tensorflow.keras.models import Model\n",
        "from sklearn.metrics import accuracy_score\n",
        "from sklearn.metrics import precision_score\n",
        "from sklearn.metrics import recall_score\n",
        "from sklearn.metrics import f1_score\n",
        "from sklearn.metrics import confusion_matrix\n",
        "import seaborn as sns\n",
        "import matplotlib.pyplot as plt"
      ],
      "metadata": {
        "id": "VI4tntDXaLvb",
        "outputId": "9fd899e6-d5c6-4442-eb23-8719237dcb20",
        "colab": {
          "base_uri": "https://localhost:8080/"
        }
      },
      "execution_count": 2,
      "outputs": [
        {
          "output_type": "stream",
          "name": "stdout",
          "text": [
            "Requirement already satisfied: keras in /usr/local/lib/python3.11/dist-packages (3.8.0)\n",
            "Requirement already satisfied: absl-py in /usr/local/lib/python3.11/dist-packages (from keras) (1.4.0)\n",
            "Requirement already satisfied: numpy in /usr/local/lib/python3.11/dist-packages (from keras) (2.0.2)\n",
            "Requirement already satisfied: rich in /usr/local/lib/python3.11/dist-packages (from keras) (13.9.4)\n",
            "Requirement already satisfied: namex in /usr/local/lib/python3.11/dist-packages (from keras) (0.0.8)\n",
            "Requirement already satisfied: h5py in /usr/local/lib/python3.11/dist-packages (from keras) (3.13.0)\n",
            "Requirement already satisfied: optree in /usr/local/lib/python3.11/dist-packages (from keras) (0.14.1)\n",
            "Requirement already satisfied: ml-dtypes in /usr/local/lib/python3.11/dist-packages (from keras) (0.4.1)\n",
            "Requirement already satisfied: packaging in /usr/local/lib/python3.11/dist-packages (from keras) (24.2)\n",
            "Requirement already satisfied: typing-extensions>=4.5.0 in /usr/local/lib/python3.11/dist-packages (from optree->keras) (4.13.1)\n",
            "Requirement already satisfied: markdown-it-py>=2.2.0 in /usr/local/lib/python3.11/dist-packages (from rich->keras) (3.0.0)\n",
            "Requirement already satisfied: pygments<3.0.0,>=2.13.0 in /usr/local/lib/python3.11/dist-packages (from rich->keras) (2.18.0)\n",
            "Requirement already satisfied: mdurl~=0.1 in /usr/local/lib/python3.11/dist-packages (from markdown-it-py>=2.2.0->rich->keras) (0.1.2)\n",
            "Requirement already satisfied: opencv-python in /usr/local/lib/python3.11/dist-packages (4.11.0.86)\n",
            "Requirement already satisfied: numpy>=1.21.2 in /usr/local/lib/python3.11/dist-packages (from opencv-python) (2.0.2)\n"
          ]
        }
      ]
    },
    {
      "cell_type": "code",
      "source": [
        "# check tf version\n",
        "tf.__version__"
      ],
      "metadata": {
        "colab": {
          "base_uri": "https://localhost:8080/",
          "height": 35
        },
        "id": "fCn2jSm72LT1",
        "outputId": "0f631e76-f543-4a90-a0c3-0f9781da1a3a"
      },
      "execution_count": 2,
      "outputs": [
        {
          "output_type": "execute_result",
          "data": {
            "text/plain": [
              "'2.15.0'"
            ],
            "application/vnd.google.colaboratory.intrinsic+json": {
              "type": "string"
            }
          },
          "metadata": {},
          "execution_count": 2
        }
      ]
    },
    {
      "metadata": {
        "id": "OkG5ZYjqbFQe"
      },
      "cell_type": "markdown",
      "source": [
        "# Step 1\n",
        "\n",
        "1. Load the CIFAR-10 dataset (You can use libraries like TensorFlow/Keras or PyTorch to load\n",
        "the dataset.)\n",
        "2. Explore the dataset (e.g., visualize some images, check the class distribution).\n",
        "3. Use proper transformation on your data if required.\n",
        "4. Normalize the image data.\n",
        "5. Split the data into training, validation and test sets."
      ]
    },
    {
      "cell_type": "code",
      "metadata": {
        "id": "GJX-xU931oGK",
        "ExecuteTime": {
          "end_time": "2025-03-04T04:29:49.862206Z",
          "start_time": "2025-03-04T04:29:21.702530Z"
        },
        "outputId": "7a4cd089-7e55-453f-dd09-e60fcd3a3a58",
        "colab": {
          "base_uri": "https://localhost:8080/"
        }
      },
      "source": [
        "import numpy as np\n",
        "import tensorflow as tf\n",
        "from tensorflow.keras.datasets import cifar10\n",
        "\n",
        "# Set a seed value\n",
        "SEED = 42\n",
        "\n",
        "# Set the seed for NumPy\n",
        "np.random.seed(SEED)\n",
        "\n",
        "# Set the seed for TensorFlow\n",
        "tf.random.set_seed(SEED)\n",
        "\n",
        "# 1. Load the CIFAR-10 dataset\n",
        "(x_train, y_train), (x_test, y_test) = cifar10.load_data()\n",
        "\n",
        "# 2. Combine train and test data\n",
        "x_all = np.concatenate((x_train, x_test), axis=0)\n",
        "y_all = np.concatenate((y_train, y_test), axis=0)\n",
        "\n",
        "# 3. Function to split data equally\n",
        "def split_data_equally(x, y, train_ratio=0.8):\n",
        "    num_classes = 10\n",
        "    indices = []\n",
        "    for i in range(num_classes):\n",
        "        idx = np.where(y == i)[0]\n",
        "        np.random.shuffle(idx)\n",
        "        split = int(len(idx) * train_ratio)\n",
        "        indices.append((idx[:split], idx[split:]))\n",
        "\n",
        "    train_indices = np.concatenate([i[0] for i in indices])\n",
        "    val_indices = np.concatenate([i[1] for i in indices])\n",
        "\n",
        "    np.random.shuffle(train_indices)\n",
        "    np.random.shuffle(val_indices)\n",
        "\n",
        "    return x[train_indices], y[train_indices], x[val_indices], y[val_indices]\n",
        "\n",
        "# 4. Split the data\n",
        "x_train, y_train, x_val, y_val = split_data_equally(x_all, y_all)\n",
        "\n",
        "# 5. Verify class distribution\n",
        "def count_classes(y):\n",
        "    return np.bincount(y.flatten())\n",
        "\n",
        "print(\"Train set class distribution:\", count_classes(y_train))\n",
        "print(\"Validation set class distribution:\", count_classes(y_val))\n",
        "print(\"Test set class distribution:\", count_classes(y_test))\n"
      ],
      "outputs": [
        {
          "output_type": "stream",
          "name": "stdout",
          "text": [
            "Downloading data from https://www.cs.toronto.edu/~kriz/cifar-10-python.tar.gz\n",
            "\u001b[1m170498071/170498071\u001b[0m \u001b[32m━━━━━━━━━━━━━━━━━━━━\u001b[0m\u001b[37m\u001b[0m \u001b[1m13s\u001b[0m 0us/step\n",
            "Train set class distribution: [4800 4800 4800 4800 4800 4800 4800 4800 4800 4800]\n",
            "Validation set class distribution: [1200 1200 1200 1200 1200 1200 1200 1200 1200 1200]\n",
            "Test set class distribution: [1000 1000 1000 1000 1000 1000 1000 1000 1000 1000]\n"
          ]
        }
      ],
      "execution_count": 3
    },
    {
      "cell_type": "code",
      "source": [
        "print('Image size of x_train: ', x_train.shape)\n",
        "print('Image size of x_val: ', x_val.shape)\n",
        "print('Image size of x_test: ', x_test.shape)"
      ],
      "metadata": {
        "id": "IqAXmcMv9X3h",
        "outputId": "710fac28-5752-4f4f-8712-afa1542557c2",
        "colab": {
          "base_uri": "https://localhost:8080/"
        }
      },
      "execution_count": 9,
      "outputs": [
        {
          "output_type": "stream",
          "name": "stdout",
          "text": [
            "Image size of x_train:  (48000, 32, 32, 3)\n",
            "Image size of x_val:  (12000, 32, 32, 3)\n",
            "Image size of x_test:  (10000, 32, 32, 3)\n"
          ]
        }
      ]
    },
    {
      "cell_type": "code",
      "source": [
        "# Class label with its corresponding integer\n",
        "# cifar10_labels = {\n",
        "#     0: \"airplane\",\n",
        "#     1: \"automobile\",\n",
        "#     2: \"bird\",\n",
        "#     3: \"cat\",\n",
        "#     4: \"deer\",\n",
        "#     5: \"dog\",\n",
        "#     6: \"frog\",\n",
        "#     7: \"horse\",\n",
        "#     8: \"ship\",\n",
        "#     9: \"truck\"\n",
        "# }\n"
      ],
      "metadata": {
        "id": "8P8qRYu4Ph89"
      },
      "execution_count": null,
      "outputs": []
    },
    {
      "metadata": {
        "id": "2m6YpITHbFQj",
        "outputId": "0936aeca-056c-4070-9624-204f9a2c88cd",
        "colab": {
          "base_uri": "https://localhost:8080/",
          "height": 826
        }
      },
      "cell_type": "code",
      "outputs": [
        {
          "output_type": "display_data",
          "data": {
            "text/plain": [
              "<Figure size 1000x1000 with 25 Axes>"
            ],
            "image/png": "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\n"
          },
          "metadata": {}
        }
      ],
      "execution_count": 11,
      "source": [
        "# Visualize images\n",
        "import matplotlib.pyplot as plt\n",
        "\n",
        "\n",
        "classes = ('plane', 'car', 'bird', 'cat',\n",
        "           'deer', 'dog', 'frog', 'horse', 'ship', 'truck')\n",
        "\n",
        "plt.figure(figsize=(10, 10))\n",
        "for i in range(25):\n",
        "    plt.subplot(5, 5, i + 1)\n",
        "    plt.xticks([])\n",
        "    plt.yticks([])\n",
        "    plt.grid(False)\n",
        "    plt.imshow(x_train[i])\n",
        "    plt.xlabel(classes[y_train[i][0]])\n",
        "plt.show()"
      ]
    },
    {
      "cell_type": "markdown",
      "source": [
        "\n",
        "\n",
        "*   Do normalization before image transformation to keep image information secure\n",
        "\n"
      ],
      "metadata": {
        "id": "21LrLc3cSQnS"
      }
    },
    {
      "cell_type": "code",
      "source": [
        "# Normalize images\n",
        "x_train = x_train / 255.0\n",
        "x_test = x_test / 255.0\n",
        "x_val = x_val / 255.0"
      ],
      "metadata": {
        "id": "ZmbYORnme2lC"
      },
      "execution_count": 4,
      "outputs": []
    },
    {
      "cell_type": "markdown",
      "source": [
        "\n",
        "\n",
        "*   Color is not important information in this case, object is important feature\n",
        "\n",
        "*   Try color ones later to see improvement\n",
        "\n",
        "\n",
        "\n",
        "\n"
      ],
      "metadata": {
        "id": "ICvA8ireTu1t"
      }
    },
    {
      "cell_type": "code",
      "source": [
        "# Transform into grayscale\n",
        "x_train = tf.image.rgb_to_grayscale(x_train)\n",
        "x_test = tf.image.rgb_to_grayscale(x_test)\n",
        "x_val = tf.image.rgb_to_grayscale(x_val)"
      ],
      "metadata": {
        "id": "dKRBX8SUp5FB"
      },
      "execution_count": 7,
      "outputs": []
    },
    {
      "cell_type": "markdown",
      "source": [
        "# Step 2\n",
        "1. Define the CNN architecture (e.g., using Keras or PyTorch).\n",
        "2. Explain what type of layers you are including and why (layers like Conv2D, MaxPooling2D,\n",
        "Flatten, Dense, …)\n",
        "3. Visualize your CNN architecture\n",
        "4. Compile the model with appropriate loss function and optimizer. Explain your choice of loos\n",
        "function and optimizer.\n",
        "5. Train the model on the training data and validate it on the validation set.\n",
        "6. Visualize the training process using both training and validation results."
      ],
      "metadata": {
        "id": "phFaCA0bU61S"
      }
    },
    {
      "cell_type": "code",
      "source": [
        "# Define the CNN architecture\n",
        "import keras\n",
        "num_classes = 10\n",
        "input_shape = (32, 32, 1)\n",
        "\n",
        "model = keras.Sequential(\n",
        "    [\n",
        "        keras.layers.Input(shape=input_shape),\n",
        "        keras.layers.Conv2D(32, kernel_size=(3,3), activation='relu'),\n",
        "        keras.layers.Conv2D(32, kernel_size=(3,3), activation='relu'),\n",
        "        keras.layers.MaxPooling2D(pool_size=(2,2)),\n",
        "        keras.layers.Conv2D(64, kernel_size=(3,3), activation='relu'),\n",
        "        keras.layers.Conv2D(64, kernel_size=(3,3), activation='relu'),\n",
        "        keras.layers.MaxPooling2D(pool_size=(2,2)),\n",
        "        keras.layers.Conv2D(128, kernel_size=(3,3), activation='relu'),\n",
        "        keras.layers.Conv2D(128, kernel_size=(3,3), activation='relu', name='last_conv'),\n",
        "        keras.layers.GlobalAveragePooling2D(),\n",
        "        keras.layers.Dropout(0.5),\n",
        "        keras.layers.Dense(num_classes, activation='softmax')\n",
        "    ]\n",
        ")"
      ],
      "metadata": {
        "id": "BTTw7cpJrLy8"
      },
      "execution_count": null,
      "outputs": []
    },
    {
      "cell_type": "code",
      "source": [
        "model.summary()"
      ],
      "metadata": {
        "id": "gYyr_aQWAgqs",
        "outputId": "3e375c9e-9198-4e87-eff7-99c7dd68672b",
        "colab": {
          "base_uri": "https://localhost:8080/"
        }
      },
      "execution_count": null,
      "outputs": [
        {
          "output_type": "stream",
          "name": "stdout",
          "text": [
            "Model: \"sequential\"\n",
            "_________________________________________________________________\n",
            " Layer (type)                Output Shape              Param #   \n",
            "=================================================================\n",
            " conv2d (Conv2D)             (None, 30, 30, 32)        320       \n",
            "                                                                 \n",
            " conv2d_1 (Conv2D)           (None, 28, 28, 32)        9248      \n",
            "                                                                 \n",
            " max_pooling2d (MaxPooling2  (None, 14, 14, 32)        0         \n",
            " D)                                                              \n",
            "                                                                 \n",
            " conv2d_2 (Conv2D)           (None, 12, 12, 64)        18496     \n",
            "                                                                 \n",
            " conv2d_3 (Conv2D)           (None, 10, 10, 64)        36928     \n",
            "                                                                 \n",
            " max_pooling2d_1 (MaxPoolin  (None, 5, 5, 64)          0         \n",
            " g2D)                                                            \n",
            "                                                                 \n",
            " conv2d_4 (Conv2D)           (None, 3, 3, 128)         73856     \n",
            "                                                                 \n",
            " last_conv (Conv2D)          (None, 1, 1, 128)         147584    \n",
            "                                                                 \n",
            " global_average_pooling2d (  (None, 128)               0         \n",
            " GlobalAveragePooling2D)                                         \n",
            "                                                                 \n",
            " dropout (Dropout)           (None, 128)               0         \n",
            "                                                                 \n",
            " dense (Dense)               (None, 10)                1290      \n",
            "                                                                 \n",
            "=================================================================\n",
            "Total params: 287722 (1.10 MB)\n",
            "Trainable params: 287722 (1.10 MB)\n",
            "Non-trainable params: 0 (0.00 Byte)\n",
            "_________________________________________________________________\n"
          ]
        }
      ]
    },
    {
      "cell_type": "markdown",
      "source": [
        "**Why this architecture**\n",
        "\n",
        "*   conv2D: To devide data into small pieces (kernel?), repeating it to learn increasingly complex and abstract representations\n",
        "  *   By increaing the number of filters, it makes CNN learn images in detail (hierarical structure?)\n",
        "*   ReLu: helps CNN learn non-linear relationship between features and images\n",
        "*   max_pooling: To capture the most important features on each kernel\n",
        "*   global_average_pooling: Enforces correspondence between feature maps and categories\n",
        "*   dropout: To avoid overfitting to the training dataset\n",
        "*   dense: To learn combination of features from the previous layers\n",
        "*   softmax: To give probabilities for each class to choose the biggest value as output\n",
        "\n",
        "\n"
      ],
      "metadata": {
        "id": "3ZyXtHs2BTDZ"
      }
    },
    {
      "cell_type": "code",
      "source": [
        "model.compile(\n",
        "    loss=keras.losses.SparseCategoricalCrossentropy(from_logits=False),\n",
        "    optimizer=keras.optimizers.Adam(learning_rate=0.001),\n",
        "    metrics=['accuracy']\n",
        ")"
      ],
      "metadata": {
        "id": "dZEbkZeSAjZu"
      },
      "execution_count": null,
      "outputs": []
    },
    {
      "cell_type": "markdown",
      "source": [
        "**Why these loss function and optimizer**\n",
        "\n",
        "\n",
        "*   **SparseCategoricalCrossentropy**: This loss function is suitable for multi-class classification, like this 10 class clasification. It computes the cross-entropy loss between the true class labels and the predicted probabilities, ensuring that the model effectively learns to classify images into one of these distinct categories\n",
        "\n",
        "*   **Adam**: This was chosen because of its adaptive learning rate capabilities, which make it effective for training CNN. Also, it requires less memory and high performance\n",
        "\n"
      ],
      "metadata": {
        "id": "CWnlbQY3kiKv"
      }
    },
    {
      "cell_type": "code",
      "source": [
        "batch_size = 128\n",
        "epochs = 20\n",
        "\n",
        "callbacks = [\n",
        "    keras.callbacks.ModelCheckpoint(filepath='best_model.keras', save_best_only=True),\n",
        "    keras.callbacks.EarlyStopping(monitor = 'val_loss', patience = 2),\n",
        "]\n",
        "\n",
        "train_progress = model.fit(\n",
        "    x_train, y_train,\n",
        "    batch_size = batch_size,\n",
        "    epochs = epochs,\n",
        "    validation_data = (x_val, y_val),\n",
        "    callbacks = callbacks,\n",
        ")\n",
        "\n",
        "score = model.evaluate(x_val, y_val, verbose=0)\n",
        "print('Validation loss:', score[0])\n",
        "print('Validation accuracy:', score[1])"
      ],
      "metadata": {
        "id": "ndu4hhU2Azsy",
        "outputId": "afcad26c-b818-4947-f97c-761829f84322",
        "colab": {
          "base_uri": "https://localhost:8080/"
        }
      },
      "execution_count": null,
      "outputs": [
        {
          "output_type": "stream",
          "name": "stdout",
          "text": [
            "Epoch 1/20\n",
            "375/375 [==============================] - 120s 316ms/step - loss: 1.9145 - accuracy: 0.2926 - val_loss: 1.5645 - val_accuracy: 0.4378\n",
            "Epoch 2/20\n",
            "375/375 [==============================] - 103s 274ms/step - loss: 1.5273 - accuracy: 0.4546 - val_loss: 1.3377 - val_accuracy: 0.5312\n",
            "Epoch 3/20\n",
            "375/375 [==============================] - 105s 280ms/step - loss: 1.3158 - accuracy: 0.5405 - val_loss: 1.1639 - val_accuracy: 0.5928\n",
            "Epoch 4/20\n",
            "375/375 [==============================] - 101s 269ms/step - loss: 1.1841 - accuracy: 0.5903 - val_loss: 1.0665 - val_accuracy: 0.6203\n",
            "Epoch 5/20\n",
            "375/375 [==============================] - 101s 271ms/step - loss: 1.0957 - accuracy: 0.6199 - val_loss: 1.0353 - val_accuracy: 0.6352\n",
            "Epoch 6/20\n",
            "375/375 [==============================] - 104s 277ms/step - loss: 1.0079 - accuracy: 0.6531 - val_loss: 0.9590 - val_accuracy: 0.6605\n",
            "Epoch 7/20\n",
            "375/375 [==============================] - 103s 275ms/step - loss: 0.9518 - accuracy: 0.6735 - val_loss: 0.9154 - val_accuracy: 0.6697\n",
            "Epoch 8/20\n",
            "375/375 [==============================] - 103s 275ms/step - loss: 0.8822 - accuracy: 0.6955 - val_loss: 0.8840 - val_accuracy: 0.6893\n",
            "Epoch 9/20\n",
            "375/375 [==============================] - 109s 291ms/step - loss: 0.8311 - accuracy: 0.7137 - val_loss: 0.8370 - val_accuracy: 0.7054\n",
            "Epoch 10/20\n",
            "375/375 [==============================] - 103s 275ms/step - loss: 0.7896 - accuracy: 0.7291 - val_loss: 0.8321 - val_accuracy: 0.7112\n",
            "Epoch 11/20\n",
            "375/375 [==============================] - 101s 269ms/step - loss: 0.7484 - accuracy: 0.7422 - val_loss: 0.8124 - val_accuracy: 0.7190\n",
            "Epoch 12/20\n",
            "375/375 [==============================] - 101s 270ms/step - loss: 0.7145 - accuracy: 0.7532 - val_loss: 0.7752 - val_accuracy: 0.7318\n",
            "Epoch 13/20\n",
            "375/375 [==============================] - 101s 270ms/step - loss: 0.6794 - accuracy: 0.7646 - val_loss: 0.7917 - val_accuracy: 0.7294\n",
            "Epoch 14/20\n",
            "375/375 [==============================] - 101s 270ms/step - loss: 0.6525 - accuracy: 0.7741 - val_loss: 0.7982 - val_accuracy: 0.7255\n",
            "Validation loss: 0.7982261776924133\n",
            "Validation accuracy: 0.7254999876022339\n"
          ]
        }
      ]
    },
    {
      "cell_type": "code",
      "source": [
        "# Visualize the training process using both training and validation results.\n",
        "import matplotlib.pyplot as plt\n",
        "\n",
        "history = train_progress.history\n",
        "\n",
        "# Plot training and validation accuracy values\n",
        "plt.plot(history['accuracy'])\n",
        "plt.plot(history['val_accuracy'])\n",
        "plt.title('Model Accuracy')\n",
        "plt.ylabel('Accuracy')\n",
        "plt.xlabel('Epoch')\n",
        "plt.legend(['Train', 'Validation'], loc='upper left')\n",
        "plt.show()\n",
        "\n",
        "# Plot training and validation loss values\n",
        "plt.plot(history['loss'])\n",
        "plt.plot(history['val_loss'])\n",
        "plt.title('Model Loss')\n",
        "plt.ylabel('Loss')\n",
        "plt.xlabel('Epoch')\n",
        "plt.legend(['Train', 'Validation'], loc='upper left')\n",
        "plt.show()"
      ],
      "metadata": {
        "id": "eHFrE0v-E1k4",
        "colab": {
          "base_uri": "https://localhost:8080/",
          "height": 927
        },
        "outputId": "394d22c1-cc16-46d6-e7bf-74f881d1ea63"
      },
      "execution_count": null,
      "outputs": [
        {
          "output_type": "display_data",
          "data": {
            "text/plain": [
              "<Figure size 640x480 with 1 Axes>"
            ],
            "image/png": "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\n"
          },
          "metadata": {}
        },
        {
          "output_type": "display_data",
          "data": {
            "text/plain": [
              "<Figure size 640x480 with 1 Axes>"
            ],
            "image/png": "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\n"
          },
          "metadata": {}
        }
      ]
    },
    {
      "cell_type": "markdown",
      "source": [
        "# Step 3\n",
        "1. Use the trained model to predict labels for the test set.\n",
        "2. Compute performance metrics such as accuracy, precision, recall, and F1-score (Explain your\n",
        "choice).\n",
        "3. Visualize your confusion matrix.\n",
        "4. Analyze the results and identify potential improvements."
      ],
      "metadata": {
        "id": "ltZuDn3a_fgs"
      }
    },
    {
      "cell_type": "code",
      "source": [
        "# Use the trained model to predict labels for the test set\n",
        "y_pred = model.predict(x_test)\n",
        "y_pred = np.argmax(y_pred, axis=1)"
      ],
      "metadata": {
        "colab": {
          "base_uri": "https://localhost:8080/"
        },
        "id": "xm5D1Ghb_o-i",
        "outputId": "bc7b03f6-c36f-439b-9b65-40a71c25d1bb"
      },
      "execution_count": null,
      "outputs": [
        {
          "output_type": "stream",
          "name": "stdout",
          "text": [
            "313/313 [==============================] - 6s 18ms/step\n"
          ]
        }
      ]
    },
    {
      "cell_type": "markdown",
      "source": [
        "**Compute performance**\n",
        "\n",
        "*   **Accuracy**: To evaluate the overall model performance, check the proportion of the number of correct decision making out of all predictions\n",
        "*   **Precision**: To assess the model performance if it can identify instances of a particular class correctly\n",
        "*   **Recall**: To measures the model's ability to identify all instances of a particular class\n",
        "*   **F1-score**: To balance the trade-off between identifying true positives and minimizing false positives. In this case, we would like to perform well to get true positives, at the same time, minimize misclasification or false positives, so applied this metric\n",
        "\n",
        "\n",
        "\n",
        "\n"
      ],
      "metadata": {
        "id": "oOvHS8RoDTVC"
      }
    },
    {
      "cell_type": "code",
      "source": [
        "# Accuracy\n",
        "from sklearn.metrics import accuracy_score\n",
        "accuracy = accuracy_score(y_test, y_pred)\n",
        "print('Accuracy:', accuracy)\n",
        "\n",
        "# Precision\n",
        "from sklearn.metrics import precision_score\n",
        "precision = precision_score(y_test, y_pred, average='weighted')\n",
        "print('Precision:', precision)\n",
        "\n",
        "# Recall\n",
        "from sklearn.metrics import recall_score\n",
        "recall = recall_score(y_test, y_pred, average='weighted')\n",
        "print('Recall:', recall)\n",
        "\n",
        "# F1 score\n",
        "from sklearn.metrics import f1_score\n",
        "f1 = f1_score(y_test, y_pred, average='weighted')\n",
        "print('F1 score:', f1)"
      ],
      "metadata": {
        "id": "CPCOmq5JDL6e",
        "colab": {
          "base_uri": "https://localhost:8080/"
        },
        "outputId": "64b4e408-03b0-4589-b3f9-ff69fc173a5f"
      },
      "execution_count": null,
      "outputs": [
        {
          "output_type": "stream",
          "name": "stdout",
          "text": [
            "Accuracy: 0.7964\n",
            "Precision: 0.8023749032116876\n",
            "Recall: 0.7964\n",
            "F1 score: 0.7929570737296457\n"
          ]
        }
      ]
    },
    {
      "cell_type": "markdown",
      "source": [
        "**Performance Analysis**\n",
        "\n",
        "\n",
        "*   F1 score is below 0.8, so performance of this model is average.\n",
        "*   Comapring accuracy and recall, there's no difference, that shows our model is balancly detected 10 classes.\n",
        "\n"
      ],
      "metadata": {
        "id": "Vqpx7hRHAdXg"
      }
    },
    {
      "cell_type": "code",
      "source": [
        "# Confusion matrix\n",
        "from sklearn.metrics import confusion_matrix\n",
        "import seaborn as sns\n",
        "import matplotlib.pyplot as plt\n",
        "\n",
        "cm = confusion_matrix(y_test, y_pred)\n",
        "plt.figure(figsize=(10, 10))\n",
        "sns.heatmap(cm, annot=True, fmt='d', cmap='Blues', xticklabels=classes, yticklabels=classes)\n",
        "plt.xlabel('Predicted')\n",
        "plt.ylabel('True')"
      ],
      "metadata": {
        "colab": {
          "base_uri": "https://localhost:8080/",
          "height": 868
        },
        "id": "ciHVEoY5_WJI",
        "outputId": "c5c6c526-f6ee-4f8b-a7ce-77fd7a022ba1"
      },
      "execution_count": null,
      "outputs": [
        {
          "output_type": "execute_result",
          "data": {
            "text/plain": [
              "Text(95.72222222222221, 0.5, 'True')"
            ]
          },
          "metadata": {},
          "execution_count": 15
        },
        {
          "output_type": "display_data",
          "data": {
            "text/plain": [
              "<Figure size 1000x1000 with 2 Axes>"
            ],
            "image/png": "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\n"
          },
          "metadata": {}
        }
      ]
    },
    {
      "cell_type": "markdown",
      "source": [
        "**Confusion matrix analysis**\n",
        "\n",
        "\n",
        "*   This chart shows that our model struggle to differenciate from cat to dog.\n",
        "  *    Identify which information our model used to classify\n",
        "    *    Create image heat map\n",
        "*   Animals except frog were poor performance\n",
        "\n"
      ],
      "metadata": {
        "id": "Dgk8BwyxBco9"
      }
    },
    {
      "cell_type": "markdown",
      "source": [
        "**Grad-CAM to see how the our model works**\n",
        "*   Analyze clasification performance for cat and dog\n",
        "\n",
        "\n"
      ],
      "metadata": {
        "id": "9WRfKqvMZqPu"
      }
    },
    {
      "cell_type": "code",
      "source": [
        "# Get cat and dog images from testing dataset\n",
        "cat_idx = np.where(y_test == 3)[0]\n",
        "dog_idx = np.where(y_test == 5)[0]\n",
        "\n",
        "# Ensure indices are within the valid range\n",
        "cat_idx = cat_idx[cat_idx < x_test.shape[0]]  # Filter indices\n",
        "dog_idx = dog_idx[dog_idx < x_test.shape[0]]  # Filter indices\n",
        "\n",
        "cat_image = x_test[cat_idx[0]]  # Access the first cat image\n",
        "dog_image = x_test[dog_idx[0]]  # Access the first dog image\n",
        "\n",
        "cat_image = np.expand_dims(cat_image, axis=0)\n",
        "dog_image = np.expand_dims(dog_image, axis=0)\n",
        "\n",
        "# cat_image and dog_image are already numpy arrays,\n",
        "# so you don't need to call .numpy() on them\n",
        "cat_image_np = cat_image.squeeze()  # Remove extra dimensions\n",
        "dog_image_np = dog_image.squeeze()\n",
        "\n",
        "# Rescale pixel values to 0-255\n",
        "cat_image_np = (cat_image_np * 255).astype(np.uint8)\n",
        "dog_image_np = (dog_image_np * 255).astype(np.uint8)\n",
        "\n",
        "# Save as PNG files\n",
        "plt.imsave('cat_image.png', cat_image_np, cmap='gray')\n",
        "plt.imsave('dog_image.png', dog_image_np, cmap='gray')"
      ],
      "metadata": {
        "id": "-1En6ssqDtqj"
      },
      "execution_count": null,
      "outputs": []
    },
    {
      "cell_type": "code",
      "source": [
        "import matplotlib.pyplot as plt\n",
        "\n",
        "image = cv2.imread('/content/cat_image.png', 0)\n",
        "image = cv2.bitwise_not(image)\n",
        "image = cv2.resize(image, (32, 32))\n",
        "\n",
        "# checking how it looks\n",
        "plt.imshow(image, cmap=\"gray\")\n",
        "plt.show()\n",
        "\n",
        "image = tf.expand_dims(image, axis=-1)\n",
        "image = tf.divide(image, 255)\n",
        "image = tf.reshape(image, [1, 32, 32, 1])\n",
        "\n",
        "print(image.shape)"
      ],
      "metadata": {
        "colab": {
          "base_uri": "https://localhost:8080/",
          "height": 448
        },
        "id": "dMu34nPpYvdF",
        "outputId": "74f13ec5-be95-4312-91fd-c4f36377fdbd"
      },
      "execution_count": null,
      "outputs": [
        {
          "output_type": "display_data",
          "data": {
            "text/plain": [
              "<Figure size 640x480 with 1 Axes>"
            ],
            "image/png": "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\n"
          },
          "metadata": {}
        },
        {
          "output_type": "stream",
          "name": "stdout",
          "text": [
            "(1, 32, 32, 1)\n"
          ]
        }
      ]
    },
    {
      "cell_type": "code",
      "source": [
        "model = keras.models.load_model('/content/best_model.keras')"
      ],
      "metadata": {
        "id": "pdYnVkg32aB0"
      },
      "execution_count": null,
      "outputs": []
    },
    {
      "cell_type": "code",
      "source": [
        "preds = model.predict(image)\n",
        "i = np.argmax(preds[0])\n",
        "i"
      ],
      "metadata": {
        "id": "WPMoDWKMZN5B",
        "colab": {
          "base_uri": "https://localhost:8080/"
        },
        "outputId": "3ed20278-7ae2-4a83-e20d-691d040c0067"
      },
      "execution_count": null,
      "outputs": [
        {
          "output_type": "stream",
          "name": "stdout",
          "text": [
            "1/1 [==============================] - 0s 91ms/step\n"
          ]
        },
        {
          "output_type": "execute_result",
          "data": {
            "text/plain": [
              "3"
            ]
          },
          "metadata": {},
          "execution_count": 27
        }
      ]
    },
    {
      "cell_type": "markdown",
      "source": [
        "\n",
        "\n",
        "*   Lable 3 is cat\n",
        "\n"
      ],
      "metadata": {
        "id": "cTQVpYhcHNX8"
      }
    },
    {
      "cell_type": "code",
      "source": [
        "class GradCAM:\n",
        "    def __init__(self, model, classIdx, layerName=None):\n",
        "        # store the model, the class index used to measure the class\n",
        "        # activation map, and the layer to be used when visualizing\n",
        "        # the class activation map\n",
        "        self.model = model\n",
        "        self.classIdx = classIdx\n",
        "        self.layerName = layerName\n",
        "        # if the layer name is None, attempt to automatically find\n",
        "        # the target output layer\n",
        "        if self.layerName is None:\n",
        "            self.layerName = self.find_target_layer()\n",
        "\n",
        "    def find_target_layer(self):\n",
        "        # attempt to find the final convolutional layer in the network\n",
        "        # by looping over the layers of the network in reverse order\n",
        "        for layer in reversed(self.model.layers):\n",
        "            # check to see if the layer has a 4D output\n",
        "            if len(layer.output_shape) == 4:\n",
        "                return layer.name\n",
        "        # otherwise, we could not find a 4D layer so the GradCAM\n",
        "        # algorithm cannot be applied\n",
        "        raise ValueError(\"Could not find 4D layer. Cannot apply GradCAM.\")\n",
        "\n",
        "\n",
        "    def compute_heatmap(self, image, eps=1e-8):\n",
        "        # construct our gradient model by supplying (1) the inputs\n",
        "        # to our pre-trained model, (2) the output of the (presumably)\n",
        "        # final 4D layer in the network, and (3) the output of the\n",
        "        # softmax activations from the model\n",
        "        gradModel = Model(\n",
        "            inputs=[self.model.inputs],\n",
        "            outputs=[self.model.get_layer(self.layerName).output, self.model.output])\n",
        "\n",
        "\n",
        "\n",
        "        # record operations for automatic differentiation\n",
        "        with tf.GradientTape() as tape:\n",
        "            # cast the image tensor to a float-32 data type, pass the\n",
        "            # image through the gradient model, and grab the loss\n",
        "            # associated with the specific class index\n",
        "            inputs = tf.cast(image, tf.float32)\n",
        "            (convOutputs, predictions) = gradModel(inputs)\n",
        "\n",
        "            loss = predictions[:, tf.argmax(predictions[0])]\n",
        "\n",
        "        # use automatic differentiation to compute the gradients\n",
        "        grads = tape.gradient(loss, convOutputs)\n",
        "\n",
        "        # compute the guided gradients\n",
        "        castConvOutputs = tf.cast(convOutputs > 0, \"float32\")\n",
        "        castGrads = tf.cast(grads > 0, \"float32\")\n",
        "        guidedGrads = castConvOutputs * castGrads * grads\n",
        "        # the convolution and guided gradients have a batch dimension\n",
        "        # (which we don't need) so let's grab the volume itself and\n",
        "        # discard the batch\n",
        "        convOutputs = convOutputs[0]\n",
        "        guidedGrads = guidedGrads[0]\n",
        "\n",
        "        # compute the average of the gradient values, and using them\n",
        "        # as weights, compute the ponderation of the filters with\n",
        "        # respect to the weights\n",
        "        weights = tf.reduce_mean(guidedGrads, axis=(0, 1))\n",
        "        cam = tf.reduce_sum(tf.multiply(weights, convOutputs), axis=-1)\n",
        "\n",
        "        # grab the spatial dimensions of the input image and resize\n",
        "        # the output class activation map to match the input image\n",
        "        # dimensions\n",
        "        (w, h) = (image.shape[2], image.shape[1])\n",
        "        heatmap = cv2.resize(cam.numpy(), (w, h))\n",
        "        # normalize the heatmap such that all values lie in the range\n",
        "        # [0, 1], scale the resulting values to the range [0, 255],\n",
        "        # and then convert to an unsigned 8-bit integer\n",
        "        numer = heatmap - np.min(heatmap)\n",
        "        denom = (heatmap.max() - heatmap.min()) + eps\n",
        "        heatmap = numer / denom\n",
        "        heatmap = (heatmap * 255).astype(\"uint8\")\n",
        "        # return the resulting heatmap to the calling function\n",
        "        return heatmap\n",
        "\n",
        "    def overlay_heatmap(self, heatmap, image, alpha=0.5,\n",
        "                        colormap=cv2.COLORMAP_VIRIDIS):\n",
        "        # apply the supplied color map to the heatmap and then\n",
        "        # overlay the heatmap on the input image\n",
        "        heatmap = cv2.applyColorMap(heatmap, colormap)\n",
        "        output = cv2.addWeighted(image, alpha, heatmap, 1 - alpha, 0)\n",
        "        # return a 2-tuple of the color mapped heatmap and the output,\n",
        "        # overlaid image\n",
        "        return (heatmap, output)"
      ],
      "metadata": {
        "id": "l3FAEXqvZmel"
      },
      "execution_count": null,
      "outputs": []
    },
    {
      "cell_type": "code",
      "source": [
        "icam = GradCAM(model, i, 'last_conv')\n",
        "heatmap = icam.compute_heatmap(image)\n",
        "heatmap = cv2.resize(heatmap, (32, 32))\n",
        "\n",
        "image = cv2.imread('/content/cat_image.png')\n",
        "image = cv2.resize(image, (32, 32))\n",
        "print(heatmap.shape, image.shape)\n",
        "\n",
        "(heatmap, output) = icam.overlay_heatmap(heatmap, image, alpha=0.5)"
      ],
      "metadata": {
        "id": "_yJl0DSqbTV3",
        "colab": {
          "base_uri": "https://localhost:8080/"
        },
        "outputId": "4473e1c8-c78f-4aba-aa75-8128fd22b305"
      },
      "execution_count": null,
      "outputs": [
        {
          "output_type": "stream",
          "name": "stdout",
          "text": [
            "(32, 32) (32, 32, 3)\n"
          ]
        }
      ]
    },
    {
      "cell_type": "code",
      "source": [
        "# Corrected code for the last cell\n",
        "image = cv2.imread('/content/cat_image.png')\n",
        "image = cv2.resize(image, (32, 32))\n",
        "image = cv2.cvtColor(image, cv2.COLOR_BGR2RGB)\n",
        "\n",
        "# Preprocess the image\n",
        "image = tf.expand_dims(image, axis=0)  # Add batch dimension\n",
        "image = tf.image.rgb_to_grayscale(image)  # Convert to grayscale\n",
        "image = tf.divide(image, 255)  # Normalize\n",
        "\n",
        "# Instantiate GradCAM\n",
        "icam = GradCAM(model, i, layerName='last_conv')\n",
        "\n",
        "# Compute heatmap\n",
        "heatmap = icam.compute_heatmap(image)\n",
        "heatmap = cv2.resize(heatmap, (32, 32))\n",
        "\n",
        "# Overlay heatmap on the original image\n",
        "original_image = cv2.imread('/content/cat_image.png')\n",
        "original_image = cv2.resize(original_image, (32, 32))\n",
        "\n",
        "# Convert original_image to 3 channels (e.g., BGR) before overlaying\n",
        "original_image = cv2.cvtColor(original_image, cv2.COLOR_BGR2RGB) #changed to keep 3 channel image\n",
        "\n",
        "(heatmap, output) = icam.overlay_heatmap(heatmap, original_image, alpha=0.5)\n",
        "\n",
        "# Display the result\n",
        "plt.figure(figsize=(10, 10))\n",
        "plt.subplot(1, 2, 1)\n",
        "plt.title('Heatmap')\n",
        "plt.imshow(heatmap)\n",
        "plt.axis('off')\n",
        "\n",
        "plt.subplot(1, 2, 2)\n",
        "plt.title('Overlay')\n",
        "plt.imshow(output)\n",
        "plt.axis('off')\n",
        "plt.show()"
      ],
      "metadata": {
        "id": "2FqySyIX05sv",
        "colab": {
          "base_uri": "https://localhost:8080/",
          "height": 411
        },
        "outputId": "a1e0ea03-a521-4fff-8b61-855dd6e7ab3b"
      },
      "execution_count": null,
      "outputs": [
        {
          "output_type": "display_data",
          "data": {
            "text/plain": [
              "<Figure size 1000x1000 with 2 Axes>"
            ],
            "image/png": "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\n"
          },
          "metadata": {}
        }
      ]
    },
    {
      "cell_type": "markdown",
      "source": [
        "\n",
        "\n",
        "*   Nothing can't detect in this image, but got a correct label\n",
        "\n",
        "\n",
        "*   Couldn't figure out what was wrong to differentiate between dog and cat\n",
        "\n",
        "\n",
        "\n"
      ],
      "metadata": {
        "id": "VVKwzgvcJv8X"
      }
    },
    {
      "cell_type": "markdown",
      "source": [
        "# Step 4\n",
        "## Why Use Color Images Instead of Grayscale?\n",
        "\n",
        "In previous steps, we trained a CNN using grayscale (black-and-white) images. While grayscale reduces input complexity and speeds up training, it also discards valuable color information that may help differentiate between visually similar classes—especially **animals** like cats, dogs, horses, and deer, which often have similar shapes but distinct textures or fur color.\n",
        "\n",
        "By using **RGB (color) images**, we provide the model with more expressive input, which helps it:\n",
        "- Capture subtle differences in texture and shading.\n",
        "- Distinguish between objects with similar shapes but different colors.\n",
        "- Improve generalization on challenging classes.\n",
        "\n",
        "This step aims to re-train and optimize our CNN using **color images (32x32x3)** along with dropout layers and hyperparameter tuning for better performance.\n",
        "\n",
        "We will:\n",
        "- Modify the CNN to accept color images.\n",
        "- Compare the performance with the grayscale model from Step 2.\n",
        "- Tune learning rate, batch size, and number of epochs for the best validation results."
      ],
      "metadata": {
        "id": "KGaAtASnDsI8"
      }
    },
    {
      "cell_type": "code",
      "source": [
        "# Step 4 - 1\n",
        "num_classes = 10\n",
        "input_shape = (32, 32, 3)\n",
        "\n",
        "model_4_1_2 = keras.Sequential(\n",
        "    [\n",
        "        keras.layers.Input(shape=input_shape),\n",
        "        keras.layers.Conv2D(32, kernel_size=(3,3), activation='relu', padding='same'),\n",
        "        keras.layers.Conv2D(32, kernel_size=(3,3), activation='relu', padding='same'),\n",
        "        keras.layers.Conv2D(32, kernel_size=(3,3), activation='relu', padding='same'),\n",
        "        keras.layers.MaxPooling2D(pool_size=(2,2)),\n",
        "        keras.layers.Conv2D(64, kernel_size=(3,3), activation='relu', padding='same'),\n",
        "        keras.layers.Conv2D(64, kernel_size=(3,3), activation='relu', padding='same'),\n",
        "        keras.layers.Conv2D(64, kernel_size=(3,3), activation='relu', padding='same'),\n",
        "        keras.layers.MaxPooling2D(pool_size=(2,2)),\n",
        "        keras.layers.Conv2D(128, kernel_size=(3,3), activation='relu', padding='same'),\n",
        "        keras.layers.Conv2D(128, kernel_size=(3,3), activation='relu', padding='same'),\n",
        "        keras.layers.Conv2D(128, kernel_size=(3,3), activation='relu', padding='same'),\n",
        "        keras.layers.MaxPooling2D(pool_size=(2,2)),\n",
        "        keras.layers.Conv2D(256, kernel_size=(3,3), activation='relu', padding='same'),\n",
        "        keras.layers.Conv2D(256, kernel_size=(3,3), activation='relu', padding='same'),\n",
        "        keras.layers.GlobalAveragePooling2D(),\n",
        "        keras.layers.Dropout(0.5),\n",
        "        keras.layers.Dense(num_classes, activation='softmax')\n",
        "    ]\n",
        ")\n"
      ],
      "metadata": {
        "id": "CfoqNizsIOog"
      },
      "execution_count": 7,
      "outputs": []
    },
    {
      "cell_type": "code",
      "source": [
        "model_4_1_2.summary()"
      ],
      "metadata": {
        "colab": {
          "base_uri": "https://localhost:8080/"
        },
        "id": "qdgksGMDJ5GF",
        "outputId": "063d08f5-8d49-404a-9452-a7ae03974b9b"
      },
      "execution_count": null,
      "outputs": [
        {
          "output_type": "stream",
          "name": "stdout",
          "text": [
            "Model: \"sequential\"\n",
            "_________________________________________________________________\n",
            " Layer (type)                Output Shape              Param #   \n",
            "=================================================================\n",
            " conv2d (Conv2D)             (None, 32, 32, 32)        896       \n",
            "                                                                 \n",
            " conv2d_1 (Conv2D)           (None, 32, 32, 32)        9248      \n",
            "                                                                 \n",
            " conv2d_2 (Conv2D)           (None, 32, 32, 32)        9248      \n",
            "                                                                 \n",
            " max_pooling2d (MaxPooling2  (None, 16, 16, 32)        0         \n",
            " D)                                                              \n",
            "                                                                 \n",
            " conv2d_3 (Conv2D)           (None, 16, 16, 64)        18496     \n",
            "                                                                 \n",
            " conv2d_4 (Conv2D)           (None, 16, 16, 64)        36928     \n",
            "                                                                 \n",
            " conv2d_5 (Conv2D)           (None, 16, 16, 64)        36928     \n",
            "                                                                 \n",
            " max_pooling2d_1 (MaxPoolin  (None, 8, 8, 64)          0         \n",
            " g2D)                                                            \n",
            "                                                                 \n",
            " conv2d_6 (Conv2D)           (None, 8, 8, 128)         73856     \n",
            "                                                                 \n",
            " conv2d_7 (Conv2D)           (None, 8, 8, 128)         147584    \n",
            "                                                                 \n",
            " conv2d_8 (Conv2D)           (None, 8, 8, 128)         147584    \n",
            "                                                                 \n",
            " max_pooling2d_2 (MaxPoolin  (None, 4, 4, 128)         0         \n",
            " g2D)                                                            \n",
            "                                                                 \n",
            " conv2d_9 (Conv2D)           (None, 4, 4, 256)         295168    \n",
            "                                                                 \n",
            " conv2d_10 (Conv2D)          (None, 4, 4, 256)         590080    \n",
            "                                                                 \n",
            " global_average_pooling2d (  (None, 256)               0         \n",
            " GlobalAveragePooling2D)                                         \n",
            "                                                                 \n",
            " dropout (Dropout)           (None, 256)               0         \n",
            "                                                                 \n",
            " dense (Dense)               (None, 10)                2570      \n",
            "                                                                 \n",
            "=================================================================\n",
            "Total params: 1368586 (5.22 MB)\n",
            "Trainable params: 1368586 (5.22 MB)\n",
            "Non-trainable params: 0 (0.00 Byte)\n",
            "_________________________________________________________________\n"
          ]
        }
      ]
    },
    {
      "cell_type": "code",
      "source": [
        "model_4_1_2.compile(\n",
        "    loss=keras.losses.SparseCategoricalCrossentropy(from_logits=False),\n",
        "    optimizer=keras.optimizers.Adam(learning_rate=0.001),\n",
        "    metrics=['accuracy']\n",
        ")"
      ],
      "metadata": {
        "id": "v-xxm5MnKH8X"
      },
      "execution_count": null,
      "outputs": []
    },
    {
      "cell_type": "code",
      "source": [
        "batch_size = 128\n",
        "epochs = 20\n",
        "\n",
        "callbacks = [\n",
        "    keras.callbacks.ModelCheckpoint(\n",
        "        filepath=f\"epoch_{{epoch:02d}}.keras\",\n",
        "        save_best_only=False,\n",
        "        save_freq='epoch'\n",
        "    ),\n",
        "    keras.callbacks.EarlyStopping(monitor='val_loss', patience=2),\n",
        "]\n",
        "\n",
        "train_progress = model_4_1_2.fit(\n",
        "    x_train, y_train,\n",
        "    batch_size=batch_size,\n",
        "    epochs=epochs,\n",
        "    validation_data=(x_val, y_val),\n",
        "    callbacks=callbacks,\n",
        ")\n",
        "\n",
        "score = model_4_1_2.evaluate(x_val, y_val, verbose=0)\n",
        "print('Validation loss:', score[0])\n",
        "print('Validation accuracy:', score[1])\n"
      ],
      "metadata": {
        "colab": {
          "base_uri": "https://localhost:8080/"
        },
        "id": "Rc9DeN24KKj_",
        "outputId": "d86a76a3-7e89-453f-f618-3632af74a0bf"
      },
      "execution_count": null,
      "outputs": [
        {
          "output_type": "stream",
          "name": "stdout",
          "text": [
            "Epoch 1/20\n",
            "WARNING:tensorflow:From C:\\Users\\sanja\\AppData\\Roaming\\Python\\Python311\\site-packages\\keras\\src\\utils\\tf_utils.py:492: The name tf.ragged.RaggedTensorValue is deprecated. Please use tf.compat.v1.ragged.RaggedTensorValue instead.\n",
            "\n",
            "WARNING:tensorflow:From C:\\Users\\sanja\\AppData\\Roaming\\Python\\Python311\\site-packages\\keras\\src\\engine\\base_layer_utils.py:384: The name tf.executing_eagerly_outside_functions is deprecated. Please use tf.compat.v1.executing_eagerly_outside_functions instead.\n",
            "\n",
            "375/375 [==============================] - 147s 380ms/step - loss: 2.3023 - accuracy: 0.0981 - val_loss: 2.3026 - val_accuracy: 0.1000\n",
            "Epoch 2/20\n",
            "375/375 [==============================] - 150s 401ms/step - loss: 2.3027 - accuracy: 0.0989 - val_loss: 2.3026 - val_accuracy: 0.1000\n",
            "Epoch 3/20\n",
            "375/375 [==============================] - 160s 428ms/step - loss: 2.3027 - accuracy: 0.0984 - val_loss: 2.3026 - val_accuracy: 0.1000\n",
            "Epoch 4/20\n",
            "375/375 [==============================] - 150s 400ms/step - loss: 2.3027 - accuracy: 0.0971 - val_loss: 2.3026 - val_accuracy: 0.1000\n",
            "Epoch 5/20\n",
            "375/375 [==============================] - 157s 420ms/step - loss: 2.3027 - accuracy: 0.0954 - val_loss: 2.3026 - val_accuracy: 0.1000\n",
            "Epoch 6/20\n",
            "375/375 [==============================] - 161s 428ms/step - loss: 2.3027 - accuracy: 0.0990 - val_loss: 2.3026 - val_accuracy: 0.1000\n",
            "Epoch 7/20\n",
            "375/375 [==============================] - 154s 412ms/step - loss: 2.3027 - accuracy: 0.0978 - val_loss: 2.3026 - val_accuracy: 0.1000\n",
            "Epoch 8/20\n",
            "375/375 [==============================] - 161s 430ms/step - loss: 2.3027 - accuracy: 0.0987 - val_loss: 2.3026 - val_accuracy: 0.1000\n",
            "Validation loss: 2.3025941848754883\n",
            "Validation accuracy: 0.10000000149011612\n"
          ]
        }
      ]
    },
    {
      "cell_type": "code",
      "source": [
        "# Step 4-2 Add more dropout layer & train with color images\n",
        "model_4_2 = keras.Sequential(\n",
        "    [\n",
        "        keras.layers.Input(shape=input_shape),\n",
        "        keras.layers.Conv2D(32, kernel_size=(3,3), activation='relu', padding='same'),\n",
        "        keras.layers.Conv2D(32, kernel_size=(3,3), activation='relu', padding='same'),\n",
        "        keras.layers.Conv2D(32, kernel_size=(3,3), activation='relu', padding='same'),\n",
        "        keras.layers.Dropout(0.3),\n",
        "        keras.layers.MaxPooling2D(pool_size=(2,2)),\n",
        "        keras.layers.Conv2D(64, kernel_size=(3,3), activation='relu', padding='same'),\n",
        "        keras.layers.Conv2D(64, kernel_size=(3,3), activation='relu', padding='same'),\n",
        "        keras.layers.Conv2D(64, kernel_size=(3,3), activation='relu', padding='same'),\n",
        "        keras.layers.MaxPooling2D(pool_size=(2,2)),\n",
        "        keras.layers.Dropout(0.3),\n",
        "        keras.layers.Conv2D(128, kernel_size=(3,3), activation='relu', padding='same'),\n",
        "        keras.layers.Conv2D(128, kernel_size=(3,3), activation='relu', padding='same'),\n",
        "        keras.layers.Conv2D(128, kernel_size=(3,3), activation='relu', padding='same'),\n",
        "        keras.layers.Conv2D(128, kernel_size=(3,3), activation='relu', padding='same'),\n",
        "        keras.layers.MaxPooling2D(pool_size=(2,2)),\n",
        "        keras.layers.Conv2D(256, kernel_size=(3,3), activation='relu', padding='same'),\n",
        "        keras.layers.Conv2D(256, kernel_size=(3,3), activation='relu', padding='same'),\n",
        "        keras.layers.GlobalAveragePooling2D(),\n",
        "        keras.layers.Dropout(0.5),\n",
        "        keras.layers.Dense(num_classes, activation='softmax')\n",
        "    ]\n",
        ")"
      ],
      "metadata": {
        "id": "khmwlMSybIX1"
      },
      "execution_count": null,
      "outputs": []
    },
    {
      "cell_type": "code",
      "source": [
        "model_4_2.summary()"
      ],
      "metadata": {
        "colab": {
          "base_uri": "https://localhost:8080/"
        },
        "id": "U3BfX_7Ib82f",
        "outputId": "def14462-6cdc-4aac-87a7-cf483a7772d0"
      },
      "execution_count": null,
      "outputs": [
        {
          "output_type": "stream",
          "name": "stdout",
          "text": [
            "Model: \"sequential_1\"\n",
            "_________________________________________________________________\n",
            " Layer (type)                Output Shape              Param #   \n",
            "=================================================================\n",
            " conv2d_11 (Conv2D)          (None, 32, 32, 32)        896       \n",
            "                                                                 \n",
            " conv2d_12 (Conv2D)          (None, 32, 32, 32)        9248      \n",
            "                                                                 \n",
            " conv2d_13 (Conv2D)          (None, 32, 32, 32)        9248      \n",
            "                                                                 \n",
            " dropout_1 (Dropout)         (None, 32, 32, 32)        0         \n",
            "                                                                 \n",
            " max_pooling2d_3 (MaxPoolin  (None, 16, 16, 32)        0         \n",
            " g2D)                                                            \n",
            "                                                                 \n",
            " conv2d_14 (Conv2D)          (None, 16, 16, 64)        18496     \n",
            "                                                                 \n",
            " conv2d_15 (Conv2D)          (None, 16, 16, 64)        36928     \n",
            "                                                                 \n",
            " conv2d_16 (Conv2D)          (None, 16, 16, 64)        36928     \n",
            "                                                                 \n",
            " max_pooling2d_4 (MaxPoolin  (None, 8, 8, 64)          0         \n",
            " g2D)                                                            \n",
            "                                                                 \n",
            " dropout_2 (Dropout)         (None, 8, 8, 64)          0         \n",
            "                                                                 \n",
            " conv2d_17 (Conv2D)          (None, 8, 8, 128)         73856     \n",
            "                                                                 \n",
            " conv2d_18 (Conv2D)          (None, 8, 8, 128)         147584    \n",
            "                                                                 \n",
            " conv2d_19 (Conv2D)          (None, 8, 8, 128)         147584    \n",
            "                                                                 \n",
            " conv2d_20 (Conv2D)          (None, 8, 8, 128)         147584    \n",
            "                                                                 \n",
            " max_pooling2d_5 (MaxPoolin  (None, 4, 4, 128)         0         \n",
            " g2D)                                                            \n",
            "                                                                 \n",
            " conv2d_21 (Conv2D)          (None, 4, 4, 256)         295168    \n",
            "                                                                 \n",
            " conv2d_22 (Conv2D)          (None, 4, 4, 256)         590080    \n",
            "                                                                 \n",
            " global_average_pooling2d_1  (None, 256)               0         \n",
            "  (GlobalAveragePooling2D)                                       \n",
            "                                                                 \n",
            " dropout_3 (Dropout)         (None, 256)               0         \n",
            "                                                                 \n",
            " dense_1 (Dense)             (None, 10)                2570      \n",
            "                                                                 \n",
            "=================================================================\n",
            "Total params: 1516170 (5.78 MB)\n",
            "Trainable params: 1516170 (5.78 MB)\n",
            "Non-trainable params: 0 (0.00 Byte)\n",
            "_________________________________________________________________\n"
          ]
        }
      ]
    },
    {
      "cell_type": "code",
      "source": [
        "model_4_2.compile(\n",
        "    loss=keras.losses.SparseCategoricalCrossentropy(from_logits=False),\n",
        "    optimizer=keras.optimizers.Adam(learning_rate=0.001),\n",
        "    metrics=['accuracy']\n",
        ")"
      ],
      "metadata": {
        "id": "vNds8pZvcBuE"
      },
      "execution_count": null,
      "outputs": []
    },
    {
      "cell_type": "code",
      "source": [
        "callbacks = [\n",
        "    keras.callbacks.ModelCheckpoint(\n",
        "        filepath=f\"model4_2_epoch_{{epoch:02d}}.keras\",\n",
        "        save_best_only=False,\n",
        "        save_freq='epoch'\n",
        "    ),\n",
        "    keras.callbacks.EarlyStopping(monitor='val_loss', patience=2),\n",
        "]\n"
      ],
      "metadata": {
        "id": "1HY2IEWv_APh"
      },
      "execution_count": 20,
      "outputs": []
    },
    {
      "cell_type": "code",
      "source": [
        "batch_size = 128\n",
        "epochs = 20\n",
        "\n",
        "\n",
        "train_progress = model_4_2.fit(\n",
        "    x_train, y_train,\n",
        "    batch_size=batch_size,\n",
        "    epochs=epochs,\n",
        "    validation_data=(x_val, y_val),\n",
        "    callbacks=callbacks,\n",
        ")\n",
        "\n",
        "score = model_4_2.evaluate(x_val, y_val, verbose=0)\n",
        "print('Validation loss:', score[0])\n",
        "print('Validation accuracy:', score[1])"
      ],
      "metadata": {
        "colab": {
          "base_uri": "https://localhost:8080/"
        },
        "id": "dr0hdZD-cDpQ",
        "outputId": "25f0277c-7a76-4fd8-c0f1-db175db06eb7"
      },
      "execution_count": null,
      "outputs": [
        {
          "output_type": "stream",
          "name": "stdout",
          "text": [
            "Epoch 1/20\n",
            "375/375 [==============================] - 177s 460ms/step - loss: 2.3027 - accuracy: 0.0980 - val_loss: 2.3026 - val_accuracy: 0.1000\n",
            "Epoch 2/20\n",
            "375/375 [==============================] - 169s 450ms/step - loss: 2.3027 - accuracy: 0.0964 - val_loss: 2.3026 - val_accuracy: 0.1000\n",
            "Epoch 3/20\n",
            "375/375 [==============================] - 186s 496ms/step - loss: 2.3027 - accuracy: 0.0981 - val_loss: 2.3026 - val_accuracy: 0.1000\n",
            "Epoch 4/20\n",
            "375/375 [==============================] - 192s 512ms/step - loss: 2.3027 - accuracy: 0.0981 - val_loss: 2.3026 - val_accuracy: 0.1000\n",
            "Epoch 5/20\n",
            "375/375 [==============================] - 178s 474ms/step - loss: 2.3027 - accuracy: 0.0975 - val_loss: 2.3026 - val_accuracy: 0.1000\n",
            "Epoch 6/20\n",
            "375/375 [==============================] - 184s 491ms/step - loss: 2.3027 - accuracy: 0.0986 - val_loss: 2.3026 - val_accuracy: 0.1000\n",
            "Epoch 7/20\n",
            "375/375 [==============================] - 180s 481ms/step - loss: 2.3027 - accuracy: 0.0967 - val_loss: 2.3026 - val_accuracy: 0.1000\n",
            "Epoch 8/20\n",
            "375/375 [==============================] - 170s 453ms/step - loss: 2.3027 - accuracy: 0.0991 - val_loss: 2.3026 - val_accuracy: 0.1000\n",
            "Validation loss: 2.3025925159454346\n",
            "Validation accuracy: 0.10000000149011612\n"
          ]
        }
      ]
    },
    {
      "cell_type": "markdown",
      "source": [
        "\n",
        "\n",
        "*   Original model from step2 worked better, so do hyper parameter tuning based on the original model\n",
        "\n"
      ],
      "metadata": {
        "id": "6_m43FkxuyEZ"
      }
    },
    {
      "cell_type": "code",
      "source": [
        "def create_model():\n",
        "  model = keras.Sequential(\n",
        "      [\n",
        "          keras.layers.Input(shape=(32, 32, 3)),\n",
        "          keras.layers.Conv2D(32, kernel_size=(3,3), activation='relu', padding='same'),\n",
        "          keras.layers.Conv2D(32, kernel_size=(3,3), activation='relu', padding='same'),\n",
        "          keras.layers.MaxPooling2D(pool_size=(2,2)),\n",
        "          keras.layers.Conv2D(64, kernel_size=(3,3), activation='relu', padding='same'),\n",
        "          keras.layers.Conv2D(64, kernel_size=(3,3), activation='relu', padding='same'),\n",
        "          keras.layers.MaxPooling2D(pool_size=(2,2)),\n",
        "          keras.layers.Conv2D(128, kernel_size=(3,3), activation='relu', padding='same'),\n",
        "          keras.layers.Conv2D(128, kernel_size=(3,3), activation='relu', padding='same'),\n",
        "          keras.layers.GlobalAveragePooling2D(),\n",
        "          keras.layers.Dropout(0.5),\n",
        "          keras.layers.Dense(num_classes, activation='softmax')\n",
        "      ]\n",
        "  )\n",
        "  return model\n",
        "\n",
        "  callbacks = [\n",
        "    keras.callbacks.ModelCheckpoint(\n",
        "        filepath=f\"model{{epoch:02d}}.keras\",\n",
        "        save_best_only=True\n",
        "    ),\n",
        "]"
      ],
      "metadata": {
        "id": "AiAcwIlWtNDr"
      },
      "execution_count": 18,
      "outputs": []
    },
    {
      "cell_type": "code",
      "source": [
        "# Hyper parameter tuning\n",
        "# Check if the number of epoch, learning rate, and batch size is the most efficient\n",
        "batch_size_test = [16, 32, 64, 128]\n",
        "epochs_test = [10, 20, 30, 50, 80]\n",
        "learning_rate_test = [0.0005, 0.001, 0.005]\n",
        "\n",
        "\n",
        "for batch_size in batch_size_test:\n",
        "  for epochs in epochs_test:\n",
        "    for learning_rate in learning_rate_test:\n",
        "      model_4_2 = create_model()\n",
        "      print(f\"Batch size: {batch_size}, Epochs: {epochs}, Learning Rate: {learning_rate}\")\n",
        "      model_4_2.compile(\n",
        "          loss=keras.losses.SparseCategoricalCrossentropy(from_logits=False),\n",
        "          optimizer=keras.optimizers.Adam(learning_rate=learning_rate),\n",
        "          metrics=['accuracy']\n",
        "      )\n",
        "      train_progress = model_4_2.fit(\n",
        "          x_train, y_train,\n",
        "          batch_size=batch_size,\n",
        "          epochs=epochs,\n",
        "          validation_data=(x_val, y_val),\n",
        "          callbacks=callbacks,\n",
        "      )\n",
        "      score = model_4_2.evaluate(x_val, y_val, verbose=0)\n",
        "      print('Validation loss:', score[0])\n",
        "      print('Validation accuracy:', score[1])\n",
        "      print()"
      ],
      "metadata": {
        "colab": {
          "base_uri": "https://localhost:8080/"
        },
        "id": "0SX4lXBoe6-w",
        "outputId": "b385b894-356d-40be-8fc0-33f9e1733ceb"
      },
      "execution_count": null,
      "outputs": [
        {
          "output_type": "stream",
          "name": "stdout",
          "text": [
            "Batch size: 16, Epochs: 10, Learning Rate: 0.0005\n",
            "Epoch 1/10\n",
            "3000/3000 [==============================] - 128s 42ms/step - loss: 1.7155 - accuracy: 0.3478 - val_loss: 1.3250 - val_accuracy: 0.5016\n",
            "Epoch 2/10\n",
            "3000/3000 [==============================] - 123s 41ms/step - loss: 1.2385 - accuracy: 0.5499 - val_loss: 1.0543 - val_accuracy: 0.6262\n",
            "Epoch 3/10\n",
            "3000/3000 [==============================] - 123s 41ms/step - loss: 1.0430 - accuracy: 0.6274 - val_loss: 0.9477 - val_accuracy: 0.6606\n",
            "Epoch 4/10\n",
            "3000/3000 [==============================] - 112s 37ms/step - loss: 0.9163 - accuracy: 0.6757 - val_loss: 0.8270 - val_accuracy: 0.7054\n",
            "Epoch 5/10\n",
            "3000/3000 [==============================] - 120s 40ms/step - loss: 0.8149 - accuracy: 0.7160 - val_loss: 0.7577 - val_accuracy: 0.7318\n",
            "Epoch 6/10\n",
            "3000/3000 [==============================] - 117s 39ms/step - loss: 0.7450 - accuracy: 0.7437 - val_loss: 0.6934 - val_accuracy: 0.7589\n",
            "Epoch 7/10\n",
            "3000/3000 [==============================] - 124s 41ms/step - loss: 0.6730 - accuracy: 0.7676 - val_loss: 0.6505 - val_accuracy: 0.7729\n",
            "Epoch 8/10\n",
            "3000/3000 [==============================] - 121s 40ms/step - loss: 0.6238 - accuracy: 0.7849 - val_loss: 0.6744 - val_accuracy: 0.7672\n",
            "Epoch 9/10\n",
            "3000/3000 [==============================] - 120s 40ms/step - loss: 0.5713 - accuracy: 0.8025 - val_loss: 0.6109 - val_accuracy: 0.7878\n",
            "Epoch 10/10\n",
            "3000/3000 [==============================] - 121s 40ms/step - loss: 0.5274 - accuracy: 0.8179 - val_loss: 0.5970 - val_accuracy: 0.7943\n",
            "Validation loss: 0.5969961881637573\n",
            "Validation accuracy: 0.7943333387374878\n",
            "\n",
            "Batch size: 16, Epochs: 10, Learning Rate: 0.001\n",
            "Epoch 1/10\n",
            "3000/3000 [==============================] - 125s 41ms/step - loss: 1.7054 - accuracy: 0.3531 - val_loss: 1.3275 - val_accuracy: 0.5006\n",
            "Epoch 2/10\n",
            "3000/3000 [==============================] - 123s 41ms/step - loss: 1.2491 - accuracy: 0.5479 - val_loss: 1.1482 - val_accuracy: 0.5925\n",
            "Epoch 3/10\n",
            "3000/3000 [==============================] - 121s 40ms/step - loss: 1.0433 - accuracy: 0.6315 - val_loss: 0.8789 - val_accuracy: 0.6884\n",
            "Epoch 4/10\n",
            "3000/3000 [==============================] - 106s 35ms/step - loss: 0.9106 - accuracy: 0.6791 - val_loss: 0.8083 - val_accuracy: 0.7153\n",
            "Epoch 5/10\n",
            "3000/3000 [==============================] - 111s 37ms/step - loss: 0.8071 - accuracy: 0.7184 - val_loss: 0.7687 - val_accuracy: 0.7320\n",
            "Epoch 6/10\n",
            "3000/3000 [==============================] - 108s 36ms/step - loss: 0.7331 - accuracy: 0.7451 - val_loss: 0.7152 - val_accuracy: 0.7558\n",
            "Epoch 7/10\n",
            "3000/3000 [==============================] - 106s 35ms/step - loss: 0.6712 - accuracy: 0.7673 - val_loss: 0.6785 - val_accuracy: 0.7680\n",
            "Epoch 8/10\n",
            "3000/3000 [==============================] - 129s 43ms/step - loss: 0.6246 - accuracy: 0.7817 - val_loss: 0.6936 - val_accuracy: 0.7673\n",
            "Epoch 9/10\n",
            "3000/3000 [==============================] - 146s 49ms/step - loss: 0.5794 - accuracy: 0.7998 - val_loss: 0.6826 - val_accuracy: 0.7707\n",
            "Validation loss: 0.682599663734436\n",
            "Validation accuracy: 0.7706666588783264\n",
            "\n",
            "Batch size: 16, Epochs: 10, Learning Rate: 0.005\n",
            "Epoch 1/10\n",
            "3000/3000 [==============================] - 134s 44ms/step - loss: 2.3038 - accuracy: 0.0994 - val_loss: 2.3043 - val_accuracy: 0.1000\n",
            "Epoch 2/10\n",
            "3000/3000 [==============================] - 115s 38ms/step - loss: 2.3035 - accuracy: 0.1017 - val_loss: 2.3038 - val_accuracy: 0.1000\n",
            "Epoch 3/10\n",
            "3000/3000 [==============================] - 128s 43ms/step - loss: 2.3036 - accuracy: 0.0999 - val_loss: 2.3034 - val_accuracy: 0.1000\n",
            "Epoch 4/10\n",
            "3000/3000 [==============================] - 112s 37ms/step - loss: 2.3035 - accuracy: 0.1008 - val_loss: 2.3035 - val_accuracy: 0.1000\n",
            "Epoch 5/10\n",
            "3000/3000 [==============================] - 108s 36ms/step - loss: 2.3035 - accuracy: 0.1000 - val_loss: 2.3035 - val_accuracy: 0.1000\n",
            "Validation loss: 2.303532600402832\n",
            "Validation accuracy: 0.10000000149011612\n",
            "\n",
            "Batch size: 16, Epochs: 20, Learning Rate: 0.0005\n",
            "Epoch 1/20\n",
            "3000/3000 [==============================] - 120s 39ms/step - loss: 1.7603 - accuracy: 0.3331 - val_loss: 1.3450 - val_accuracy: 0.4912\n",
            "Epoch 2/20\n",
            "3000/3000 [==============================] - 132s 44ms/step - loss: 1.2884 - accuracy: 0.5285 - val_loss: 1.0881 - val_accuracy: 0.6098\n",
            "Epoch 3/20\n",
            "3000/3000 [==============================] - 121s 40ms/step - loss: 1.0960 - accuracy: 0.6073 - val_loss: 1.0112 - val_accuracy: 0.6303\n",
            "Epoch 4/20\n",
            "3000/3000 [==============================] - 129s 43ms/step - loss: 0.9665 - accuracy: 0.6590 - val_loss: 0.9020 - val_accuracy: 0.6759\n",
            "Epoch 5/20\n",
            "3000/3000 [==============================] - 127s 42ms/step - loss: 0.8609 - accuracy: 0.6964 - val_loss: 0.7901 - val_accuracy: 0.7204\n",
            "Epoch 6/20\n",
            "3000/3000 [==============================] - 129s 43ms/step - loss: 0.7858 - accuracy: 0.7238 - val_loss: 0.7054 - val_accuracy: 0.7551\n",
            "Epoch 7/20\n",
            "3000/3000 [==============================] - 128s 43ms/step - loss: 0.7096 - accuracy: 0.7528 - val_loss: 0.6981 - val_accuracy: 0.7573\n",
            "Epoch 8/20\n",
            "3000/3000 [==============================] - 135s 45ms/step - loss: 0.6553 - accuracy: 0.7719 - val_loss: 0.6669 - val_accuracy: 0.7696\n",
            "Epoch 9/20\n",
            "3000/3000 [==============================] - 126s 42ms/step - loss: 0.6054 - accuracy: 0.7911 - val_loss: 0.6736 - val_accuracy: 0.7648\n",
            "Epoch 10/20\n",
            "3000/3000 [==============================] - 127s 42ms/step - loss: 0.5593 - accuracy: 0.8074 - val_loss: 0.6563 - val_accuracy: 0.7754\n",
            "Epoch 11/20\n",
            "3000/3000 [==============================] - 128s 43ms/step - loss: 0.5149 - accuracy: 0.8213 - val_loss: 0.5984 - val_accuracy: 0.7949\n",
            "Epoch 12/20\n",
            "3000/3000 [==============================] - 131s 44ms/step - loss: 0.4759 - accuracy: 0.8338 - val_loss: 0.5942 - val_accuracy: 0.8006\n",
            "Epoch 13/20\n",
            "3000/3000 [==============================] - 121s 40ms/step - loss: 0.4433 - accuracy: 0.8460 - val_loss: 0.6043 - val_accuracy: 0.8026\n",
            "Epoch 14/20\n",
            "3000/3000 [==============================] - 134s 45ms/step - loss: 0.4138 - accuracy: 0.8563 - val_loss: 0.6112 - val_accuracy: 0.7987\n",
            "Validation loss: 0.6111997365951538\n",
            "Validation accuracy: 0.7986666560173035\n",
            "\n",
            "Batch size: 16, Epochs: 20, Learning Rate: 0.001\n",
            "Epoch 1/20\n",
            "3000/3000 [==============================] - 127s 42ms/step - loss: 1.8075 - accuracy: 0.3104 - val_loss: 1.3721 - val_accuracy: 0.4856\n",
            "Epoch 2/20\n",
            "3000/3000 [==============================] - 133s 44ms/step - loss: 1.2852 - accuracy: 0.5303 - val_loss: 1.0707 - val_accuracy: 0.6146\n",
            "Epoch 3/20\n",
            "3000/3000 [==============================] - 129s 43ms/step - loss: 1.0627 - accuracy: 0.6221 - val_loss: 0.9173 - val_accuracy: 0.6785\n",
            "Epoch 4/20\n",
            "3000/3000 [==============================] - 128s 43ms/step - loss: 0.9255 - accuracy: 0.6740 - val_loss: 0.8249 - val_accuracy: 0.7066\n",
            "Epoch 5/20\n",
            "3000/3000 [==============================] - 130s 43ms/step - loss: 0.8139 - accuracy: 0.7161 - val_loss: 0.7454 - val_accuracy: 0.7511\n",
            "Epoch 6/20\n",
            "3000/3000 [==============================] - 126s 42ms/step - loss: 0.7417 - accuracy: 0.7437 - val_loss: 0.7198 - val_accuracy: 0.7537\n",
            "Epoch 7/20\n",
            "2784/3000 [==========================>...] - ETA: 7s - loss: 0.6793 - accuracy: 0.7639"
          ]
        }
      ]
    },
    {
      "cell_type": "markdown",
      "source": [
        "*   Based on this result, Batch size: 16, Epochs: 80, Learning Rate: 0.0005 did the best performance.\n",
        "\n"
      ],
      "metadata": {
        "id": "ZKads_L7292i"
      }
    },
    {
      "cell_type": "code",
      "source": [
        "# Train again based on the current best parameters\n",
        "batch_size = 16\n",
        "epochs = 80\n",
        "learning_rate = 0.0005\n",
        "\n",
        "model_4_3 = create_model()\n",
        "\n",
        "model_4_3.compile(\n",
        "    loss=keras.losses.SparseCategoricalCrossentropy(from_logits=False),\n",
        "    optimizer=keras.optimizers.Adam(learning_rate=learning_rate),\n",
        "    metrics=['accuracy']\n",
        ")\n",
        "train_progress = model_4_3.fit(\n",
        "    x_train, y_train,\n",
        "    batch_size=batch_size,\n",
        "    epochs=epochs,\n",
        "    validation_data=(x_val, y_val),\n",
        "    callbacks=callbacks,\n",
        ")\n",
        "score = model_4_3.evaluate(x_val, y_val, verbose=0)\n",
        "print('Validation loss:', score[0])\n",
        "print('Validation accuracy:', score[1])"
      ],
      "metadata": {
        "colab": {
          "base_uri": "https://localhost:8080/"
        },
        "id": "f5CtPAuwsTbI",
        "outputId": "7e002561-8536-4658-909c-4e83f3c0a910"
      },
      "execution_count": 23,
      "outputs": [
        {
          "output_type": "stream",
          "name": "stdout",
          "text": [
            "Epoch 1/80\n",
            "\u001b[1m3000/3000\u001b[0m \u001b[32m━━━━━━━━━━━━━━━━━━━━\u001b[0m\u001b[37m\u001b[0m \u001b[1m18s\u001b[0m 5ms/step - accuracy: 0.2686 - loss: 1.9060 - val_accuracy: 0.5176 - val_loss: 1.2892\n",
            "Epoch 2/80\n",
            "\u001b[1m3000/3000\u001b[0m \u001b[32m━━━━━━━━━━━━━━━━━━━━\u001b[0m\u001b[37m\u001b[0m \u001b[1m13s\u001b[0m 4ms/step - accuracy: 0.5254 - loss: 1.3020 - val_accuracy: 0.6093 - val_loss: 1.0665\n",
            "Epoch 3/80\n",
            "\u001b[1m3000/3000\u001b[0m \u001b[32m━━━━━━━━━━━━━━━━━━━━\u001b[0m\u001b[37m\u001b[0m \u001b[1m14s\u001b[0m 5ms/step - accuracy: 0.6133 - loss: 1.0875 - val_accuracy: 0.6493 - val_loss: 0.9640\n",
            "Epoch 4/80\n",
            "\u001b[1m3000/3000\u001b[0m \u001b[32m━━━━━━━━━━━━━━━━━━━━\u001b[0m\u001b[37m\u001b[0m \u001b[1m14s\u001b[0m 5ms/step - accuracy: 0.6655 - loss: 0.9531 - val_accuracy: 0.6802 - val_loss: 0.8804\n",
            "Epoch 5/80\n",
            "\u001b[1m3000/3000\u001b[0m \u001b[32m━━━━━━━━━━━━━━━━━━━━\u001b[0m\u001b[37m\u001b[0m \u001b[1m14s\u001b[0m 5ms/step - accuracy: 0.6973 - loss: 0.8638 - val_accuracy: 0.6917 - val_loss: 0.8570\n",
            "Epoch 6/80\n",
            "\u001b[1m3000/3000\u001b[0m \u001b[32m━━━━━━━━━━━━━━━━━━━━\u001b[0m\u001b[37m\u001b[0m \u001b[1m13s\u001b[0m 4ms/step - accuracy: 0.7233 - loss: 0.7908 - val_accuracy: 0.7179 - val_loss: 0.7774\n",
            "Epoch 7/80\n",
            "\u001b[1m3000/3000\u001b[0m \u001b[32m━━━━━━━━━━━━━━━━━━━━\u001b[0m\u001b[37m\u001b[0m \u001b[1m21s\u001b[0m 5ms/step - accuracy: 0.7461 - loss: 0.7186 - val_accuracy: 0.7354 - val_loss: 0.7519\n",
            "Epoch 8/80\n",
            "\u001b[1m3000/3000\u001b[0m \u001b[32m━━━━━━━━━━━━━━━━━━━━\u001b[0m\u001b[37m\u001b[0m \u001b[1m19s\u001b[0m 4ms/step - accuracy: 0.7707 - loss: 0.6568 - val_accuracy: 0.7596 - val_loss: 0.6838\n",
            "Epoch 9/80\n",
            "\u001b[1m3000/3000\u001b[0m \u001b[32m━━━━━━━━━━━━━━━━━━━━\u001b[0m\u001b[37m\u001b[0m \u001b[1m13s\u001b[0m 4ms/step - accuracy: 0.7874 - loss: 0.6066 - val_accuracy: 0.7708 - val_loss: 0.6712\n",
            "Epoch 10/80\n",
            "\u001b[1m3000/3000\u001b[0m \u001b[32m━━━━━━━━━━━━━━━━━━━━\u001b[0m\u001b[37m\u001b[0m \u001b[1m21s\u001b[0m 5ms/step - accuracy: 0.8078 - loss: 0.5564 - val_accuracy: 0.7734 - val_loss: 0.6626\n",
            "Epoch 11/80\n",
            "\u001b[1m3000/3000\u001b[0m \u001b[32m━━━━━━━━━━━━━━━━━━━━\u001b[0m\u001b[37m\u001b[0m \u001b[1m20s\u001b[0m 5ms/step - accuracy: 0.8186 - loss: 0.5186 - val_accuracy: 0.7791 - val_loss: 0.6685\n",
            "Epoch 12/80\n",
            "\u001b[1m3000/3000\u001b[0m \u001b[32m━━━━━━━━━━━━━━━━━━━━\u001b[0m\u001b[37m\u001b[0m \u001b[1m21s\u001b[0m 5ms/step - accuracy: 0.8308 - loss: 0.4820 - val_accuracy: 0.7848 - val_loss: 0.6793\n",
            "Validation loss: 0.6793341636657715\n",
            "Validation accuracy: 0.7848333120346069\n"
          ]
        }
      ]
    },
    {
      "cell_type": "code",
      "source": [
        "# Test tuning model\n",
        "test_loss, test_acc = model_4_3.evaluate(x_test, y_test, verbose=2)\n",
        "print(f\"Test accuracy: {test_acc}\")\n",
        "\n",
        "# precision\n",
        "y_pred = model_4_3.predict(x_test)\n",
        "y_pred_classes = np.argmax(y_pred, axis=1)\n",
        "precision = precision_score(y_test, y_pred_classes, average='weighted')\n",
        "print(f\"Precision: {precision}\")\n",
        "\n",
        "# recall\n",
        "recall = recall_score(y_test, y_pred_classes, average='weighted')\n",
        "print(f\"Recall: {recall}\")\n",
        "\n",
        "# F1 score\n",
        "f1 = f1_score(y_test, y_pred_classes, average='weighted')\n",
        "print(f\"F1 Score: {f1}\")"
      ],
      "metadata": {
        "colab": {
          "base_uri": "https://localhost:8080/"
        },
        "id": "2UltvNX9vKpC",
        "outputId": "ebc36d72-df9a-454a-e89f-85d5d7bfac0b"
      },
      "execution_count": 24,
      "outputs": [
        {
          "output_type": "stream",
          "name": "stdout",
          "text": [
            "313/313 - 1s - 4ms/step - accuracy: 0.8359 - loss: 0.4847\n",
            "Test accuracy: 0.8359000086784363\n",
            "\u001b[1m313/313\u001b[0m \u001b[32m━━━━━━━━━━━━━━━━━━━━\u001b[0m\u001b[37m\u001b[0m \u001b[1m1s\u001b[0m 3ms/step\n",
            "Precision: 0.8376550917062048\n",
            "Recall: 0.8359\n",
            "F1 Score: 0.8343131615192025\n"
          ]
        }
      ]
    },
    {
      "cell_type": "markdown",
      "source": [
        "\n",
        "\n",
        "*   By optimized parameters, we could succeeded to improve the model's performance\n",
        "\n"
      ],
      "metadata": {
        "id": "Q_xsypvpwbPy"
      }
    },
    {
      "cell_type": "code",
      "source": [
        "history = train_progress.history\n",
        "\n",
        "# Plot training and validation accuracy values\n",
        "plt.plot(history['accuracy'])\n",
        "plt.plot(history['val_accuracy'])\n",
        "plt.title('Model Accuracy')\n",
        "plt.ylabel('Accuracy')\n",
        "plt.xlabel('Epoch')\n",
        "plt.legend(['Train', 'Validation'], loc='upper left')\n",
        "plt.show()\n",
        "\n",
        "# Plot training and validation loss values\n",
        "plt.plot(history['loss'])\n",
        "plt.plot(history['val_loss'])\n",
        "plt.title('Model Loss')\n",
        "plt.ylabel('Loss')\n",
        "plt.xlabel('Epoch')\n",
        "plt.legend(['Train', 'Validation'], loc='upper left')\n",
        "plt.show()"
      ],
      "metadata": {
        "id": "jtyfevZu-dxk",
        "outputId": "3355d394-1a86-437c-a9f0-f07f2d8fdc2b",
        "colab": {
          "base_uri": "https://localhost:8080/",
          "height": 927
        }
      },
      "execution_count": 25,
      "outputs": [
        {
          "output_type": "display_data",
          "data": {
            "text/plain": [
              "<Figure size 640x480 with 1 Axes>"
            ],
            "image/png": "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\n"
          },
          "metadata": {}
        },
        {
          "output_type": "display_data",
          "data": {
            "text/plain": [
              "<Figure size 640x480 with 1 Axes>"
            ],
            "image/png": "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\n"
          },
          "metadata": {}
        }
      ]
    },
    {
      "cell_type": "code",
      "source": [
        "cm = confusion_matrix(y_test, y_pred_classes)\n",
        "plt.figure(figsize=(10, 10))\n",
        "sns.heatmap(cm, annot=True, fmt='d', cmap='plasma', xticklabels=classes, yticklabels=classes)\n",
        "plt.xlabel('Predicted')\n",
        "plt.ylabel('True')"
      ],
      "metadata": {
        "colab": {
          "base_uri": "https://localhost:8080/",
          "height": 868
        },
        "id": "8ZmJiUrewsYG",
        "outputId": "3b277c9f-af6b-4803-e35b-7a961247d83f"
      },
      "execution_count": 26,
      "outputs": [
        {
          "output_type": "execute_result",
          "data": {
            "text/plain": [
              "Text(95.72222222222221, 0.5, 'True')"
            ]
          },
          "metadata": {},
          "execution_count": 26
        },
        {
          "output_type": "display_data",
          "data": {
            "text/plain": [
              "<Figure size 1000x1000 with 2 Axes>"
            ],
            "image/png": "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\n"
          },
          "metadata": {}
        }
      ]
    },
    {
      "cell_type": "code",
      "source": [
        "batch_size = 16\n",
        "epochs = 80\n",
        "learning_rate = 0.0005\n",
        "\n",
        "model_4_3_1 = create_model()\n",
        "\n",
        "model_4_3_1.compile(\n",
        "    loss=keras.losses.SparseCategoricalCrossentropy(from_logits=False),\n",
        "    optimizer=keras.optimizers.Adam(learning_rate=learning_rate),\n",
        "    metrics=['accuracy']\n",
        ")\n",
        "train_progress = model_4_3_1.fit(\n",
        "    x_train, y_train,\n",
        "    batch_size=batch_size,\n",
        "    epochs=epochs,\n",
        "    validation_data=(x_val, y_val),\n",
        ")\n",
        "score = model_4_3_1.evaluate(x_val, y_val, verbose=0)\n",
        "print('Validation loss:', score[0])\n",
        "print('Validation accuracy:', score[1])"
      ],
      "metadata": {
        "colab": {
          "base_uri": "https://localhost:8080/"
        },
        "id": "LydMpt6Yr2El",
        "outputId": "acdf16ae-82f7-446d-9599-8869200cab42"
      },
      "execution_count": 8,
      "outputs": [
        {
          "output_type": "stream",
          "name": "stdout",
          "text": [
            "Epoch 1/80\n",
            "\u001b[1m3000/3000\u001b[0m \u001b[32m━━━━━━━━━━━━━━━━━━━━\u001b[0m\u001b[37m\u001b[0m \u001b[1m35s\u001b[0m 9ms/step - accuracy: 0.2556 - loss: 1.9223 - val_accuracy: 0.5157 - val_loss: 1.2974\n",
            "Epoch 2/80\n",
            "\u001b[1m3000/3000\u001b[0m \u001b[32m━━━━━━━━━━━━━━━━━━━━\u001b[0m\u001b[37m\u001b[0m \u001b[1m23s\u001b[0m 5ms/step - accuracy: 0.5163 - loss: 1.3171 - val_accuracy: 0.6305 - val_loss: 1.0244\n",
            "Epoch 3/80\n",
            "\u001b[1m3000/3000\u001b[0m \u001b[32m━━━━━━━━━━━━━━━━━━━━\u001b[0m\u001b[37m\u001b[0m \u001b[1m14s\u001b[0m 5ms/step - accuracy: 0.6119 - loss: 1.0815 - val_accuracy: 0.6612 - val_loss: 0.9260\n",
            "Epoch 4/80\n",
            "\u001b[1m3000/3000\u001b[0m \u001b[32m━━━━━━━━━━━━━━━━━━━━\u001b[0m\u001b[37m\u001b[0m \u001b[1m13s\u001b[0m 4ms/step - accuracy: 0.6653 - loss: 0.9378 - val_accuracy: 0.7109 - val_loss: 0.7984\n",
            "Epoch 5/80\n",
            "\u001b[1m3000/3000\u001b[0m \u001b[32m━━━━━━━━━━━━━━━━━━━━\u001b[0m\u001b[37m\u001b[0m \u001b[1m13s\u001b[0m 4ms/step - accuracy: 0.7073 - loss: 0.8251 - val_accuracy: 0.7352 - val_loss: 0.7451\n",
            "Epoch 6/80\n",
            "\u001b[1m3000/3000\u001b[0m \u001b[32m━━━━━━━━━━━━━━━━━━━━\u001b[0m\u001b[37m\u001b[0m \u001b[1m16s\u001b[0m 5ms/step - accuracy: 0.7380 - loss: 0.7487 - val_accuracy: 0.7469 - val_loss: 0.7226\n",
            "Epoch 7/80\n",
            "\u001b[1m3000/3000\u001b[0m \u001b[32m━━━━━━━━━━━━━━━━━━━━\u001b[0m\u001b[37m\u001b[0m \u001b[1m18s\u001b[0m 5ms/step - accuracy: 0.7635 - loss: 0.6769 - val_accuracy: 0.7502 - val_loss: 0.7272\n",
            "Epoch 8/80\n",
            "\u001b[1m3000/3000\u001b[0m \u001b[32m━━━━━━━━━━━━━━━━━━━━\u001b[0m\u001b[37m\u001b[0m \u001b[1m20s\u001b[0m 5ms/step - accuracy: 0.7824 - loss: 0.6191 - val_accuracy: 0.7761 - val_loss: 0.6504\n",
            "Epoch 9/80\n",
            "\u001b[1m3000/3000\u001b[0m \u001b[32m━━━━━━━━━━━━━━━━━━━━\u001b[0m\u001b[37m\u001b[0m \u001b[1m13s\u001b[0m 4ms/step - accuracy: 0.8025 - loss: 0.5672 - val_accuracy: 0.7839 - val_loss: 0.6414\n",
            "Epoch 10/80\n",
            "\u001b[1m3000/3000\u001b[0m \u001b[32m━━━━━━━━━━━━━━━━━━━━\u001b[0m\u001b[37m\u001b[0m \u001b[1m22s\u001b[0m 5ms/step - accuracy: 0.8199 - loss: 0.5196 - val_accuracy: 0.7802 - val_loss: 0.6688\n",
            "Epoch 11/80\n",
            "\u001b[1m3000/3000\u001b[0m \u001b[32m━━━━━━━━━━━━━━━━━━━━\u001b[0m\u001b[37m\u001b[0m \u001b[1m21s\u001b[0m 5ms/step - accuracy: 0.8294 - loss: 0.4837 - val_accuracy: 0.7924 - val_loss: 0.6356\n",
            "Epoch 12/80\n",
            "\u001b[1m3000/3000\u001b[0m \u001b[32m━━━━━━━━━━━━━━━━━━━━\u001b[0m\u001b[37m\u001b[0m \u001b[1m14s\u001b[0m 5ms/step - accuracy: 0.8406 - loss: 0.4505 - val_accuracy: 0.7894 - val_loss: 0.6628\n",
            "Epoch 13/80\n",
            "\u001b[1m3000/3000\u001b[0m \u001b[32m━━━━━━━━━━━━━━━━━━━━\u001b[0m\u001b[37m\u001b[0m \u001b[1m21s\u001b[0m 5ms/step - accuracy: 0.8556 - loss: 0.4159 - val_accuracy: 0.7928 - val_loss: 0.6452\n",
            "Epoch 14/80\n",
            "\u001b[1m3000/3000\u001b[0m \u001b[32m━━━━━━━━━━━━━━━━━━━━\u001b[0m\u001b[37m\u001b[0m \u001b[1m15s\u001b[0m 5ms/step - accuracy: 0.8635 - loss: 0.3839 - val_accuracy: 0.7976 - val_loss: 0.6248\n",
            "Epoch 15/80\n",
            "\u001b[1m3000/3000\u001b[0m \u001b[32m━━━━━━━━━━━━━━━━━━━━\u001b[0m\u001b[37m\u001b[0m \u001b[1m15s\u001b[0m 5ms/step - accuracy: 0.8723 - loss: 0.3569 - val_accuracy: 0.8043 - val_loss: 0.6482\n",
            "Epoch 16/80\n",
            "\u001b[1m3000/3000\u001b[0m \u001b[32m━━━━━━━━━━━━━━━━━━━━\u001b[0m\u001b[37m\u001b[0m \u001b[1m14s\u001b[0m 5ms/step - accuracy: 0.8815 - loss: 0.3303 - val_accuracy: 0.8068 - val_loss: 0.6414\n",
            "Epoch 17/80\n",
            "\u001b[1m3000/3000\u001b[0m \u001b[32m━━━━━━━━━━━━━━━━━━━━\u001b[0m\u001b[37m\u001b[0m \u001b[1m15s\u001b[0m 5ms/step - accuracy: 0.8896 - loss: 0.3117 - val_accuracy: 0.8095 - val_loss: 0.6859\n",
            "Epoch 18/80\n",
            "\u001b[1m3000/3000\u001b[0m \u001b[32m━━━━━━━━━━━━━━━━━━━━\u001b[0m\u001b[37m\u001b[0m \u001b[1m13s\u001b[0m 4ms/step - accuracy: 0.8957 - loss: 0.2898 - val_accuracy: 0.8054 - val_loss: 0.6667\n",
            "Epoch 19/80\n",
            "\u001b[1m3000/3000\u001b[0m \u001b[32m━━━━━━━━━━━━━━━━━━━━\u001b[0m\u001b[37m\u001b[0m \u001b[1m13s\u001b[0m 4ms/step - accuracy: 0.9058 - loss: 0.2645 - val_accuracy: 0.7997 - val_loss: 0.7242\n",
            "Epoch 20/80\n",
            "\u001b[1m3000/3000\u001b[0m \u001b[32m━━━━━━━━━━━━━━━━━━━━\u001b[0m\u001b[37m\u001b[0m \u001b[1m13s\u001b[0m 4ms/step - accuracy: 0.9108 - loss: 0.2474 - val_accuracy: 0.7990 - val_loss: 0.7875\n",
            "Epoch 21/80\n",
            "\u001b[1m3000/3000\u001b[0m \u001b[32m━━━━━━━━━━━━━━━━━━━━\u001b[0m\u001b[37m\u001b[0m \u001b[1m14s\u001b[0m 4ms/step - accuracy: 0.9149 - loss: 0.2344 - val_accuracy: 0.8052 - val_loss: 0.7493\n",
            "Epoch 22/80\n",
            "\u001b[1m3000/3000\u001b[0m \u001b[32m━━━━━━━━━━━━━━━━━━━━\u001b[0m\u001b[37m\u001b[0m \u001b[1m20s\u001b[0m 4ms/step - accuracy: 0.9188 - loss: 0.2239 - val_accuracy: 0.7972 - val_loss: 0.8138\n",
            "Epoch 23/80\n",
            "\u001b[1m3000/3000\u001b[0m \u001b[32m━━━━━━━━━━━━━━━━━━━━\u001b[0m\u001b[37m\u001b[0m \u001b[1m14s\u001b[0m 5ms/step - accuracy: 0.9222 - loss: 0.2116 - val_accuracy: 0.8073 - val_loss: 0.7965\n",
            "Epoch 24/80\n",
            "\u001b[1m3000/3000\u001b[0m \u001b[32m━━━━━━━━━━━━━━━━━━━━\u001b[0m\u001b[37m\u001b[0m \u001b[1m20s\u001b[0m 4ms/step - accuracy: 0.9281 - loss: 0.2031 - val_accuracy: 0.8012 - val_loss: 0.8500\n",
            "Epoch 25/80\n",
            "\u001b[1m3000/3000\u001b[0m \u001b[32m━━━━━━━━━━━━━━━━━━━━\u001b[0m\u001b[37m\u001b[0m \u001b[1m21s\u001b[0m 5ms/step - accuracy: 0.9319 - loss: 0.1890 - val_accuracy: 0.7908 - val_loss: 0.9413\n",
            "Epoch 26/80\n",
            "\u001b[1m3000/3000\u001b[0m \u001b[32m━━━━━━━━━━━━━━━━━━━━\u001b[0m\u001b[37m\u001b[0m \u001b[1m13s\u001b[0m 4ms/step - accuracy: 0.9365 - loss: 0.1762 - val_accuracy: 0.8012 - val_loss: 0.8967\n",
            "Epoch 27/80\n",
            "\u001b[1m3000/3000\u001b[0m \u001b[32m━━━━━━━━━━━━━━━━━━━━\u001b[0m\u001b[37m\u001b[0m \u001b[1m14s\u001b[0m 5ms/step - accuracy: 0.9365 - loss: 0.1717 - val_accuracy: 0.7881 - val_loss: 0.9866\n",
            "Epoch 28/80\n",
            "\u001b[1m3000/3000\u001b[0m \u001b[32m━━━━━━━━━━━━━━━━━━━━\u001b[0m\u001b[37m\u001b[0m \u001b[1m13s\u001b[0m 4ms/step - accuracy: 0.9418 - loss: 0.1620 - val_accuracy: 0.8087 - val_loss: 0.8520\n",
            "Epoch 29/80\n",
            "\u001b[1m3000/3000\u001b[0m \u001b[32m━━━━━━━━━━━━━━━━━━━━\u001b[0m\u001b[37m\u001b[0m \u001b[1m13s\u001b[0m 4ms/step - accuracy: 0.9447 - loss: 0.1513 - val_accuracy: 0.7947 - val_loss: 0.9155\n",
            "Epoch 30/80\n",
            "\u001b[1m3000/3000\u001b[0m \u001b[32m━━━━━━━━━━━━━━━━━━━━\u001b[0m\u001b[37m\u001b[0m \u001b[1m13s\u001b[0m 4ms/step - accuracy: 0.9459 - loss: 0.1504 - val_accuracy: 0.8067 - val_loss: 0.9626\n",
            "Epoch 31/80\n",
            "\u001b[1m3000/3000\u001b[0m \u001b[32m━━━━━━━━━━━━━━━━━━━━\u001b[0m\u001b[37m\u001b[0m \u001b[1m14s\u001b[0m 4ms/step - accuracy: 0.9472 - loss: 0.1503 - val_accuracy: 0.7960 - val_loss: 0.9552\n",
            "Epoch 32/80\n",
            "\u001b[1m3000/3000\u001b[0m \u001b[32m━━━━━━━━━━━━━━━━━━━━\u001b[0m\u001b[37m\u001b[0m \u001b[1m20s\u001b[0m 4ms/step - accuracy: 0.9483 - loss: 0.1425 - val_accuracy: 0.8036 - val_loss: 1.0185\n",
            "Epoch 33/80\n",
            "\u001b[1m3000/3000\u001b[0m \u001b[32m━━━━━━━━━━━━━━━━━━━━\u001b[0m\u001b[37m\u001b[0m \u001b[1m21s\u001b[0m 5ms/step - accuracy: 0.9508 - loss: 0.1421 - val_accuracy: 0.8030 - val_loss: 0.9461\n",
            "Epoch 34/80\n",
            "\u001b[1m3000/3000\u001b[0m \u001b[32m━━━━━━━━━━━━━━━━━━━━\u001b[0m\u001b[37m\u001b[0m \u001b[1m13s\u001b[0m 4ms/step - accuracy: 0.9514 - loss: 0.1341 - val_accuracy: 0.7918 - val_loss: 1.0504\n",
            "Epoch 35/80\n",
            "\u001b[1m3000/3000\u001b[0m \u001b[32m━━━━━━━━━━━━━━━━━━━━\u001b[0m\u001b[37m\u001b[0m \u001b[1m21s\u001b[0m 5ms/step - accuracy: 0.9550 - loss: 0.1297 - val_accuracy: 0.8044 - val_loss: 1.0255\n",
            "Epoch 36/80\n",
            "\u001b[1m3000/3000\u001b[0m \u001b[32m━━━━━━━━━━━━━━━━━━━━\u001b[0m\u001b[37m\u001b[0m \u001b[1m20s\u001b[0m 4ms/step - accuracy: 0.9565 - loss: 0.1246 - val_accuracy: 0.7947 - val_loss: 1.1255\n",
            "Epoch 37/80\n",
            "\u001b[1m3000/3000\u001b[0m \u001b[32m━━━━━━━━━━━━━━━━━━━━\u001b[0m\u001b[37m\u001b[0m \u001b[1m20s\u001b[0m 4ms/step - accuracy: 0.9564 - loss: 0.1246 - val_accuracy: 0.8033 - val_loss: 1.1751\n",
            "Epoch 38/80\n",
            "\u001b[1m3000/3000\u001b[0m \u001b[32m━━━━━━━━━━━━━━━━━━━━\u001b[0m\u001b[37m\u001b[0m \u001b[1m21s\u001b[0m 4ms/step - accuracy: 0.9570 - loss: 0.1235 - val_accuracy: 0.7951 - val_loss: 1.0341\n",
            "Epoch 39/80\n",
            "\u001b[1m3000/3000\u001b[0m \u001b[32m━━━━━━━━━━━━━━━━━━━━\u001b[0m\u001b[37m\u001b[0m \u001b[1m20s\u001b[0m 4ms/step - accuracy: 0.9595 - loss: 0.1192 - val_accuracy: 0.8082 - val_loss: 1.0593\n",
            "Epoch 40/80\n",
            "\u001b[1m3000/3000\u001b[0m \u001b[32m━━━━━━━━━━━━━━━━━━━━\u001b[0m\u001b[37m\u001b[0m \u001b[1m20s\u001b[0m 4ms/step - accuracy: 0.9641 - loss: 0.1095 - val_accuracy: 0.7966 - val_loss: 1.0903\n",
            "Epoch 41/80\n",
            "\u001b[1m3000/3000\u001b[0m \u001b[32m━━━━━━━━━━━━━━━━━━━━\u001b[0m\u001b[37m\u001b[0m \u001b[1m21s\u001b[0m 4ms/step - accuracy: 0.9636 - loss: 0.1075 - val_accuracy: 0.7985 - val_loss: 1.1915\n",
            "Epoch 42/80\n",
            "\u001b[1m3000/3000\u001b[0m \u001b[32m━━━━━━━━━━━━━━━━━━━━\u001b[0m\u001b[37m\u001b[0m \u001b[1m21s\u001b[0m 4ms/step - accuracy: 0.9630 - loss: 0.1062 - val_accuracy: 0.7968 - val_loss: 1.0536\n",
            "Epoch 43/80\n",
            "\u001b[1m3000/3000\u001b[0m \u001b[32m━━━━━━━━━━━━━━━━━━━━\u001b[0m\u001b[37m\u001b[0m \u001b[1m21s\u001b[0m 5ms/step - accuracy: 0.9624 - loss: 0.1074 - val_accuracy: 0.8041 - val_loss: 1.1473\n",
            "Epoch 44/80\n",
            "\u001b[1m3000/3000\u001b[0m \u001b[32m━━━━━━━━━━━━━━━━━━━━\u001b[0m\u001b[37m\u001b[0m \u001b[1m21s\u001b[0m 5ms/step - accuracy: 0.9634 - loss: 0.1109 - val_accuracy: 0.8025 - val_loss: 1.1784\n",
            "Epoch 45/80\n",
            "\u001b[1m3000/3000\u001b[0m \u001b[32m━━━━━━━━━━━━━━━━━━━━\u001b[0m\u001b[37m\u001b[0m \u001b[1m20s\u001b[0m 5ms/step - accuracy: 0.9644 - loss: 0.1055 - val_accuracy: 0.7927 - val_loss: 1.2177\n",
            "Epoch 46/80\n",
            "\u001b[1m3000/3000\u001b[0m \u001b[32m━━━━━━━━━━━━━━━━━━━━\u001b[0m\u001b[37m\u001b[0m \u001b[1m14s\u001b[0m 5ms/step - accuracy: 0.9629 - loss: 0.1083 - val_accuracy: 0.8049 - val_loss: 1.1093\n",
            "Epoch 47/80\n",
            "\u001b[1m3000/3000\u001b[0m \u001b[32m━━━━━━━━━━━━━━━━━━━━\u001b[0m\u001b[37m\u001b[0m \u001b[1m13s\u001b[0m 4ms/step - accuracy: 0.9667 - loss: 0.1007 - val_accuracy: 0.8046 - val_loss: 1.1861\n",
            "Epoch 48/80\n",
            "\u001b[1m3000/3000\u001b[0m \u001b[32m━━━━━━━━━━━━━━━━━━━━\u001b[0m\u001b[37m\u001b[0m \u001b[1m20s\u001b[0m 4ms/step - accuracy: 0.9656 - loss: 0.1029 - val_accuracy: 0.7982 - val_loss: 1.1752\n",
            "Epoch 49/80\n",
            "\u001b[1m3000/3000\u001b[0m \u001b[32m━━━━━━━━━━━━━━━━━━━━\u001b[0m\u001b[37m\u001b[0m \u001b[1m21s\u001b[0m 5ms/step - accuracy: 0.9677 - loss: 0.0945 - val_accuracy: 0.7965 - val_loss: 1.1210\n",
            "Epoch 50/80\n",
            "\u001b[1m3000/3000\u001b[0m \u001b[32m━━━━━━━━━━━━━━━━━━━━\u001b[0m\u001b[37m\u001b[0m \u001b[1m13s\u001b[0m 4ms/step - accuracy: 0.9679 - loss: 0.0949 - val_accuracy: 0.8012 - val_loss: 1.2677\n",
            "Epoch 51/80\n",
            "\u001b[1m3000/3000\u001b[0m \u001b[32m━━━━━━━━━━━━━━━━━━━━\u001b[0m\u001b[37m\u001b[0m \u001b[1m13s\u001b[0m 4ms/step - accuracy: 0.9669 - loss: 0.0997 - val_accuracy: 0.8018 - val_loss: 1.3239\n",
            "Epoch 52/80\n",
            "\u001b[1m3000/3000\u001b[0m \u001b[32m━━━━━━━━━━━━━━━━━━━━\u001b[0m\u001b[37m\u001b[0m \u001b[1m21s\u001b[0m 5ms/step - accuracy: 0.9670 - loss: 0.0964 - val_accuracy: 0.8077 - val_loss: 1.2636\n",
            "Epoch 53/80\n",
            "\u001b[1m3000/3000\u001b[0m \u001b[32m━━━━━━━━━━━━━━━━━━━━\u001b[0m\u001b[37m\u001b[0m \u001b[1m13s\u001b[0m 4ms/step - accuracy: 0.9700 - loss: 0.0889 - val_accuracy: 0.7935 - val_loss: 1.4758\n",
            "Epoch 54/80\n",
            "\u001b[1m3000/3000\u001b[0m \u001b[32m━━━━━━━━━━━━━━━━━━━━\u001b[0m\u001b[37m\u001b[0m \u001b[1m13s\u001b[0m 4ms/step - accuracy: 0.9709 - loss: 0.0877 - val_accuracy: 0.7965 - val_loss: 1.2802\n",
            "Epoch 55/80\n",
            "\u001b[1m3000/3000\u001b[0m \u001b[32m━━━━━━━━━━━━━━━━━━━━\u001b[0m\u001b[37m\u001b[0m \u001b[1m21s\u001b[0m 5ms/step - accuracy: 0.9688 - loss: 0.0887 - val_accuracy: 0.7968 - val_loss: 1.2804\n",
            "Epoch 56/80\n",
            "\u001b[1m3000/3000\u001b[0m \u001b[32m━━━━━━━━━━━━━━━━━━━━\u001b[0m\u001b[37m\u001b[0m \u001b[1m13s\u001b[0m 4ms/step - accuracy: 0.9706 - loss: 0.0879 - val_accuracy: 0.7957 - val_loss: 1.3803\n",
            "Epoch 57/80\n",
            "\u001b[1m3000/3000\u001b[0m \u001b[32m━━━━━━━━━━━━━━━━━━━━\u001b[0m\u001b[37m\u001b[0m \u001b[1m21s\u001b[0m 5ms/step - accuracy: 0.9705 - loss: 0.0882 - val_accuracy: 0.8003 - val_loss: 1.2769\n",
            "Epoch 58/80\n",
            "\u001b[1m3000/3000\u001b[0m \u001b[32m━━━━━━━━━━━━━━━━━━━━\u001b[0m\u001b[37m\u001b[0m \u001b[1m19s\u001b[0m 4ms/step - accuracy: 0.9694 - loss: 0.0926 - val_accuracy: 0.8079 - val_loss: 1.2850\n",
            "Epoch 59/80\n",
            "\u001b[1m3000/3000\u001b[0m \u001b[32m━━━━━━━━━━━━━━━━━━━━\u001b[0m\u001b[37m\u001b[0m \u001b[1m14s\u001b[0m 4ms/step - accuracy: 0.9709 - loss: 0.0884 - val_accuracy: 0.8036 - val_loss: 1.3356\n",
            "Epoch 60/80\n",
            "\u001b[1m3000/3000\u001b[0m \u001b[32m━━━━━━━━━━━━━━━━━━━━\u001b[0m\u001b[37m\u001b[0m \u001b[1m14s\u001b[0m 5ms/step - accuracy: 0.9721 - loss: 0.0842 - val_accuracy: 0.8019 - val_loss: 1.4057\n",
            "Epoch 61/80\n",
            "\u001b[1m3000/3000\u001b[0m \u001b[32m━━━━━━━━━━━━━━━━━━━━\u001b[0m\u001b[37m\u001b[0m \u001b[1m14s\u001b[0m 5ms/step - accuracy: 0.9708 - loss: 0.0885 - val_accuracy: 0.8035 - val_loss: 1.3650\n",
            "Epoch 62/80\n",
            "\u001b[1m3000/3000\u001b[0m \u001b[32m━━━━━━━━━━━━━━━━━━━━\u001b[0m\u001b[37m\u001b[0m \u001b[1m14s\u001b[0m 5ms/step - accuracy: 0.9722 - loss: 0.0848 - val_accuracy: 0.8019 - val_loss: 1.3930\n",
            "Epoch 63/80\n",
            "\u001b[1m3000/3000\u001b[0m \u001b[32m━━━━━━━━━━━━━━━━━━━━\u001b[0m\u001b[37m\u001b[0m \u001b[1m20s\u001b[0m 5ms/step - accuracy: 0.9751 - loss: 0.0761 - val_accuracy: 0.8001 - val_loss: 1.4000\n",
            "Epoch 64/80\n",
            "\u001b[1m3000/3000\u001b[0m \u001b[32m━━━━━━━━━━━━━━━━━━━━\u001b[0m\u001b[37m\u001b[0m \u001b[1m20s\u001b[0m 5ms/step - accuracy: 0.9719 - loss: 0.0841 - val_accuracy: 0.7943 - val_loss: 1.5150\n",
            "Epoch 65/80\n",
            "\u001b[1m3000/3000\u001b[0m \u001b[32m━━━━━━━━━━━━━━━━━━━━\u001b[0m\u001b[37m\u001b[0m \u001b[1m13s\u001b[0m 4ms/step - accuracy: 0.9731 - loss: 0.0819 - val_accuracy: 0.8043 - val_loss: 1.4025\n",
            "Epoch 66/80\n",
            "\u001b[1m3000/3000\u001b[0m \u001b[32m━━━━━━━━━━━━━━━━━━━━\u001b[0m\u001b[37m\u001b[0m \u001b[1m21s\u001b[0m 5ms/step - accuracy: 0.9737 - loss: 0.0820 - val_accuracy: 0.7922 - val_loss: 1.4989\n",
            "Epoch 67/80\n",
            "\u001b[1m3000/3000\u001b[0m \u001b[32m━━━━━━━━━━━━━━━━━━━━\u001b[0m\u001b[37m\u001b[0m \u001b[1m14s\u001b[0m 5ms/step - accuracy: 0.9736 - loss: 0.0803 - val_accuracy: 0.8016 - val_loss: 1.4164\n",
            "Epoch 68/80\n",
            "\u001b[1m3000/3000\u001b[0m \u001b[32m━━━━━━━━━━━━━━━━━━━━\u001b[0m\u001b[37m\u001b[0m \u001b[1m14s\u001b[0m 5ms/step - accuracy: 0.9750 - loss: 0.0812 - val_accuracy: 0.8062 - val_loss: 1.4974\n",
            "Epoch 69/80\n",
            "\u001b[1m3000/3000\u001b[0m \u001b[32m━━━━━━━━━━━━━━━━━━━━\u001b[0m\u001b[37m\u001b[0m \u001b[1m14s\u001b[0m 5ms/step - accuracy: 0.9735 - loss: 0.0839 - val_accuracy: 0.8015 - val_loss: 1.4625\n",
            "Epoch 70/80\n",
            "\u001b[1m3000/3000\u001b[0m \u001b[32m━━━━━━━━━━━━━━━━━━━━\u001b[0m\u001b[37m\u001b[0m \u001b[1m14s\u001b[0m 5ms/step - accuracy: 0.9717 - loss: 0.0898 - val_accuracy: 0.8038 - val_loss: 1.4543\n",
            "Epoch 71/80\n",
            "\u001b[1m3000/3000\u001b[0m \u001b[32m━━━━━━━━━━━━━━━━━━━━\u001b[0m\u001b[37m\u001b[0m \u001b[1m13s\u001b[0m 4ms/step - accuracy: 0.9735 - loss: 0.0795 - val_accuracy: 0.8078 - val_loss: 1.3800\n",
            "Epoch 72/80\n",
            "\u001b[1m3000/3000\u001b[0m \u001b[32m━━━━━━━━━━━━━━━━━━━━\u001b[0m\u001b[37m\u001b[0m \u001b[1m20s\u001b[0m 4ms/step - accuracy: 0.9733 - loss: 0.0847 - val_accuracy: 0.7895 - val_loss: 1.5257\n",
            "Epoch 73/80\n",
            "\u001b[1m3000/3000\u001b[0m \u001b[32m━━━━━━━━━━━━━━━━━━━━\u001b[0m\u001b[37m\u001b[0m \u001b[1m14s\u001b[0m 5ms/step - accuracy: 0.9761 - loss: 0.0756 - val_accuracy: 0.7994 - val_loss: 1.4511\n",
            "Epoch 74/80\n",
            "\u001b[1m3000/3000\u001b[0m \u001b[32m━━━━━━━━━━━━━━━━━━━━\u001b[0m\u001b[37m\u001b[0m \u001b[1m20s\u001b[0m 4ms/step - accuracy: 0.9738 - loss: 0.0806 - val_accuracy: 0.8022 - val_loss: 1.4206\n",
            "Epoch 75/80\n",
            "\u001b[1m3000/3000\u001b[0m \u001b[32m━━━━━━━━━━━━━━━━━━━━\u001b[0m\u001b[37m\u001b[0m \u001b[1m21s\u001b[0m 5ms/step - accuracy: 0.9767 - loss: 0.0749 - val_accuracy: 0.8061 - val_loss: 1.5168\n",
            "Epoch 76/80\n",
            "\u001b[1m3000/3000\u001b[0m \u001b[32m━━━━━━━━━━━━━━━━━━━━\u001b[0m\u001b[37m\u001b[0m \u001b[1m13s\u001b[0m 4ms/step - accuracy: 0.9757 - loss: 0.0761 - val_accuracy: 0.8074 - val_loss: 1.5450\n",
            "Epoch 77/80\n",
            "\u001b[1m3000/3000\u001b[0m \u001b[32m━━━━━━━━━━━━━━━━━━━━\u001b[0m\u001b[37m\u001b[0m \u001b[1m13s\u001b[0m 4ms/step - accuracy: 0.9756 - loss: 0.0741 - val_accuracy: 0.8058 - val_loss: 1.5153\n",
            "Epoch 78/80\n",
            "\u001b[1m3000/3000\u001b[0m \u001b[32m━━━━━━━━━━━━━━━━━━━━\u001b[0m\u001b[37m\u001b[0m \u001b[1m13s\u001b[0m 4ms/step - accuracy: 0.9747 - loss: 0.0808 - val_accuracy: 0.8018 - val_loss: 1.3932\n",
            "Epoch 79/80\n",
            "\u001b[1m3000/3000\u001b[0m \u001b[32m━━━━━━━━━━━━━━━━━━━━\u001b[0m\u001b[37m\u001b[0m \u001b[1m13s\u001b[0m 4ms/step - accuracy: 0.9738 - loss: 0.0811 - val_accuracy: 0.8029 - val_loss: 1.5551\n",
            "Epoch 80/80\n",
            "\u001b[1m3000/3000\u001b[0m \u001b[32m━━━━━━━━━━━━━━━━━━━━\u001b[0m\u001b[37m\u001b[0m \u001b[1m21s\u001b[0m 5ms/step - accuracy: 0.9757 - loss: 0.0773 - val_accuracy: 0.8020 - val_loss: 1.4862\n",
            "Validation loss: 1.4862123727798462\n",
            "Validation accuracy: 0.8019999861717224\n"
          ]
        }
      ]
    },
    {
      "cell_type": "code",
      "source": [
        "# Test tuning model\n",
        "test_loss, test_acc = model_4_3_1.evaluate(x_test, y_test, verbose=2)\n",
        "print(f\"Test accuracy: {test_acc}\")\n",
        "\n",
        "# precision\n",
        "y_pred = model_4_3_1.predict(x_test)\n",
        "y_pred_classes = np.argmax(y_pred, axis=1)\n",
        "precision = precision_score(y_test, y_pred_classes, average='weighted')\n",
        "print(f\"Precision: {precision}\")\n",
        "\n",
        "# recall\n",
        "recall = recall_score(y_test, y_pred_classes, average='weighted')\n",
        "print(f\"Recall: {recall}\")\n",
        "\n",
        "# F1 score\n",
        "f1 = f1_score(y_test, y_pred_classes, average='weighted')\n",
        "print(f\"F1 Score: {f1}\")"
      ],
      "metadata": {
        "colab": {
          "base_uri": "https://localhost:8080/"
        },
        "id": "jenZK6Lf8UhS",
        "outputId": "83ef307c-77b1-4fa2-c9a3-ed53a2a6688a"
      },
      "execution_count": 9,
      "outputs": [
        {
          "output_type": "stream",
          "name": "stdout",
          "text": [
            "313/313 - 2s - 7ms/step - accuracy: 0.9477 - loss: 0.3347\n",
            "Test accuracy: 0.947700023651123\n",
            "\u001b[1m313/313\u001b[0m \u001b[32m━━━━━━━━━━━━━━━━━━━━\u001b[0m\u001b[37m\u001b[0m \u001b[1m3s\u001b[0m 8ms/step\n",
            "Precision: 0.948992750032046\n",
            "Recall: 0.9477\n",
            "F1 Score: 0.948014947593521\n"
          ]
        }
      ]
    },
    {
      "cell_type": "code",
      "source": [
        "history = train_progress.history\n",
        "\n",
        "# Plot training and validation accuracy values\n",
        "plt.plot(history['accuracy'])\n",
        "plt.plot(history['val_accuracy'])\n",
        "plt.title('Model Accuracy')\n",
        "plt.ylabel('Accuracy')\n",
        "plt.xlabel('Epoch')\n",
        "plt.legend(['Train', 'Validation'], loc='upper left')\n",
        "plt.show()\n",
        "\n",
        "# Plot training and validation loss values\n",
        "plt.plot(history['loss'])\n",
        "plt.plot(history['val_loss'])\n",
        "plt.title('Model Loss')\n",
        "plt.ylabel('Loss')\n",
        "plt.xlabel('Epoch')\n",
        "plt.legend(['Train', 'Validation'], loc='upper left')\n",
        "plt.show()"
      ],
      "metadata": {
        "id": "JlYuh5Qp9pZ3",
        "outputId": "990e615b-a0e9-45c0-ce7e-fb0f3d202edb",
        "colab": {
          "base_uri": "https://localhost:8080/",
          "height": 927
        }
      },
      "execution_count": 16,
      "outputs": [
        {
          "output_type": "display_data",
          "data": {
            "text/plain": [
              "<Figure size 640x480 with 1 Axes>"
            ],
            "image/png": "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\n"
          },
          "metadata": {}
        },
        {
          "output_type": "display_data",
          "data": {
            "text/plain": [
              "<Figure size 640x480 with 1 Axes>"
            ],
            "image/png": "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\n"
          },
          "metadata": {}
        }
      ]
    },
    {
      "cell_type": "code",
      "source": [
        "cm = confusion_matrix(y_test, y_pred_classes)\n",
        "plt.figure(figsize=(10, 10))\n",
        "sns.heatmap(cm, annot=True, fmt='d', cmap='plasma', xticklabels=classes, yticklabels=classes)\n",
        "plt.xlabel('Predicted')\n",
        "plt.ylabel('True')"
      ],
      "metadata": {
        "colab": {
          "base_uri": "https://localhost:8080/",
          "height": 868
        },
        "id": "klzPiuvC8gVD",
        "outputId": "cf43ba39-dcd7-4976-9f54-b59a9090efd6"
      },
      "execution_count": 12,
      "outputs": [
        {
          "output_type": "execute_result",
          "data": {
            "text/plain": [
              "Text(95.72222222222221, 0.5, 'True')"
            ]
          },
          "metadata": {},
          "execution_count": 12
        },
        {
          "output_type": "display_data",
          "data": {
            "text/plain": [
              "<Figure size 1000x1000 with 2 Axes>"
            ],
            "image/png": "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\n"
          },
          "metadata": {}
        }
      ]
    },
    {
      "cell_type": "markdown",
      "source": [
        "# Do not run below\n",
        "**Fine-tuning ViT model**\n",
        "*   Fine tune ViT model for CIFAR-10 dataset\n",
        "\n",
        "*   ViT model is SOTA model regarding image clasification on CIFAR-10, so we'll apply this model in our environment.\n",
        "    *   (Reference) [CIFAR-10 benchmark](https://paperswithcode.com/sota/image-classification-on-cifar-10), Beyer, et al, 2021, An Image is Worth 16x16 Words: Transformers for Image Recognition at Scale, arXiv:2010.11929\n",
        "\n",
        "\n",
        "\n",
        "\n",
        "\n",
        "\n"
      ],
      "metadata": {
        "id": "CmrivvAmAQ01"
      }
    },
    {
      "cell_type": "code",
      "source": [
        "!pip install -q transformers datasets"
      ],
      "metadata": {
        "colab": {
          "base_uri": "https://localhost:8080/"
        },
        "id": "HbaD_znMAP_Z",
        "outputId": "b1ee24e3-588f-438c-da23-cee97378486c"
      },
      "execution_count": null,
      "outputs": [
        {
          "output_type": "stream",
          "name": "stdout",
          "text": [
            "\u001b[?25l   \u001b[90m━━━━━━━━━━━━━━━━━━━━━━━━━━━━━━━━━━━━━━━━\u001b[0m \u001b[32m0.0/487.4 kB\u001b[0m \u001b[31m?\u001b[0m eta \u001b[36m-:--:--\u001b[0m\r\u001b[2K   \u001b[90m━━━━━━━━━━━━━━━━━━━━━━━━━━━━━━━━━━━━━━━━\u001b[0m \u001b[32m487.4/487.4 kB\u001b[0m \u001b[31m19.6 MB/s\u001b[0m eta \u001b[36m0:00:00\u001b[0m\n",
            "\u001b[?25h\u001b[?25l   \u001b[90m━━━━━━━━━━━━━━━━━━━━━━━━━━━━━━━━━━━━━━━━\u001b[0m \u001b[32m0.0/116.3 kB\u001b[0m \u001b[31m?\u001b[0m eta \u001b[36m-:--:--\u001b[0m\r\u001b[2K   \u001b[90m━━━━━━━━━━━━━━━━━━━━━━━━━━━━━━━━━━━━━━━━\u001b[0m \u001b[32m116.3/116.3 kB\u001b[0m \u001b[31m9.0 MB/s\u001b[0m eta \u001b[36m0:00:00\u001b[0m\n",
            "\u001b[?25h\u001b[?25l   \u001b[90m━━━━━━━━━━━━━━━━━━━━━━━━━━━━━━━━━━━━━━━━\u001b[0m \u001b[32m0.0/143.5 kB\u001b[0m \u001b[31m?\u001b[0m eta \u001b[36m-:--:--\u001b[0m\r\u001b[2K   \u001b[90m━━━━━━━━━━━━━━━━━━━━━━━━━━━━━━━━━━━━━━━━\u001b[0m \u001b[32m143.5/143.5 kB\u001b[0m \u001b[31m11.7 MB/s\u001b[0m eta \u001b[36m0:00:00\u001b[0m\n",
            "\u001b[?25h\u001b[?25l   \u001b[90m━━━━━━━━━━━━━━━━━━━━━━━━━━━━━━━━━━━━━━━━\u001b[0m \u001b[32m0.0/194.8 kB\u001b[0m \u001b[31m?\u001b[0m eta \u001b[36m-:--:--\u001b[0m\r\u001b[2K   \u001b[90m━━━━━━━━━━━━━━━━━━━━━━━━━━━━━━━━━━━━━━━━\u001b[0m \u001b[32m194.8/194.8 kB\u001b[0m \u001b[31m16.8 MB/s\u001b[0m eta \u001b[36m0:00:00\u001b[0m\n",
            "\u001b[?25h"
          ]
        }
      ]
    },
    {
      "cell_type": "code",
      "source": [
        "from datasets import load_dataset\n",
        "\n",
        "# load cifar10 (only small portion for demonstration purposes)\n",
        "train_ds, test_ds = load_dataset('cifar10', split=['train[:50000]', 'test[:10000]'])\n",
        "# split up training into training + validation\n",
        "splits = train_ds.train_test_split(test_size=0.1)\n",
        "train_ds = splits['train']\n",
        "val_ds = splits['test']"
      ],
      "metadata": {
        "colab": {
          "base_uri": "https://localhost:8080/",
          "height": 360,
          "referenced_widgets": [
            "cf83a5449487444d92741e971c40a0c9",
            "c577dbc57b9b4632877e6a9af71e4b04",
            "038756d695c64e289859afd8c9a6c632",
            "df8b40d0408f4ecf95dd955bbd7ba198",
            "5400a71c6c0846508ceceb4d9465feba",
            "45059ab4888843b1891219c6072203cd",
            "497a04e8da4347549a5dbf6d6202be50",
            "d25b6e8f882f4232af6be0e289af5852",
            "b1a7390615134ab4b1187b87e9dfbbdf",
            "0a3a642c245448fc8277e05079b979af",
            "062ca696ef0b4407b0e170858113a98b",
            "170ce26b28d94c148390e706dff98878",
            "bb58186b66ce4a378e1b26780fd0a324",
            "eef506a44e374a998edfbf5f0793fe15",
            "69f57c0e93a44a42925c12a1248d42d2",
            "06cd755745bf4e049fda8f1afaf2a893",
            "a97e50da9ffc4149abf721bb6ab7d43b",
            "003cdaafecc745deaaa5e8130fb5ca02",
            "4bf26acf00a042c08272ab61a834de8d",
            "1e6ef90be30f4247bac18ba16ae8afe1",
            "5cb24afb614d4b8d924c77a70d9d804c",
            "63423bf217034214aa23e661ba4e77cf",
            "2ce502bb8da54e6f9cc49b2159c609ee",
            "b4218e48118346b198a28edfd168bd34",
            "510e640bc8c04f52a8e6858383060ee8",
            "dad60b65761347c79b4c8ea4836a9994",
            "c7f214c0e196419ba160ef478c7aa9dc",
            "3dd646a51e1d4c318e38dd4cb697966f",
            "710713a6214b4bb5841b03a98907fdd0",
            "4471b7e792344798bf5f785aaf810842",
            "e87a121d140a49c1bc7821ba4c072d63",
            "f975d9fbbbe5411da5b8b0bb298287a1",
            "2ca75505078c4733a803c5345a447c8a",
            "bb483cd8808e4219bca4c80c54e35ef2",
            "40dfd7f932e14738b1e404a406a4042f",
            "84c2f2640a984fb1aed69dd95f645162",
            "66ac8fdf0dd14124b6e021aaf3e97752",
            "208368c3fe9641e18176d62360af38e4",
            "da744729681d4fdaaa4a474d4efcc0c3",
            "4d51e85cd1ed4fc09d43b43657ca8554",
            "ea77c20db8ab46d4bb51e59534fcf4de",
            "5721e6a634c943a1a9ef51810125941e",
            "67174c72a41748228d66d1e5ec943660",
            "500254f051de403c8a95328e53680997",
            "49d151affe864d2a988908c99a5fdc95",
            "b110a02eb2cf4f4ea5cbda18da4e1fe2",
            "14786f3c0ccc4f00ac146719b5b57e14",
            "7f176870e1e14d25ba1213b2f6535da7",
            "5823c05b9dd74c4d8823c80bdf58e38d",
            "39b39baad925491d909874f52b2d5cba",
            "7bf52ae1062e43a7bb0d32fd80c38539",
            "4d680694bb4a4801bef885994ae1495a",
            "dcdb1433d99a4c889296b3743573db5c",
            "c2fa11e7a5a74287bfcdf151694a115c",
            "a3c2e7a78e7c43e698c5cd2284fcf067"
          ]
        },
        "id": "exEOziMDAYCS",
        "outputId": "a8abb800-7c3f-4573-f997-4c12ed5fcb88"
      },
      "execution_count": null,
      "outputs": [
        {
          "output_type": "stream",
          "name": "stderr",
          "text": [
            "/usr/local/lib/python3.11/dist-packages/huggingface_hub/utils/_auth.py:94: UserWarning: \n",
            "The secret `HF_TOKEN` does not exist in your Colab secrets.\n",
            "To authenticate with the Hugging Face Hub, create a token in your settings tab (https://huggingface.co/settings/tokens), set it as secret in your Google Colab and restart your session.\n",
            "You will be able to reuse this secret in all of your notebooks.\n",
            "Please note that authentication is recommended but still optional to access public models or datasets.\n",
            "  warnings.warn(\n"
          ]
        },
        {
          "output_type": "display_data",
          "data": {
            "text/plain": [
              "README.md:   0%|          | 0.00/5.16k [00:00<?, ?B/s]"
            ],
            "application/vnd.jupyter.widget-view+json": {
              "version_major": 2,
              "version_minor": 0,
              "model_id": "cf83a5449487444d92741e971c40a0c9"
            }
          },
          "metadata": {}
        },
        {
          "output_type": "display_data",
          "data": {
            "text/plain": [
              "train-00000-of-00001.parquet:   0%|          | 0.00/120M [00:00<?, ?B/s]"
            ],
            "application/vnd.jupyter.widget-view+json": {
              "version_major": 2,
              "version_minor": 0,
              "model_id": "170ce26b28d94c148390e706dff98878"
            }
          },
          "metadata": {}
        },
        {
          "output_type": "display_data",
          "data": {
            "text/plain": [
              "test-00000-of-00001.parquet:   0%|          | 0.00/23.9M [00:00<?, ?B/s]"
            ],
            "application/vnd.jupyter.widget-view+json": {
              "version_major": 2,
              "version_minor": 0,
              "model_id": "2ce502bb8da54e6f9cc49b2159c609ee"
            }
          },
          "metadata": {}
        },
        {
          "output_type": "display_data",
          "data": {
            "text/plain": [
              "Generating train split:   0%|          | 0/50000 [00:00<?, ? examples/s]"
            ],
            "application/vnd.jupyter.widget-view+json": {
              "version_major": 2,
              "version_minor": 0,
              "model_id": "bb483cd8808e4219bca4c80c54e35ef2"
            }
          },
          "metadata": {}
        },
        {
          "output_type": "display_data",
          "data": {
            "text/plain": [
              "Generating test split:   0%|          | 0/10000 [00:00<?, ? examples/s]"
            ],
            "application/vnd.jupyter.widget-view+json": {
              "version_major": 2,
              "version_minor": 0,
              "model_id": "49d151affe864d2a988908c99a5fdc95"
            }
          },
          "metadata": {}
        }
      ]
    },
    {
      "cell_type": "code",
      "source": [
        "id2label = {id:label for id, label in enumerate(train_ds.features['label'].names)}\n",
        "label2id = {label:id for id,label in id2label.items()}\n",
        "id2label"
      ],
      "metadata": {
        "colab": {
          "base_uri": "https://localhost:8080/"
        },
        "id": "9u28m7doAge4",
        "outputId": "78f33a12-c2f2-4493-b6ed-79ac9e97d97c"
      },
      "execution_count": null,
      "outputs": [
        {
          "output_type": "execute_result",
          "data": {
            "text/plain": [
              "{0: 'airplane',\n",
              " 1: 'automobile',\n",
              " 2: 'bird',\n",
              " 3: 'cat',\n",
              " 4: 'deer',\n",
              " 5: 'dog',\n",
              " 6: 'frog',\n",
              " 7: 'horse',\n",
              " 8: 'ship',\n",
              " 9: 'truck'}"
            ]
          },
          "metadata": {},
          "execution_count": 3
        }
      ]
    },
    {
      "cell_type": "code",
      "source": [
        "from transformers import ViTImageProcessor\n",
        "\n",
        "processor = ViTImageProcessor.from_pretrained(\"google/vit-base-patch16-224-in21k\")"
      ],
      "metadata": {
        "colab": {
          "base_uri": "https://localhost:8080/",
          "height": 119,
          "referenced_widgets": [
            "c499939209bc435a98369922e19455a1",
            "adf5ce0c31f14da285cf24e29152b5a9",
            "8c94597b92944d79a362a30436288750",
            "5d4071e500b44f8fb33a626fb157bbe8",
            "cb95b254c8464d3ab98ec4bd0f465e10",
            "5bdeb481da31438292808e4dd8046be6",
            "18f6b7fa551d401a93e099c4157fd0fc",
            "a00182df148042aaacab9122e4e834cb",
            "cc689aed6fcc4f5a9c572cbda72fd66b",
            "db0bcb7a3b784ab6a01810c20204cf2b",
            "2ae0e4012f96400797216d085f32ca74",
            "f33841baf2164fd7b84a06fcc673abd1",
            "307dd827f29041fbbb642709b4eddda8",
            "df1b6d1b859648b5a03363ef57665bf5",
            "b565c164772a4a8cbd0df3e7b1a184fb",
            "1c17c3a3670347318087f3e03f375723",
            "6deaf44dc0044dc696e6d7d37a75f8aa",
            "f8430b4ad0a94e3aac7e897a3c82218d",
            "cba521ff7dc44b5284b43561da7d8169",
            "aad700fe0f8c4619affbf7fe78748142",
            "d2362114e3054271841215096dff24e4",
            "531c4f276c2842c4b1e3781afd15f8c1"
          ]
        },
        "id": "L8ONa0riAlKZ",
        "outputId": "3bd2d35d-0fec-4338-9888-0f2129be33ac"
      },
      "execution_count": null,
      "outputs": [
        {
          "output_type": "stream",
          "name": "stderr",
          "text": [
            "The cache for model files in Transformers v4.22.0 has been updated. Migrating your old cache. This is a one-time only operation. You can interrupt this and resume the migration later on by calling `transformers.utils.move_cache()`.\n"
          ]
        },
        {
          "output_type": "display_data",
          "data": {
            "text/plain": [
              "0it [00:00, ?it/s]"
            ],
            "application/vnd.jupyter.widget-view+json": {
              "version_major": 2,
              "version_minor": 0,
              "model_id": "c499939209bc435a98369922e19455a1"
            }
          },
          "metadata": {}
        },
        {
          "output_type": "display_data",
          "data": {
            "text/plain": [
              "preprocessor_config.json:   0%|          | 0.00/160 [00:00<?, ?B/s]"
            ],
            "application/vnd.jupyter.widget-view+json": {
              "version_major": 2,
              "version_minor": 0,
              "model_id": "f33841baf2164fd7b84a06fcc673abd1"
            }
          },
          "metadata": {}
        }
      ]
    },
    {
      "cell_type": "code",
      "source": [
        "from torchvision.transforms import (CenterCrop,\n",
        "                                    Compose,\n",
        "                                    Normalize,\n",
        "                                    RandomHorizontalFlip,\n",
        "                                    RandomResizedCrop,\n",
        "                                    Resize,\n",
        "                                    ToTensor)\n",
        "\n",
        "image_mean, image_std = processor.image_mean, processor.image_std\n",
        "size = processor.size[\"height\"]\n",
        "\n",
        "normalize = Normalize(mean=image_mean, std=image_std)\n",
        "_train_transforms = Compose(\n",
        "        [\n",
        "            RandomResizedCrop(size),\n",
        "            RandomHorizontalFlip(),\n",
        "            ToTensor(),\n",
        "            normalize,\n",
        "        ]\n",
        "    )\n",
        "\n",
        "_val_transforms = Compose(\n",
        "        [\n",
        "            Resize(size),\n",
        "            CenterCrop(size),\n",
        "            ToTensor(),\n",
        "            normalize,\n",
        "        ]\n",
        "    )\n",
        "\n",
        "def train_transforms(examples):\n",
        "    examples['pixel_values'] = [_train_transforms(image.convert(\"RGB\")) for image in examples['img']]\n",
        "    return examples\n",
        "\n",
        "def val_transforms(examples):\n",
        "    examples['pixel_values'] = [_val_transforms(image.convert(\"RGB\")) for image in examples['img']]\n",
        "    return examples"
      ],
      "metadata": {
        "id": "2rIByZ0OAnRc"
      },
      "execution_count": null,
      "outputs": []
    },
    {
      "cell_type": "code",
      "source": [
        "train_ds.set_transform(train_transforms)\n",
        "val_ds.set_transform(val_transforms)\n",
        "test_ds.set_transform(val_transforms)"
      ],
      "metadata": {
        "id": "_1RHrDYQAt9d"
      },
      "execution_count": null,
      "outputs": []
    },
    {
      "cell_type": "code",
      "source": [
        "from torch.utils.data import DataLoader\n",
        "import torch\n",
        "\n",
        "def collate_fn(examples):\n",
        "    pixel_values = torch.stack([example[\"pixel_values\"] for example in examples])\n",
        "    labels = torch.tensor([example[\"label\"] for example in examples])\n",
        "    return {\"pixel_values\": pixel_values, \"labels\": labels}\n",
        "\n",
        "train_dataloader = DataLoader(train_ds, collate_fn=collate_fn, batch_size=4)"
      ],
      "metadata": {
        "id": "TiIe9uglAv53"
      },
      "execution_count": null,
      "outputs": []
    },
    {
      "cell_type": "code",
      "source": [
        "batch = next(iter(train_dataloader))\n",
        "for k,v in batch.items():\n",
        "  if isinstance(v, torch.Tensor):\n",
        "    print(k, v.shape)"
      ],
      "metadata": {
        "colab": {
          "base_uri": "https://localhost:8080/"
        },
        "id": "9r2lbPc9AyAm",
        "outputId": "ca277d34-e96d-4e35-d167-de41c8034941"
      },
      "execution_count": null,
      "outputs": [
        {
          "output_type": "stream",
          "name": "stdout",
          "text": [
            "pixel_values torch.Size([4, 3, 224, 224])\n",
            "labels torch.Size([4])\n"
          ]
        }
      ]
    },
    {
      "cell_type": "code",
      "source": [
        "from transformers import ViTForImageClassification\n",
        "\n",
        "model = ViTForImageClassification.from_pretrained('google/vit-base-patch16-224-in21k',\n",
        "                                                  id2label=id2label,\n",
        "                                                  label2id=label2id)"
      ],
      "metadata": {
        "colab": {
          "base_uri": "https://localhost:8080/",
          "height": 137,
          "referenced_widgets": [
            "2909ffcfb11b45aaa142163f50083658",
            "272f8027e02543808fe0d333d708d68a",
            "303290bdfc73457a8cc524245f97eead",
            "bba5acd741784ca3b27518a407f2dcd5",
            "3b73571bbc8645c5be4184a93a74692a",
            "7fd74a866d1948d1839dd4cc701768ca",
            "0f036d385fb145e3a4a7b892744dc0ac",
            "69990d27acc54b918605159618a89804",
            "9b8a6f01083349a8b8da573d09345a5e",
            "5c8c8967d9d64d7a940562d69e00cdfe",
            "999a3e80a78749a5861fad39ebc5dc37",
            "924797980c6c4b22a068cb832574aa6b",
            "5943f6fd4d4b4f909dd344441af319b7",
            "64a80607d927401094fb3fe585e0188d",
            "7d809267685d4f13929a690d946744a0",
            "61553b6fe9ba4cf78599feb526e22183",
            "faa8ff0218724296b3bfc08d6c436b1e",
            "653897f5036b46d89ef6c287a2341162",
            "151e15c47d0d4991aca3ebd06d5dfc90",
            "8291cd28346b4904ab1355689ddaeb9f",
            "4a12e3e5612448dd831593d7323fc3f1",
            "70d79cf8dcd94c0a8e0b7c3a2b8fbecd"
          ]
        },
        "id": "pbe3VrbAAzzO",
        "outputId": "55c600da-2b94-477a-f86c-0a145f3100c3"
      },
      "execution_count": null,
      "outputs": [
        {
          "output_type": "display_data",
          "data": {
            "text/plain": [
              "config.json:   0%|          | 0.00/502 [00:00<?, ?B/s]"
            ],
            "application/vnd.jupyter.widget-view+json": {
              "version_major": 2,
              "version_minor": 0,
              "model_id": "2909ffcfb11b45aaa142163f50083658"
            }
          },
          "metadata": {}
        },
        {
          "output_type": "display_data",
          "data": {
            "text/plain": [
              "model.safetensors:   0%|          | 0.00/346M [00:00<?, ?B/s]"
            ],
            "application/vnd.jupyter.widget-view+json": {
              "version_major": 2,
              "version_minor": 0,
              "model_id": "924797980c6c4b22a068cb832574aa6b"
            }
          },
          "metadata": {}
        },
        {
          "output_type": "stream",
          "name": "stderr",
          "text": [
            "Some weights of ViTForImageClassification were not initialized from the model checkpoint at google/vit-base-patch16-224-in21k and are newly initialized: ['classifier.bias', 'classifier.weight']\n",
            "You should probably TRAIN this model on a down-stream task to be able to use it for predictions and inference.\n"
          ]
        }
      ]
    },
    {
      "cell_type": "code",
      "source": [
        "from transformers import TrainingArguments, Trainer\n",
        "\n",
        "metric_name = \"accuracy\"\n",
        "\n",
        "args = TrainingArguments(\n",
        "    f\"test-cifar-10\",\n",
        "    save_strategy=\"epoch\",\n",
        "    evaluation_strategy=\"epoch\",\n",
        "    learning_rate=2e-5,\n",
        "    per_device_train_batch_size=10,\n",
        "    per_device_eval_batch_size=4,\n",
        "    num_train_epochs=3,\n",
        "    weight_decay=0.01,\n",
        "    load_best_model_at_end=True,\n",
        "    metric_for_best_model=metric_name,\n",
        "    logging_dir='logs',\n",
        "    remove_unused_columns=False,\n",
        ")"
      ],
      "metadata": {
        "colab": {
          "base_uri": "https://localhost:8080/"
        },
        "id": "gCR6usKMA15c",
        "outputId": "150d68bb-6605-4635-fb8b-faf6099a7b80"
      },
      "execution_count": null,
      "outputs": [
        {
          "output_type": "stream",
          "name": "stderr",
          "text": [
            "/usr/local/lib/python3.11/dist-packages/transformers/training_args.py:1575: FutureWarning: `evaluation_strategy` is deprecated and will be removed in version 4.46 of 🤗 Transformers. Use `eval_strategy` instead\n",
            "  warnings.warn(\n"
          ]
        }
      ]
    },
    {
      "cell_type": "code",
      "source": [
        "from sklearn.metrics import accuracy_score\n",
        "import numpy as np\n",
        "\n",
        "def compute_metrics(eval_pred):\n",
        "    predictions, labels = eval_pred\n",
        "    predictions = np.argmax(predictions, axis=1)\n",
        "    return dict(accuracy=accuracy_score(predictions, labels))"
      ],
      "metadata": {
        "id": "_xZtsJ39A4rl"
      },
      "execution_count": null,
      "outputs": []
    },
    {
      "cell_type": "code",
      "source": [
        "import torch\n",
        "\n",
        "trainer = Trainer(\n",
        "    model,\n",
        "    args,\n",
        "    train_dataset=train_ds,\n",
        "    eval_dataset=val_ds,\n",
        "    data_collator=collate_fn,\n",
        "    compute_metrics=compute_metrics,\n",
        "    tokenizer=processor,\n",
        ")"
      ],
      "metadata": {
        "colab": {
          "base_uri": "https://localhost:8080/"
        },
        "id": "TYnEM-PGA78g",
        "outputId": "3089cf4b-308e-42eb-d981-3e0f4ddcdf8a"
      },
      "execution_count": null,
      "outputs": [
        {
          "output_type": "stream",
          "name": "stderr",
          "text": [
            "<ipython-input-12-0bb229cc289f>:3: FutureWarning: `tokenizer` is deprecated and will be removed in version 5.0.0 for `Trainer.__init__`. Use `processing_class` instead.\n",
            "  trainer = Trainer(\n"
          ]
        }
      ]
    },
    {
      "cell_type": "code",
      "source": [
        "trainer.train()"
      ],
      "metadata": {
        "colab": {
          "base_uri": "https://localhost:8080/",
          "height": 561
        },
        "id": "RTBxfAhNA9tu",
        "outputId": "4b67fc4b-1281-4d42-bf87-3c3facfdfe85"
      },
      "execution_count": null,
      "outputs": [
        {
          "output_type": "stream",
          "name": "stderr",
          "text": [
            "\u001b[34m\u001b[1mwandb\u001b[0m: \u001b[33mWARNING\u001b[0m The `run_name` is currently set to the same value as `TrainingArguments.output_dir`. If this was not intended, please specify a different run name by setting the `TrainingArguments.run_name` parameter.\n",
            "\u001b[34m\u001b[1mwandb\u001b[0m: Using wandb-core as the SDK backend.  Please refer to https://wandb.me/wandb-core for more information.\n"
          ]
        },
        {
          "output_type": "display_data",
          "data": {
            "text/plain": [
              "<IPython.core.display.Javascript object>"
            ],
            "application/javascript": [
              "\n",
              "        window._wandbApiKey = new Promise((resolve, reject) => {\n",
              "            function loadScript(url) {\n",
              "            return new Promise(function(resolve, reject) {\n",
              "                let newScript = document.createElement(\"script\");\n",
              "                newScript.onerror = reject;\n",
              "                newScript.onload = resolve;\n",
              "                document.body.appendChild(newScript);\n",
              "                newScript.src = url;\n",
              "            });\n",
              "            }\n",
              "            loadScript(\"https://cdn.jsdelivr.net/npm/postmate/build/postmate.min.js\").then(() => {\n",
              "            const iframe = document.createElement('iframe')\n",
              "            iframe.style.cssText = \"width:0;height:0;border:none\"\n",
              "            document.body.appendChild(iframe)\n",
              "            const handshake = new Postmate({\n",
              "                container: iframe,\n",
              "                url: 'https://wandb.ai/authorize'\n",
              "            });\n",
              "            const timeout = setTimeout(() => reject(\"Couldn't auto authenticate\"), 5000)\n",
              "            handshake.then(function(child) {\n",
              "                child.on('authorize', data => {\n",
              "                    clearTimeout(timeout)\n",
              "                    resolve(data)\n",
              "                });\n",
              "            });\n",
              "            })\n",
              "        });\n",
              "    "
            ]
          },
          "metadata": {}
        },
        {
          "output_type": "stream",
          "name": "stderr",
          "text": [
            "\u001b[34m\u001b[1mwandb\u001b[0m: Logging into wandb.ai. (Learn how to deploy a W&B server locally: https://wandb.me/wandb-server)\n",
            "\u001b[34m\u001b[1mwandb\u001b[0m: You can find your API key in your browser here: https://wandb.ai/authorize\n",
            "wandb: Paste an API key from your profile and hit enter:"
          ]
        },
        {
          "name": "stdout",
          "output_type": "stream",
          "text": [
            " ··········\n"
          ]
        },
        {
          "output_type": "stream",
          "name": "stderr",
          "text": [
            "\u001b[34m\u001b[1mwandb\u001b[0m: \u001b[33mWARNING\u001b[0m If you're specifying your api key in code, ensure this code is not shared publicly.\n",
            "\u001b[34m\u001b[1mwandb\u001b[0m: \u001b[33mWARNING\u001b[0m Consider setting the WANDB_API_KEY environment variable, or running `wandb login` from the command line.\n",
            "\u001b[34m\u001b[1mwandb\u001b[0m: No netrc file found, creating one.\n",
            "\u001b[34m\u001b[1mwandb\u001b[0m: Appending key for api.wandb.ai to your netrc file: /root/.netrc\n",
            "\u001b[34m\u001b[1mwandb\u001b[0m: Currently logged in as: \u001b[33mmikiokumada723\u001b[0m (\u001b[33mmikiokumada723-university-of-texas-at-dallas\u001b[0m) to \u001b[32mhttps://api.wandb.ai\u001b[0m. Use \u001b[1m`wandb login --relogin`\u001b[0m to force relogin\n"
          ]
        },
        {
          "output_type": "display_data",
          "data": {
            "text/plain": [
              "<IPython.core.display.HTML object>"
            ],
            "text/html": [
              "Tracking run with wandb version 0.19.8"
            ]
          },
          "metadata": {}
        },
        {
          "output_type": "display_data",
          "data": {
            "text/plain": [
              "<IPython.core.display.HTML object>"
            ],
            "text/html": [
              "Run data is saved locally in <code>/content/wandb/run-20250319_153041-22bhccpk</code>"
            ]
          },
          "metadata": {}
        },
        {
          "output_type": "display_data",
          "data": {
            "text/plain": [
              "<IPython.core.display.HTML object>"
            ],
            "text/html": [
              "Syncing run <strong><a href='https://wandb.ai/mikiokumada723-university-of-texas-at-dallas/huggingface/runs/22bhccpk' target=\"_blank\">test-cifar-10</a></strong> to <a href='https://wandb.ai/mikiokumada723-university-of-texas-at-dallas/huggingface' target=\"_blank\">Weights & Biases</a> (<a href='https://wandb.me/developer-guide' target=\"_blank\">docs</a>)<br>"
            ]
          },
          "metadata": {}
        },
        {
          "output_type": "display_data",
          "data": {
            "text/plain": [
              "<IPython.core.display.HTML object>"
            ],
            "text/html": [
              " View project at <a href='https://wandb.ai/mikiokumada723-university-of-texas-at-dallas/huggingface' target=\"_blank\">https://wandb.ai/mikiokumada723-university-of-texas-at-dallas/huggingface</a>"
            ]
          },
          "metadata": {}
        },
        {
          "output_type": "display_data",
          "data": {
            "text/plain": [
              "<IPython.core.display.HTML object>"
            ],
            "text/html": [
              " View run at <a href='https://wandb.ai/mikiokumada723-university-of-texas-at-dallas/huggingface/runs/22bhccpk' target=\"_blank\">https://wandb.ai/mikiokumada723-university-of-texas-at-dallas/huggingface/runs/22bhccpk</a>"
            ]
          },
          "metadata": {}
        },
        {
          "output_type": "display_data",
          "data": {
            "text/plain": [
              "<IPython.core.display.HTML object>"
            ],
            "text/html": [
              "\n",
              "    <div>\n",
              "      \n",
              "      <progress value='13500' max='13500' style='width:300px; height:20px; vertical-align: middle;'></progress>\n",
              "      [13500/13500 1:26:59, Epoch 3/3]\n",
              "    </div>\n",
              "    <table border=\"1\" class=\"dataframe\">\n",
              "  <thead>\n",
              " <tr style=\"text-align: left;\">\n",
              "      <th>Epoch</th>\n",
              "      <th>Training Loss</th>\n",
              "      <th>Validation Loss</th>\n",
              "      <th>Accuracy</th>\n",
              "    </tr>\n",
              "  </thead>\n",
              "  <tbody>\n",
              "    <tr>\n",
              "      <td>1</td>\n",
              "      <td>0.321900</td>\n",
              "      <td>0.077267</td>\n",
              "      <td>0.982200</td>\n",
              "    </tr>\n",
              "    <tr>\n",
              "      <td>2</td>\n",
              "      <td>0.252100</td>\n",
              "      <td>0.052497</td>\n",
              "      <td>0.986200</td>\n",
              "    </tr>\n",
              "    <tr>\n",
              "      <td>3</td>\n",
              "      <td>0.197300</td>\n",
              "      <td>0.044954</td>\n",
              "      <td>0.987600</td>\n",
              "    </tr>\n",
              "  </tbody>\n",
              "</table><p>"
            ]
          },
          "metadata": {}
        },
        {
          "output_type": "execute_result",
          "data": {
            "text/plain": [
              "TrainOutput(global_step=13500, training_loss=0.332756906580042, metrics={'train_runtime': 5413.7798, 'train_samples_per_second': 24.936, 'train_steps_per_second': 2.494, 'total_flos': 1.046216869705728e+19, 'train_loss': 0.332756906580042, 'epoch': 3.0})"
            ]
          },
          "metadata": {},
          "execution_count": 13
        }
      ]
    },
    {
      "cell_type": "code",
      "source": [
        "outputs = trainer.predict(test_ds)"
      ],
      "metadata": {
        "colab": {
          "base_uri": "https://localhost:8080/",
          "height": 17
        },
        "id": "FFPvOKOBBEvH",
        "outputId": "bc5e16b9-a1d7-4757-9d28-b09360804566"
      },
      "execution_count": null,
      "outputs": [
        {
          "output_type": "display_data",
          "data": {
            "text/plain": [
              "<IPython.core.display.HTML object>"
            ],
            "text/html": []
          },
          "metadata": {}
        }
      ]
    },
    {
      "cell_type": "code",
      "source": [
        "print(outputs.metrics)"
      ],
      "metadata": {
        "colab": {
          "base_uri": "https://localhost:8080/"
        },
        "id": "TR7NmIPPVwyQ",
        "outputId": "069f2b3e-19f3-4cfd-b1b6-0c9c11c204b6"
      },
      "execution_count": null,
      "outputs": [
        {
          "output_type": "stream",
          "name": "stdout",
          "text": [
            "{'test_loss': 0.04871242493391037, 'test_accuracy': 0.9875, 'test_runtime': 136.9389, 'test_samples_per_second': 73.025, 'test_steps_per_second': 18.256}\n"
          ]
        }
      ]
    },
    {
      "cell_type": "code",
      "source": [
        "from sklearn.metrics import confusion_matrix, ConfusionMatrixDisplay\n",
        "import matplotlib.pyplot as plt\n",
        "\n",
        "y_true = outputs.label_ids\n",
        "y_pred = outputs.predictions.argmax(1)\n",
        "\n",
        "labels = train_ds.features['label'].names\n",
        "cm = confusion_matrix(y_true, y_pred)\n",
        "disp = ConfusionMatrixDisplay(confusion_matrix=cm, display_labels=labels)\n",
        "disp.plot(xticks_rotation=45, cmap='plasma')\n",
        "plt.show()"
      ],
      "metadata": {
        "colab": {
          "base_uri": "https://localhost:8080/",
          "height": 501
        },
        "id": "cl4I_YlIWa2n",
        "outputId": "47a0e243-4137-4977-f6d9-d13bf52c375b"
      },
      "execution_count": null,
      "outputs": [
        {
          "output_type": "display_data",
          "data": {
            "text/plain": [
              "<Figure size 640x480 with 2 Axes>"
            ],
            "image/png": "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\n"
          },
          "metadata": {}
        }
      ]
    },
    {
      "cell_type": "code",
      "source": [
        "# Precision\n",
        "from sklearn.metrics import precision_score\n",
        "precision = precision_score(y_true, y_pred, average='weighted')\n",
        "print('Precision:', precision)\n",
        "\n",
        "# Recall\n",
        "from sklearn.metrics import recall_score\n",
        "recall = recall_score(y_true, y_pred, average='weighted')\n",
        "print('Recall:', recall)\n",
        "\n",
        "# F1 score\n",
        "from sklearn.metrics import f1_score\n",
        "f1 = f1_score(y_true, y_pred, average='weighted')\n",
        "print('F1 score:', f1)"
      ],
      "metadata": {
        "colab": {
          "base_uri": "https://localhost:8080/"
        },
        "id": "6Ub7U0zWbgeL",
        "outputId": "e347b646-9fa9-4615-ea14-1d17976e3335"
      },
      "execution_count": null,
      "outputs": [
        {
          "output_type": "stream",
          "name": "stdout",
          "text": [
            "Precision: 0.9875017786173593\n",
            "Recall: 0.9875\n",
            "F1 score: 0.987494862680861\n"
          ]
        }
      ]
    }
  ]
}
