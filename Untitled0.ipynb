{
  "nbformat": 4,
  "nbformat_minor": 0,
  "metadata": {
    "colab": {
      "provenance": [],
      "include_colab_link": true
    },
    "kernelspec": {
      "name": "python3",
      "display_name": "Python 3"
    },
    "language_info": {
      "name": "python"
    }
  },
  "cells": [
    {
      "cell_type": "markdown",
      "metadata": {
        "id": "view-in-github",
        "colab_type": "text"
      },
      "source": [
        "<a href=\"https://colab.research.google.com/github/itoshiyanazawa/cnn_project/blob/main/Untitled0.ipynb\" target=\"_parent\"><img src=\"https://colab.research.google.com/assets/colab-badge.svg\" alt=\"Open In Colab\"/></a>"
      ]
    },
    {
      "cell_type": "markdown",
      "source": [
        "# Setting up environment"
      ],
      "metadata": {
        "id": "kQ6WynfE35rS"
      }
    },
    {
      "cell_type": "code",
      "execution_count": 13,
      "metadata": {
        "id": "GJX-xU931oGK"
      },
      "outputs": [],
      "source": [
        "import torch\n",
        "import torchvision\n",
        "import torchvision.transforms as transforms\n",
        "import matplotlib.pyplot as plt\n",
        "import numpy as np\n",
        "import collections"
      ]
    },
    {
      "cell_type": "markdown",
      "source": [
        "# Load Data"
      ],
      "metadata": {
        "id": "Aysg5nE54cEy"
      }
    },
    {
      "cell_type": "code",
      "source": [
        "transform = transforms.Compose(\n",
        "    [transforms.ToTensor(),\n",
        "     transforms.Normalize((0.5, 0.5, 0.5), (0.5, 0.5, 0.5))])\n",
        "\n",
        "batch_size = 4\n",
        "\n",
        "trainset = torchvision.datasets.CIFAR10(root='./data', train=True,\n",
        "                                        download=True, transform=transform)\n",
        "trainloader = torch.utils.data.DataLoader(trainset, batch_size=batch_size,\n",
        "                                          shuffle=True, num_workers=2)\n",
        "\n",
        "testset = torchvision.datasets.CIFAR10(root='./data', train=False,\n",
        "                                       download=True, transform=transform)\n",
        "testloader = torch.utils.data.DataLoader(testset, batch_size=batch_size,\n",
        "                                         shuffle=False, num_workers=2)\n",
        "\n",
        "classes = ('plane', 'car', 'bird', 'cat',\n",
        "           'deer', 'dog', 'frog', 'horse', 'ship', 'truck')"
      ],
      "metadata": {
        "colab": {
          "base_uri": "https://localhost:8080/"
        },
        "id": "R9NMXWLQ3prM",
        "outputId": "cd994ce3-b62e-4368-8a7b-922626729f9d"
      },
      "execution_count": 2,
      "outputs": [
        {
          "output_type": "stream",
          "name": "stdout",
          "text": [
            "Downloading https://www.cs.toronto.edu/~kriz/cifar-10-python.tar.gz to ./data/cifar-10-python.tar.gz\n"
          ]
        },
        {
          "output_type": "stream",
          "name": "stderr",
          "text": [
            "100%|██████████| 170M/170M [00:02<00:00, 75.4MB/s]\n"
          ]
        },
        {
          "output_type": "stream",
          "name": "stdout",
          "text": [
            "Extracting ./data/cifar-10-python.tar.gz to ./data\n",
            "Files already downloaded and verified\n"
          ]
        }
      ]
    },
    {
      "cell_type": "code",
      "source": [
        "# functions to show an image\n",
        "\n",
        "\n",
        "def imshow(img):\n",
        "    img = img / 2 + 0.5     # unnormalize\n",
        "    npimg = img.numpy()\n",
        "    plt.imshow(np.transpose(npimg, (1, 2, 0)))\n",
        "    plt.show()\n",
        "\n",
        "\n",
        "# get some random training images\n",
        "dataiter = iter(trainloader)\n",
        "images, labels = next(dataiter)\n",
        "\n",
        "# show images\n",
        "imshow(torchvision.utils.make_grid(images))\n",
        "# print labels\n",
        "print(' '.join(f'{classes[labels[j]]:5s}' for j in range(batch_size)))"
      ],
      "metadata": {
        "colab": {
          "base_uri": "https://localhost:8080/",
          "height": 211
        },
        "id": "KreuQnk04SUz",
        "outputId": "a1a752b1-6ba3-4d81-8ef0-fa6fc43e08cc"
      },
      "execution_count": 3,
      "outputs": [
        {
          "output_type": "display_data",
          "data": {
            "text/plain": [
              "<Figure size 640x480 with 1 Axes>"
            ],
            "image/png": "[encoded data removed]"
          },
          "metadata": {}
        },
        {
          "output_type": "stream",
          "name": "stdout",
          "text": [
            "truck plane ship  deer \n"
          ]
        }
      ]
    },
    {
      "cell_type": "markdown",
      "source": [
        "# EDA\n",
        "\n",
        "\n",
        "---\n",
        "\n",
        "## **Key Questions to Answer Before Building the CNN Model**\n",
        "### **1. Dataset Size and Class Balance**  \n",
        "   ✅ **Questions to Answer:**  \n",
        "   - How many images are in the dataset?  \n",
        "    - Train: 50000, Test: 10000\n",
        "   - Are the classes imbalanced? If so, how severe is the imbalance?  \n",
        "    - No, balanced\n",
        "\n",
        "\n",
        "   🛠 **How to Use for CNN:**  \n",
        "   - There are enough data for each class, train, and test data\n",
        "\n",
        "---\n",
        "\n"
      ],
      "metadata": {
        "id": "szjodebT56qt"
      }
    },
    {
      "cell_type": "code",
      "source": [
        "testset"
      ],
      "metadata": {
        "colab": {
          "base_uri": "https://localhost:8080/"
        },
        "id": "kb2gUlNl8Ne_",
        "outputId": "465d737c-c2d5-454c-8b50-5873fef5db1f"
      },
      "execution_count": 4,
      "outputs": [
        {
          "output_type": "execute_result",
          "data": {
            "text/plain": [
              "Dataset CIFAR10\n",
              "    Number of datapoints: 10000\n",
              "    Root location: ./data\n",
              "    Split: Test\n",
              "    StandardTransform\n",
              "Transform: Compose(\n",
              "               ToTensor()\n",
              "               Normalize(mean=(0.5, 0.5, 0.5), std=(0.5, 0.5, 0.5))\n",
              "           )"
            ]
          },
          "metadata": {},
          "execution_count": 4
        }
      ]
    },
    {
      "cell_type": "code",
      "source": [
        "# Create a dictionary to store class counts\n",
        "\n",
        "class_counts = {i: 0 for i in range(10)}\n",
        "\n",
        "\n",
        "for label in trainset.targets:\n",
        "\n",
        "    class_counts[label] += 1\n",
        "\n",
        "\n",
        "\n",
        "print(class_counts)"
      ],
      "metadata": {
        "colab": {
          "base_uri": "https://localhost:8080/"
        },
        "id": "yjDvLaD9_qGT",
        "outputId": "21649f14-0992-4471-e6e0-edd59b5e2420"
      },
      "execution_count": 5,
      "outputs": [
        {
          "output_type": "stream",
          "name": "stdout",
          "text": [
            "{0: 5000, 1: 5000, 2: 5000, 3: 5000, 4: 5000, 5: 5000, 6: 5000, 7: 5000, 8: 5000, 9: 5000}\n"
          ]
        }
      ]
    },
    {
      "cell_type": "code",
      "source": [
        "class_counts = {i: 0 for i in range(10)}\n",
        "\n",
        "\n",
        "for label in testset.targets:\n",
        "\n",
        "    class_counts[label] += 1\n",
        "\n",
        "\n",
        "\n",
        "print(class_counts)"
      ],
      "metadata": {
        "colab": {
          "base_uri": "https://localhost:8080/"
        },
        "id": "FjfirOthAOSJ",
        "outputId": "35af333f-da1f-438f-cb3b-874a57f17ccf"
      },
      "execution_count": 6,
      "outputs": [
        {
          "output_type": "stream",
          "name": "stdout",
          "text": [
            "{0: 1000, 1: 1000, 2: 1000, 3: 1000, 4: 1000, 5: 1000, 6: 1000, 7: 1000, 8: 1000, 9: 1000}\n"
          ]
        }
      ]
    },
    {
      "cell_type": "markdown",
      "source": [
        "### **2. Image Quality and Consistency**  \n",
        "   ✅ **Questions to Answer:**  \n",
        "   - Are all images in a consistent **file format** (JPEG, PNG, etc.)?  \n",
        "   - Are there any **corrupted images**?  \n",
        "\n",
        "   🛠 **How to Use for CNN:**  \n",
        "   - Remove **corrupted images** to avoid errors during training.  \n",
        "   - Convert all images to a **standard format** (e.g., `.jpg`) for consistency.  \n",
        "\n",
        "---\n",
        "\n"
      ],
      "metadata": {
        "id": "8nDjM_FA8zpf"
      }
    },
    {
      "cell_type": "code",
      "source": [
        "def check_dataset_integrity(dataloader, num_batches=5):\n",
        "    for i, (images, labels) in enumerate(dataloader):\n",
        "        if i >= num_batches:\n",
        "            break\n",
        "        try:\n",
        "            _ = images.numpy()\n",
        "        except Exception as e:\n",
        "            print(f\"Corrupted image detected in batch {i}: {e}\")\n",
        "            return False\n",
        "    print(\"✅ Dataset integrity check passed! No corrupted images found.\")\n",
        "    return True\n",
        "# Run the check on training and test sets\n",
        "print(\"Checking training dataset...\")\n",
        "check_dataset_integrity(trainloader)\n",
        "\n",
        "print(\"Checking test dataset...\")\n",
        "check_dataset_integrity(testloader)\n",
        "\n",
        "# Count the number of images per class in the training set\n",
        "train_class_counts = collections.Counter(trainset.targets)\n",
        "print(\"Training set class distribution:\", train_class_counts)\n",
        "\n",
        "# Count the number of images per class in the test set\n",
        "test_class_counts = collections.Counter(testset.targets)\n",
        "print(\"Test set class distribution:\", test_class_counts)"
      ],
      "metadata": {
        "id": "8wX-r7Rs8ZX3",
        "outputId": "fd026262-801e-43f7-bfcb-05f4793e08e7",
        "colab": {
          "base_uri": "https://localhost:8080/"
        }
      },
      "execution_count": 14,
      "outputs": [
        {
          "output_type": "stream",
          "name": "stdout",
          "text": [
            "Checking training dataset...\n",
            "✅ Dataset integrity check passed! No corrupted images found.\n",
            "Checking test dataset...\n",
            "✅ Dataset integrity check passed! No corrupted images found.\n",
            "Training set class distribution: Counter({6: 5000, 9: 5000, 4: 5000, 1: 5000, 2: 5000, 7: 5000, 8: 5000, 3: 5000, 5: 5000, 0: 5000})\n",
            "Test set class distribution: Counter({3: 1000, 8: 1000, 0: 1000, 6: 1000, 1: 1000, 9: 1000, 5: 1000, 7: 1000, 4: 1000, 2: 1000})\n"
          ]
        }
      ]
    },
    {
      "cell_type": "markdown",
      "source": [
        "### **3. Image Dimensions and Aspect Ratio**  \n",
        "   ✅ **Questions to Answer:**  \n",
        "   - Are all images of the **same size**, or do they vary?  \n",
        "   - What are the most common **aspect ratios**?  \n",
        "\n",
        "   🛠 **How to Use for CNN:**  \n",
        "   - CNN models require a **fixed input size**, so decide on a **common resolution** (e.g., `224x224` for ResNet, `299x299` for Inception).  \n",
        "   - If aspect ratios vary, consider **cropping**, **padding**, or **resizing** (e.g., using `cv2.resize()` or `PIL.Image.resize()`).  \n",
        "\n",
        "---\n",
        "\n"
      ],
      "metadata": {
        "id": "7n1C6VR18982"
      }
    },
    {
      "cell_type": "code",
      "source": [],
      "metadata": {
        "id": "RLK5WZpz9DLb"
      },
      "execution_count": 6,
      "outputs": []
    },
    {
      "cell_type": "markdown",
      "source": [
        "### **4. Color Channels (RGB vs. Grayscale)**  \n",
        "   ✅ **Questions to Answer:**  \n",
        "   - Are all images **RGB**, **grayscale**, or a mix?  \n",
        "   - Does color information matter for classification?  \n",
        "\n",
        "   🛠 **How to Use for CNN:**  \n",
        "   - If images are **grayscale**, decide whether to:  \n",
        "     - Convert to **RGB (3 channels)** (e.g., `cv2.cvtColor(image, cv2.COLOR_GRAY2RGB)`).  \n",
        "     - Keep as **single-channel grayscale** (modify CNN input layer).  \n",
        "   - If color is **important**, avoid grayscale conversion.  \n",
        "\n",
        "---\n",
        "\n"
      ],
      "metadata": {
        "id": "dvW2XULK9Eok"
      }
    },
    {
      "cell_type": "code",
      "source": [],
      "metadata": {
        "id": "CCQYmeV59IoD"
      },
      "execution_count": 6,
      "outputs": []
    },
    {
      "cell_type": "markdown",
      "source": [
        "### **5. Dataset Visualization & Patterns**  \n",
        "   ✅ **Questions to Answer:**  \n",
        "   - Are images **visually distinct** across classes?  \n",
        "   - Are there **misclassified labels** (e.g., wrong categories)?  \n",
        "\n",
        "   🛠 **How to Use for CNN:**  \n",
        "   - If classes look **too similar**, consider **fine-tuning a pre-trained model** (e.g., ResNet, EfficientNet).  \n",
        "   - If there are **mislabelled images**, correct them before training.  \n",
        "\n",
        "---\n",
        "\n"
      ],
      "metadata": {
        "id": "BkOGPi219JKz"
      }
    },
    {
      "cell_type": "code",
      "source": [],
      "metadata": {
        "id": "WO6XEK8u9Mfz"
      },
      "execution_count": 6,
      "outputs": []
    },
    {
      "cell_type": "markdown",
      "source": [
        "### **6. Pixel Intensity & Normalization Strategy**  \n",
        "   ✅ **Questions to Answer:**  \n",
        "   - What is the **distribution of pixel values** (0–255 or already normalized)?  \n",
        "   - What are the **mean and standard deviation** of pixel intensities per channel?  \n",
        "\n",
        "   🛠 **How to Use for CNN:**  \n",
        "   - If pixel values range from **0–255**, normalize them to **[0,1]** (`image/255.0`) or **[-1,1]** (`(image - mean) / std`).  \n",
        "   - Use **mean and std normalization** (`torchvision.transforms.Normalize(mean, std)`) for faster convergence.  \n",
        "\n",
        "---\n",
        "\n"
      ],
      "metadata": {
        "id": "Kpg7ECVJ9M7N"
      }
    },
    {
      "cell_type": "code",
      "source": [],
      "metadata": {
        "id": "6m6usy1A9P2j"
      },
      "execution_count": 6,
      "outputs": []
    },
    {
      "cell_type": "markdown",
      "source": [
        "### **7. Brightness & Contrast Analysis**  \n",
        "   ✅ **Questions to Answer:**  \n",
        "   - Are some images **too dark or too bright**?  \n",
        "   - Is there **inconsistent lighting**?  \n",
        "\n",
        "   🛠 **How to Use for CNN:**  \n",
        "   - If brightness varies, consider **adaptive histogram equalization** (e.g., CLAHE) or **auto-contrast adjustments**.  \n",
        "   - Use **data augmentation** to simulate different lighting conditions (brightness/contrast shifts).  \n",
        "\n",
        "---\n",
        "\n",
        "\n"
      ],
      "metadata": {
        "id": "tOaarmgL9Qeh"
      }
    },
    {
      "cell_type": "code",
      "source": [],
      "metadata": {
        "id": "nxBPxYeB9UA-"
      },
      "execution_count": 6,
      "outputs": []
    },
    {
      "cell_type": "markdown",
      "source": [
        "## **Final Steps Before CNN Model Training**\n",
        "After EDA, apply these insights to your **CNN pipeline**:  \n",
        "\n",
        "1️⃣ **Preprocess Data**  \n",
        "   - Resize all images to a fixed shape (`cv2.resize`, `PIL.Image`).  \n",
        "   - Convert grayscale to RGB if needed.  \n",
        "   - Normalize pixel values (e.g., `[0,1]` or `[-1,1]`).  \n",
        "\n",
        "2️⃣ **Handle Class Imbalance**  \n",
        "   - If imbalance exists, use **class weighting**, **oversampling**, or **data augmentation**.  \n",
        "\n",
        "3️⃣ **Augmentation Strategy**  \n",
        "   - Apply augmentations like **random rotation, flipping, brightness changes**, etc.  \n",
        "   - Ensure augmentations **preserve class characteristics**.  \n",
        "\n",
        "4️⃣ **Decide on a CNN Architecture**  \n",
        "   - Use a **pretrained model** (ResNet, VGG, EfficientNet) if classes are complex.  \n",
        "   - Use a **custom CNN** if data is simple and limited.  \n",
        "\n",
        "---\n",
        "\n",
        "### **Summary**\n",
        "**EDA is crucial for CNN training because it helps you:**  \n",
        "✔️ Identify class imbalance and decide on augmentation strategies.  \n",
        "✔️ Ensure consistent image format, size, and color channels.  \n",
        "✔️ Choose the right preprocessing techniques (resizing, normalization).  \n",
        "✔️ Handle pixel intensity variations for better model convergence.  \n",
        "✔️ Improve CNN model choice and hyperparameters based on dataset insights.  \n",
        "\n",
        "By leveraging EDA, you **minimize preprocessing errors**, **enhance model performance**, and **avoid training inefficiencies**. 🚀\n"
      ],
      "metadata": {
        "id": "90fF7Ugu9Ufm"
      }
    },
    {
      "cell_type": "code",
      "source": [],
      "metadata": {
        "id": "oda2RlyJ9VzK"
      },
      "execution_count": 6,
      "outputs": []
    }
  ]
}